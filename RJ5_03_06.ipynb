{
  "cells": [
    {
      "cell_type": "markdown",
      "metadata": {
        "id": "O5fjKsHwg8KY"
      },
      "source": [
        "#UČITAVANJE PODATAKA"
      ]
    },
    {
      "cell_type": "markdown",
      "metadata": {
        "id": "GQY5AGXdD6D9"
      },
      "source": [
        "TRAIN"
      ]
    },
    {
      "cell_type": "code",
      "execution_count": null,
      "metadata": {
        "id": "r9Qn5vFeg281"
      },
      "outputs": [],
      "source": [
        "import pandas as pd\n",
        "from imblearn.over_sampling import SMOTE\n",
        "from collections import Counter  # Dodali smo uvoz Counter\n"
      ]
    },
    {
      "cell_type": "code",
      "execution_count": null,
      "metadata": {
        "colab": {
          "base_uri": "https://localhost:8080/"
        },
        "id": "3ACaj7DBqaG_",
        "outputId": "8e8869f9-eef9-4108-c757-55ea296fa080"
      },
      "outputs": [
        {
          "output_type": "stream",
          "name": "stdout",
          "text": [
            "Drive already mounted at /content/drive; to attempt to forcibly remount, call drive.mount(\"/content/drive\", force_remount=True).\n"
          ]
        }
      ],
      "source": [
        "from google.colab import drive\n",
        "drive.mount('/content/drive')"
      ]
    },
    {
      "cell_type": "code",
      "execution_count": null,
      "metadata": {
        "colab": {
          "base_uri": "https://localhost:8080/"
        },
        "id": "r8khPsXYhBPA",
        "outputId": "b66574e5-ddd1-4dbf-fea8-193344daaf92"
      },
      "outputs": [
        {
          "output_type": "stream",
          "name": "stdout",
          "text": [
            "/content/drive/MyDrive/data\n"
          ]
        }
      ],
      "source": [
        "%cd /content/drive/MyDrive/data"
      ]
    },
    {
      "cell_type": "code",
      "execution_count": null,
      "metadata": {
        "id": "DWbgKms4hCvD"
      },
      "outputs": [],
      "source": [
        "podaci = pd.read_csv(\"train.csv\")"
      ]
    },
    {
      "cell_type": "code",
      "execution_count": null,
      "metadata": {
        "colab": {
          "base_uri": "https://localhost:8080/",
          "height": 424
        },
        "id": "etES4uHoufkt",
        "outputId": "939e7923-7bb2-44fc-f2b4-7416d182769a"
      },
      "outputs": [
        {
          "output_type": "execute_result",
          "data": {
            "text/plain": [
              "       Unnamed: 0 AdmissionDx AdmissionType  PreviousAdmissionDays  LOS  \\\n",
              "0               1           I     Elektivni                     -8    1   \n",
              "1               2           I     Elektivni                     -8   16   \n",
              "2               3           I     Elektivni                    279    3   \n",
              "3               4           I     Elektivni                   1905    2   \n",
              "4               5           I     Elektivni                     -8    2   \n",
              "...           ...         ...           ...                    ...  ...   \n",
              "28582      259512           I     Elektivni                     -8    1   \n",
              "28583      259572           R         Hitni                     -8   15   \n",
              "28584      259592           I     Elektivni                     -8    4   \n",
              "28585      261752           I     Elektivni                     -8    1   \n",
              "28586      262502           I     Elektivni                     -8   61   \n",
              "\n",
              "      Age_Group Gender  Surgery_Count  LOS_ICU  Discharge_Specialty  ...  L  \\\n",
              "0         83-87      Ž              0        0              3010100  ...  0   \n",
              "1         68-72      M              1        0              3100400  ...  0   \n",
              "2         18-22      Ž              1        0              3010100  ...  0   \n",
              "3         83-87      M              0        0              3010100  ...  0   \n",
              "4         73-77      M              0        0              3010100  ...  0   \n",
              "...         ...    ...            ...      ...                  ...  ... ..   \n",
              "28582     68-72      M              0        0              3010100  ...  0   \n",
              "28583     43-47      M              0        0              3010100  ...  0   \n",
              "28584     73-77      Ž              0        0              3010100  ...  0   \n",
              "28585     63-67      M              0        0              3100400  ...  0   \n",
              "28586     53-57      M              2       45              3190100  ...  0   \n",
              "\n",
              "       M  N  Q  R  S  T  U  Y  Z  \n",
              "0      0  0  0  0  0  0  0  0  2  \n",
              "1      0  0  0  0  0  0  0  0  0  \n",
              "2      0  0  0  0  0  0  0  0  0  \n",
              "3      0  1  0  0  0  0  0  0  0  \n",
              "4      0  1  0  0  0  0  0  0  0  \n",
              "...   .. .. .. .. .. .. .. .. ..  \n",
              "28582  0  0  0  0  0  0  0  0  0  \n",
              "28583  0  0  0  0  0  1  0  0  0  \n",
              "28584  0  0  0  0  0  0  0  0  0  \n",
              "28585  0  0  0  0  0  0  0  0  0  \n",
              "28586  0  0  0  0  0  0  0  0  1  \n",
              "\n",
              "[28587 rows x 275 columns]"
            ],
            "text/html": [
              "\n",
              "  <div id=\"df-7c34d4f4-4ddf-4735-a25b-fd6b3a8c80e9\" class=\"colab-df-container\">\n",
              "    <div>\n",
              "<style scoped>\n",
              "    .dataframe tbody tr th:only-of-type {\n",
              "        vertical-align: middle;\n",
              "    }\n",
              "\n",
              "    .dataframe tbody tr th {\n",
              "        vertical-align: top;\n",
              "    }\n",
              "\n",
              "    .dataframe thead th {\n",
              "        text-align: right;\n",
              "    }\n",
              "</style>\n",
              "<table border=\"1\" class=\"dataframe\">\n",
              "  <thead>\n",
              "    <tr style=\"text-align: right;\">\n",
              "      <th></th>\n",
              "      <th>Unnamed: 0</th>\n",
              "      <th>AdmissionDx</th>\n",
              "      <th>AdmissionType</th>\n",
              "      <th>PreviousAdmissionDays</th>\n",
              "      <th>LOS</th>\n",
              "      <th>Age_Group</th>\n",
              "      <th>Gender</th>\n",
              "      <th>Surgery_Count</th>\n",
              "      <th>LOS_ICU</th>\n",
              "      <th>Discharge_Specialty</th>\n",
              "      <th>...</th>\n",
              "      <th>L</th>\n",
              "      <th>M</th>\n",
              "      <th>N</th>\n",
              "      <th>Q</th>\n",
              "      <th>R</th>\n",
              "      <th>S</th>\n",
              "      <th>T</th>\n",
              "      <th>U</th>\n",
              "      <th>Y</th>\n",
              "      <th>Z</th>\n",
              "    </tr>\n",
              "  </thead>\n",
              "  <tbody>\n",
              "    <tr>\n",
              "      <th>0</th>\n",
              "      <td>1</td>\n",
              "      <td>I</td>\n",
              "      <td>Elektivni</td>\n",
              "      <td>-8</td>\n",
              "      <td>1</td>\n",
              "      <td>83-87</td>\n",
              "      <td>Ž</td>\n",
              "      <td>0</td>\n",
              "      <td>0</td>\n",
              "      <td>3010100</td>\n",
              "      <td>...</td>\n",
              "      <td>0</td>\n",
              "      <td>0</td>\n",
              "      <td>0</td>\n",
              "      <td>0</td>\n",
              "      <td>0</td>\n",
              "      <td>0</td>\n",
              "      <td>0</td>\n",
              "      <td>0</td>\n",
              "      <td>0</td>\n",
              "      <td>2</td>\n",
              "    </tr>\n",
              "    <tr>\n",
              "      <th>1</th>\n",
              "      <td>2</td>\n",
              "      <td>I</td>\n",
              "      <td>Elektivni</td>\n",
              "      <td>-8</td>\n",
              "      <td>16</td>\n",
              "      <td>68-72</td>\n",
              "      <td>M</td>\n",
              "      <td>1</td>\n",
              "      <td>0</td>\n",
              "      <td>3100400</td>\n",
              "      <td>...</td>\n",
              "      <td>0</td>\n",
              "      <td>0</td>\n",
              "      <td>0</td>\n",
              "      <td>0</td>\n",
              "      <td>0</td>\n",
              "      <td>0</td>\n",
              "      <td>0</td>\n",
              "      <td>0</td>\n",
              "      <td>0</td>\n",
              "      <td>0</td>\n",
              "    </tr>\n",
              "    <tr>\n",
              "      <th>2</th>\n",
              "      <td>3</td>\n",
              "      <td>I</td>\n",
              "      <td>Elektivni</td>\n",
              "      <td>279</td>\n",
              "      <td>3</td>\n",
              "      <td>18-22</td>\n",
              "      <td>Ž</td>\n",
              "      <td>1</td>\n",
              "      <td>0</td>\n",
              "      <td>3010100</td>\n",
              "      <td>...</td>\n",
              "      <td>0</td>\n",
              "      <td>0</td>\n",
              "      <td>0</td>\n",
              "      <td>0</td>\n",
              "      <td>0</td>\n",
              "      <td>0</td>\n",
              "      <td>0</td>\n",
              "      <td>0</td>\n",
              "      <td>0</td>\n",
              "      <td>0</td>\n",
              "    </tr>\n",
              "    <tr>\n",
              "      <th>3</th>\n",
              "      <td>4</td>\n",
              "      <td>I</td>\n",
              "      <td>Elektivni</td>\n",
              "      <td>1905</td>\n",
              "      <td>2</td>\n",
              "      <td>83-87</td>\n",
              "      <td>M</td>\n",
              "      <td>0</td>\n",
              "      <td>0</td>\n",
              "      <td>3010100</td>\n",
              "      <td>...</td>\n",
              "      <td>0</td>\n",
              "      <td>0</td>\n",
              "      <td>1</td>\n",
              "      <td>0</td>\n",
              "      <td>0</td>\n",
              "      <td>0</td>\n",
              "      <td>0</td>\n",
              "      <td>0</td>\n",
              "      <td>0</td>\n",
              "      <td>0</td>\n",
              "    </tr>\n",
              "    <tr>\n",
              "      <th>4</th>\n",
              "      <td>5</td>\n",
              "      <td>I</td>\n",
              "      <td>Elektivni</td>\n",
              "      <td>-8</td>\n",
              "      <td>2</td>\n",
              "      <td>73-77</td>\n",
              "      <td>M</td>\n",
              "      <td>0</td>\n",
              "      <td>0</td>\n",
              "      <td>3010100</td>\n",
              "      <td>...</td>\n",
              "      <td>0</td>\n",
              "      <td>0</td>\n",
              "      <td>1</td>\n",
              "      <td>0</td>\n",
              "      <td>0</td>\n",
              "      <td>0</td>\n",
              "      <td>0</td>\n",
              "      <td>0</td>\n",
              "      <td>0</td>\n",
              "      <td>0</td>\n",
              "    </tr>\n",
              "    <tr>\n",
              "      <th>...</th>\n",
              "      <td>...</td>\n",
              "      <td>...</td>\n",
              "      <td>...</td>\n",
              "      <td>...</td>\n",
              "      <td>...</td>\n",
              "      <td>...</td>\n",
              "      <td>...</td>\n",
              "      <td>...</td>\n",
              "      <td>...</td>\n",
              "      <td>...</td>\n",
              "      <td>...</td>\n",
              "      <td>...</td>\n",
              "      <td>...</td>\n",
              "      <td>...</td>\n",
              "      <td>...</td>\n",
              "      <td>...</td>\n",
              "      <td>...</td>\n",
              "      <td>...</td>\n",
              "      <td>...</td>\n",
              "      <td>...</td>\n",
              "      <td>...</td>\n",
              "    </tr>\n",
              "    <tr>\n",
              "      <th>28582</th>\n",
              "      <td>259512</td>\n",
              "      <td>I</td>\n",
              "      <td>Elektivni</td>\n",
              "      <td>-8</td>\n",
              "      <td>1</td>\n",
              "      <td>68-72</td>\n",
              "      <td>M</td>\n",
              "      <td>0</td>\n",
              "      <td>0</td>\n",
              "      <td>3010100</td>\n",
              "      <td>...</td>\n",
              "      <td>0</td>\n",
              "      <td>0</td>\n",
              "      <td>0</td>\n",
              "      <td>0</td>\n",
              "      <td>0</td>\n",
              "      <td>0</td>\n",
              "      <td>0</td>\n",
              "      <td>0</td>\n",
              "      <td>0</td>\n",
              "      <td>0</td>\n",
              "    </tr>\n",
              "    <tr>\n",
              "      <th>28583</th>\n",
              "      <td>259572</td>\n",
              "      <td>R</td>\n",
              "      <td>Hitni</td>\n",
              "      <td>-8</td>\n",
              "      <td>15</td>\n",
              "      <td>43-47</td>\n",
              "      <td>M</td>\n",
              "      <td>0</td>\n",
              "      <td>0</td>\n",
              "      <td>3010100</td>\n",
              "      <td>...</td>\n",
              "      <td>0</td>\n",
              "      <td>0</td>\n",
              "      <td>0</td>\n",
              "      <td>0</td>\n",
              "      <td>0</td>\n",
              "      <td>0</td>\n",
              "      <td>1</td>\n",
              "      <td>0</td>\n",
              "      <td>0</td>\n",
              "      <td>0</td>\n",
              "    </tr>\n",
              "    <tr>\n",
              "      <th>28584</th>\n",
              "      <td>259592</td>\n",
              "      <td>I</td>\n",
              "      <td>Elektivni</td>\n",
              "      <td>-8</td>\n",
              "      <td>4</td>\n",
              "      <td>73-77</td>\n",
              "      <td>Ž</td>\n",
              "      <td>0</td>\n",
              "      <td>0</td>\n",
              "      <td>3010100</td>\n",
              "      <td>...</td>\n",
              "      <td>0</td>\n",
              "      <td>0</td>\n",
              "      <td>0</td>\n",
              "      <td>0</td>\n",
              "      <td>0</td>\n",
              "      <td>0</td>\n",
              "      <td>0</td>\n",
              "      <td>0</td>\n",
              "      <td>0</td>\n",
              "      <td>0</td>\n",
              "    </tr>\n",
              "    <tr>\n",
              "      <th>28585</th>\n",
              "      <td>261752</td>\n",
              "      <td>I</td>\n",
              "      <td>Elektivni</td>\n",
              "      <td>-8</td>\n",
              "      <td>1</td>\n",
              "      <td>63-67</td>\n",
              "      <td>M</td>\n",
              "      <td>0</td>\n",
              "      <td>0</td>\n",
              "      <td>3100400</td>\n",
              "      <td>...</td>\n",
              "      <td>0</td>\n",
              "      <td>0</td>\n",
              "      <td>0</td>\n",
              "      <td>0</td>\n",
              "      <td>0</td>\n",
              "      <td>0</td>\n",
              "      <td>0</td>\n",
              "      <td>0</td>\n",
              "      <td>0</td>\n",
              "      <td>0</td>\n",
              "    </tr>\n",
              "    <tr>\n",
              "      <th>28586</th>\n",
              "      <td>262502</td>\n",
              "      <td>I</td>\n",
              "      <td>Elektivni</td>\n",
              "      <td>-8</td>\n",
              "      <td>61</td>\n",
              "      <td>53-57</td>\n",
              "      <td>M</td>\n",
              "      <td>2</td>\n",
              "      <td>45</td>\n",
              "      <td>3190100</td>\n",
              "      <td>...</td>\n",
              "      <td>0</td>\n",
              "      <td>0</td>\n",
              "      <td>0</td>\n",
              "      <td>0</td>\n",
              "      <td>0</td>\n",
              "      <td>0</td>\n",
              "      <td>0</td>\n",
              "      <td>0</td>\n",
              "      <td>0</td>\n",
              "      <td>1</td>\n",
              "    </tr>\n",
              "  </tbody>\n",
              "</table>\n",
              "<p>28587 rows × 275 columns</p>\n",
              "</div>\n",
              "    <div class=\"colab-df-buttons\">\n",
              "\n",
              "  <div class=\"colab-df-container\">\n",
              "    <button class=\"colab-df-convert\" onclick=\"convertToInteractive('df-7c34d4f4-4ddf-4735-a25b-fd6b3a8c80e9')\"\n",
              "            title=\"Convert this dataframe to an interactive table.\"\n",
              "            style=\"display:none;\">\n",
              "\n",
              "  <svg xmlns=\"http://www.w3.org/2000/svg\" height=\"24px\" viewBox=\"0 -960 960 960\">\n",
              "    <path d=\"M120-120v-720h720v720H120Zm60-500h600v-160H180v160Zm220 220h160v-160H400v160Zm0 220h160v-160H400v160ZM180-400h160v-160H180v160Zm440 0h160v-160H620v160ZM180-180h160v-160H180v160Zm440 0h160v-160H620v160Z\"/>\n",
              "  </svg>\n",
              "    </button>\n",
              "\n",
              "  <style>\n",
              "    .colab-df-container {\n",
              "      display:flex;\n",
              "      gap: 12px;\n",
              "    }\n",
              "\n",
              "    .colab-df-convert {\n",
              "      background-color: #E8F0FE;\n",
              "      border: none;\n",
              "      border-radius: 50%;\n",
              "      cursor: pointer;\n",
              "      display: none;\n",
              "      fill: #1967D2;\n",
              "      height: 32px;\n",
              "      padding: 0 0 0 0;\n",
              "      width: 32px;\n",
              "    }\n",
              "\n",
              "    .colab-df-convert:hover {\n",
              "      background-color: #E2EBFA;\n",
              "      box-shadow: 0px 1px 2px rgba(60, 64, 67, 0.3), 0px 1px 3px 1px rgba(60, 64, 67, 0.15);\n",
              "      fill: #174EA6;\n",
              "    }\n",
              "\n",
              "    .colab-df-buttons div {\n",
              "      margin-bottom: 4px;\n",
              "    }\n",
              "\n",
              "    [theme=dark] .colab-df-convert {\n",
              "      background-color: #3B4455;\n",
              "      fill: #D2E3FC;\n",
              "    }\n",
              "\n",
              "    [theme=dark] .colab-df-convert:hover {\n",
              "      background-color: #434B5C;\n",
              "      box-shadow: 0px 1px 3px 1px rgba(0, 0, 0, 0.15);\n",
              "      filter: drop-shadow(0px 1px 2px rgba(0, 0, 0, 0.3));\n",
              "      fill: #FFFFFF;\n",
              "    }\n",
              "  </style>\n",
              "\n",
              "    <script>\n",
              "      const buttonEl =\n",
              "        document.querySelector('#df-7c34d4f4-4ddf-4735-a25b-fd6b3a8c80e9 button.colab-df-convert');\n",
              "      buttonEl.style.display =\n",
              "        google.colab.kernel.accessAllowed ? 'block' : 'none';\n",
              "\n",
              "      async function convertToInteractive(key) {\n",
              "        const element = document.querySelector('#df-7c34d4f4-4ddf-4735-a25b-fd6b3a8c80e9');\n",
              "        const dataTable =\n",
              "          await google.colab.kernel.invokeFunction('convertToInteractive',\n",
              "                                                    [key], {});\n",
              "        if (!dataTable) return;\n",
              "\n",
              "        const docLinkHtml = 'Like what you see? Visit the ' +\n",
              "          '<a target=\"_blank\" href=https://colab.research.google.com/notebooks/data_table.ipynb>data table notebook</a>'\n",
              "          + ' to learn more about interactive tables.';\n",
              "        element.innerHTML = '';\n",
              "        dataTable['output_type'] = 'display_data';\n",
              "        await google.colab.output.renderOutput(dataTable, element);\n",
              "        const docLink = document.createElement('div');\n",
              "        docLink.innerHTML = docLinkHtml;\n",
              "        element.appendChild(docLink);\n",
              "      }\n",
              "    </script>\n",
              "  </div>\n",
              "\n",
              "\n",
              "<div id=\"df-aed1f4bd-8b2c-4a6d-8755-1bddc3d3860c\">\n",
              "  <button class=\"colab-df-quickchart\" onclick=\"quickchart('df-aed1f4bd-8b2c-4a6d-8755-1bddc3d3860c')\"\n",
              "            title=\"Suggest charts\"\n",
              "            style=\"display:none;\">\n",
              "\n",
              "<svg xmlns=\"http://www.w3.org/2000/svg\" height=\"24px\"viewBox=\"0 0 24 24\"\n",
              "     width=\"24px\">\n",
              "    <g>\n",
              "        <path d=\"M19 3H5c-1.1 0-2 .9-2 2v14c0 1.1.9 2 2 2h14c1.1 0 2-.9 2-2V5c0-1.1-.9-2-2-2zM9 17H7v-7h2v7zm4 0h-2V7h2v10zm4 0h-2v-4h2v4z\"/>\n",
              "    </g>\n",
              "</svg>\n",
              "  </button>\n",
              "\n",
              "<style>\n",
              "  .colab-df-quickchart {\n",
              "      --bg-color: #E8F0FE;\n",
              "      --fill-color: #1967D2;\n",
              "      --hover-bg-color: #E2EBFA;\n",
              "      --hover-fill-color: #174EA6;\n",
              "      --disabled-fill-color: #AAA;\n",
              "      --disabled-bg-color: #DDD;\n",
              "  }\n",
              "\n",
              "  [theme=dark] .colab-df-quickchart {\n",
              "      --bg-color: #3B4455;\n",
              "      --fill-color: #D2E3FC;\n",
              "      --hover-bg-color: #434B5C;\n",
              "      --hover-fill-color: #FFFFFF;\n",
              "      --disabled-bg-color: #3B4455;\n",
              "      --disabled-fill-color: #666;\n",
              "  }\n",
              "\n",
              "  .colab-df-quickchart {\n",
              "    background-color: var(--bg-color);\n",
              "    border: none;\n",
              "    border-radius: 50%;\n",
              "    cursor: pointer;\n",
              "    display: none;\n",
              "    fill: var(--fill-color);\n",
              "    height: 32px;\n",
              "    padding: 0;\n",
              "    width: 32px;\n",
              "  }\n",
              "\n",
              "  .colab-df-quickchart:hover {\n",
              "    background-color: var(--hover-bg-color);\n",
              "    box-shadow: 0 1px 2px rgba(60, 64, 67, 0.3), 0 1px 3px 1px rgba(60, 64, 67, 0.15);\n",
              "    fill: var(--button-hover-fill-color);\n",
              "  }\n",
              "\n",
              "  .colab-df-quickchart-complete:disabled,\n",
              "  .colab-df-quickchart-complete:disabled:hover {\n",
              "    background-color: var(--disabled-bg-color);\n",
              "    fill: var(--disabled-fill-color);\n",
              "    box-shadow: none;\n",
              "  }\n",
              "\n",
              "  .colab-df-spinner {\n",
              "    border: 2px solid var(--fill-color);\n",
              "    border-color: transparent;\n",
              "    border-bottom-color: var(--fill-color);\n",
              "    animation:\n",
              "      spin 1s steps(1) infinite;\n",
              "  }\n",
              "\n",
              "  @keyframes spin {\n",
              "    0% {\n",
              "      border-color: transparent;\n",
              "      border-bottom-color: var(--fill-color);\n",
              "      border-left-color: var(--fill-color);\n",
              "    }\n",
              "    20% {\n",
              "      border-color: transparent;\n",
              "      border-left-color: var(--fill-color);\n",
              "      border-top-color: var(--fill-color);\n",
              "    }\n",
              "    30% {\n",
              "      border-color: transparent;\n",
              "      border-left-color: var(--fill-color);\n",
              "      border-top-color: var(--fill-color);\n",
              "      border-right-color: var(--fill-color);\n",
              "    }\n",
              "    40% {\n",
              "      border-color: transparent;\n",
              "      border-right-color: var(--fill-color);\n",
              "      border-top-color: var(--fill-color);\n",
              "    }\n",
              "    60% {\n",
              "      border-color: transparent;\n",
              "      border-right-color: var(--fill-color);\n",
              "    }\n",
              "    80% {\n",
              "      border-color: transparent;\n",
              "      border-right-color: var(--fill-color);\n",
              "      border-bottom-color: var(--fill-color);\n",
              "    }\n",
              "    90% {\n",
              "      border-color: transparent;\n",
              "      border-bottom-color: var(--fill-color);\n",
              "    }\n",
              "  }\n",
              "</style>\n",
              "\n",
              "  <script>\n",
              "    async function quickchart(key) {\n",
              "      const quickchartButtonEl =\n",
              "        document.querySelector('#' + key + ' button');\n",
              "      quickchartButtonEl.disabled = true;  // To prevent multiple clicks.\n",
              "      quickchartButtonEl.classList.add('colab-df-spinner');\n",
              "      try {\n",
              "        const charts = await google.colab.kernel.invokeFunction(\n",
              "            'suggestCharts', [key], {});\n",
              "      } catch (error) {\n",
              "        console.error('Error during call to suggestCharts:', error);\n",
              "      }\n",
              "      quickchartButtonEl.classList.remove('colab-df-spinner');\n",
              "      quickchartButtonEl.classList.add('colab-df-quickchart-complete');\n",
              "    }\n",
              "    (() => {\n",
              "      let quickchartButtonEl =\n",
              "        document.querySelector('#df-aed1f4bd-8b2c-4a6d-8755-1bddc3d3860c button');\n",
              "      quickchartButtonEl.style.display =\n",
              "        google.colab.kernel.accessAllowed ? 'block' : 'none';\n",
              "    })();\n",
              "  </script>\n",
              "</div>\n",
              "    </div>\n",
              "  </div>\n"
            ],
            "application/vnd.google.colaboratory.intrinsic+json": {
              "type": "dataframe",
              "variable_name": "podaci"
            }
          },
          "metadata": {},
          "execution_count": 351
        }
      ],
      "source": [
        "podaci"
      ]
    },
    {
      "cell_type": "code",
      "execution_count": null,
      "metadata": {
        "colab": {
          "base_uri": "https://localhost:8080/"
        },
        "id": "mDjWYlLwhLfr",
        "outputId": "2a9687a5-1b39-47fe-f3ce-691662a79e94"
      },
      "outputs": [
        {
          "output_type": "execute_result",
          "data": {
            "text/plain": [
              "(28587, 275)"
            ]
          },
          "metadata": {},
          "execution_count": 352
        }
      ],
      "source": [
        "podaci.shape"
      ]
    },
    {
      "cell_type": "markdown",
      "metadata": {
        "id": "7KjZ-afEhOOT"
      },
      "source": [
        "#IZBACIVANJE REDAKA S NUL VRIJEDNOSTIMA TE PRVOG STUPCA"
      ]
    },
    {
      "cell_type": "code",
      "execution_count": null,
      "metadata": {
        "id": "fejAeAl6hRuF"
      },
      "outputs": [],
      "source": [
        "# Pronalaženje najčešće korištene vrijednosti u stupcu 'AdmissionDx'\n",
        "most_common_value = podaci['AdmissionDx'].mode()[0]\n",
        "# Popunjavanje nedostajućih vrijednosti u stupcu 'AdmissionDx' s najčešće korištenom vrijednošću\n",
        "podaci['AdmissionDx'].fillna(most_common_value, inplace=True)\n",
        "# Pronalaženje najčešće korištene vrijednosti u stupcu 'AdmissionDx'\n",
        "most_common_value = podaci['Education'].mode()[0]\n",
        "# Popunjavanje nedostajućih vrijednosti u stupcu 'AdmissionDx' s najčešće korištenom vrijednošću\n",
        "podaci['Education'].fillna(most_common_value, inplace=True)\n",
        "# Pronalaženje najčešće korištene vrijednosti u stupcu 'AdmissionDx'\n",
        "most_common_value = podaci['Current_Work_Status'].mode()[0]\n",
        "# Popunjavanje nedostajućih vrijednosti u stupcu 'AdmissionDx' s najčešće korištenom vrijednošću\n",
        "podaci['Current_Work_Status'].fillna(most_common_value, inplace=True)\n",
        "# Izbačanje svih redaka gdje je vrijednost u stupcu \"gender\" NaN\n",
        "podaci = podaci.dropna(subset=['Gender'])"
      ]
    },
    {
      "cell_type": "code",
      "execution_count": null,
      "metadata": {
        "colab": {
          "base_uri": "https://localhost:8080/"
        },
        "id": "LH8Rb-y-hSp9",
        "outputId": "70acf912-6d6c-45b5-a24a-0e9b565d62a0"
      },
      "outputs": [
        {
          "output_type": "execute_result",
          "data": {
            "text/plain": [
              "(28585, 275)"
            ]
          },
          "metadata": {},
          "execution_count": 354
        }
      ],
      "source": [
        "podaci.shape"
      ]
    },
    {
      "cell_type": "code",
      "execution_count": null,
      "metadata": {
        "id": "1Yb080o-mUZY",
        "colab": {
          "base_uri": "https://localhost:8080/"
        },
        "outputId": "11cdb3d3-6606-4800-f450-9dbce36219c4"
      },
      "outputs": [
        {
          "output_type": "stream",
          "name": "stderr",
          "text": [
            "<ipython-input-355-055a531801ce>:1: SettingWithCopyWarning: \n",
            "A value is trying to be set on a copy of a slice from a DataFrame\n",
            "\n",
            "See the caveats in the documentation: https://pandas.pydata.org/pandas-docs/stable/user_guide/indexing.html#returning-a-view-versus-a-copy\n",
            "  podaci.drop(['Unnamed: 0'],axis=1, inplace=True)\n"
          ]
        }
      ],
      "source": [
        "podaci.drop(['Unnamed: 0'],axis=1, inplace=True)"
      ]
    },
    {
      "cell_type": "code",
      "execution_count": null,
      "metadata": {
        "colab": {
          "base_uri": "https://localhost:8080/"
        },
        "id": "xnd_et-VhWvk",
        "outputId": "c3ea3d39-ae5b-452a-d367-181a6705570b"
      },
      "outputs": [
        {
          "output_type": "stream",
          "name": "stdout",
          "text": [
            "Vrijednost -8 se pojavljuje 13121 puta u stupcu 'PreviousAdmissionDays'\n",
            "Vrijednost -8 se pojavljuje 1441 puta u stupcu 'Weight_Discharge'\n",
            "Vrijednost -8 se pojavljuje 1445 puta u stupcu 'Height_Discharge'\n"
          ]
        }
      ],
      "source": [
        "for stupac in podaci.columns:\n",
        "    broj_pojavljivanja = (podaci[stupac] == -8).sum()\n",
        "    if broj_pojavljivanja > 0:\n",
        "        print(f\"Vrijednost -8 se pojavljuje {broj_pojavljivanja} puta u stupcu '{stupac}'\")"
      ]
    },
    {
      "cell_type": "markdown",
      "metadata": {
        "id": "1zLgwzZ0m_wI"
      },
      "source": [
        "#PROVJERA I UKLANJANJE DUPLIKATA"
      ]
    },
    {
      "cell_type": "code",
      "execution_count": null,
      "metadata": {
        "id": "rMcFIg5xm_gQ",
        "colab": {
          "base_uri": "https://localhost:8080/"
        },
        "outputId": "7fa79a61-91e7-4386-f8c0-50ddda537432"
      },
      "outputs": [
        {
          "output_type": "stream",
          "name": "stderr",
          "text": [
            "<ipython-input-357-29d89228a8ba>:2: SettingWithCopyWarning: \n",
            "A value is trying to be set on a copy of a slice from a DataFrame\n",
            "\n",
            "See the caveats in the documentation: https://pandas.pydata.org/pandas-docs/stable/user_guide/indexing.html#returning-a-view-versus-a-copy\n",
            "  podaci.drop_duplicates(inplace=True)\n"
          ]
        }
      ],
      "source": [
        "podaci.duplicated().sum()\n",
        "podaci.drop_duplicates(inplace=True)"
      ]
    },
    {
      "cell_type": "markdown",
      "metadata": {
        "id": "SjI8hCGbowO8"
      },
      "source": [
        "#UKLANJANJE ONIH KOJIMA JE VISINA PREKO 220 i TEŽINA PREKO 200"
      ]
    },
    {
      "cell_type": "code",
      "execution_count": null,
      "metadata": {
        "id": "cHPELpSIovRI",
        "colab": {
          "base_uri": "https://localhost:8080/"
        },
        "outputId": "bf0b2738-09db-42fa-d0b2-1f3fb5989ad9"
      },
      "outputs": [
        {
          "output_type": "stream",
          "name": "stderr",
          "text": [
            "<ipython-input-358-405df978b1a1>:1: SettingWithCopyWarning: \n",
            "A value is trying to be set on a copy of a slice from a DataFrame\n",
            "\n",
            "See the caveats in the documentation: https://pandas.pydata.org/pandas-docs/stable/user_guide/indexing.html#returning-a-view-versus-a-copy\n",
            "  podaci.drop(podaci[podaci['Height_Discharge'] > 220].index, axis=0, inplace=True)\n"
          ]
        }
      ],
      "source": [
        "podaci.drop(podaci[podaci['Height_Discharge'] > 220].index, axis=0, inplace=True)"
      ]
    },
    {
      "cell_type": "code",
      "execution_count": null,
      "metadata": {
        "id": "65k55jIysIhB",
        "colab": {
          "base_uri": "https://localhost:8080/"
        },
        "outputId": "ac64a5fe-3ded-43ae-ee07-6d473e19afa7"
      },
      "outputs": [
        {
          "output_type": "stream",
          "name": "stderr",
          "text": [
            "<ipython-input-359-e9f4b38453f7>:1: SettingWithCopyWarning: \n",
            "A value is trying to be set on a copy of a slice from a DataFrame\n",
            "\n",
            "See the caveats in the documentation: https://pandas.pydata.org/pandas-docs/stable/user_guide/indexing.html#returning-a-view-versus-a-copy\n",
            "  podaci.drop(podaci[podaci['Weight_Discharge'] > 200].index, axis=0, inplace=True)\n"
          ]
        }
      ],
      "source": [
        "podaci.drop(podaci[podaci['Weight_Discharge'] > 200].index, axis=0, inplace=True)"
      ]
    },
    {
      "cell_type": "code",
      "execution_count": null,
      "metadata": {
        "id": "jLuDIGdksQYb"
      },
      "outputs": [],
      "source": [
        "podaci=podaci.reset_index(drop=True)"
      ]
    },
    {
      "cell_type": "code",
      "execution_count": null,
      "metadata": {
        "colab": {
          "base_uri": "https://localhost:8080/"
        },
        "id": "QUHWus60s8-E",
        "outputId": "9efd242e-318d-4b88-f44c-940b6fe652a6"
      },
      "outputs": [
        {
          "output_type": "execute_result",
          "data": {
            "text/plain": [
              "(28568, 274)"
            ]
          },
          "metadata": {},
          "execution_count": 361
        }
      ],
      "source": [
        "podaci.shape"
      ]
    },
    {
      "cell_type": "code",
      "execution_count": null,
      "metadata": {
        "colab": {
          "base_uri": "https://localhost:8080/"
        },
        "id": "RnLM6d2Lwmj-",
        "outputId": "0c630e15-1f12-4c19-aa9c-43a5fca7504b"
      },
      "outputs": [
        {
          "output_type": "execute_result",
          "data": {
            "text/plain": [
              "0         53.0\n",
              "1         96.0\n",
              "2         52.0\n",
              "3         95.0\n",
              "4         82.0\n",
              "         ...  \n",
              "28563     80.0\n",
              "28564    105.0\n",
              "28565     70.0\n",
              "28566    100.0\n",
              "28567    116.0\n",
              "Name: Weight_Discharge, Length: 28568, dtype: float64"
            ]
          },
          "metadata": {},
          "execution_count": 362
        }
      ],
      "source": [
        "podaci[\"Weight_Discharge\"]"
      ]
    },
    {
      "cell_type": "markdown",
      "metadata": {
        "id": "MXR0KYKzAvId"
      },
      "source": [
        "#KATEGORIČKI MAPPING"
      ]
    },
    {
      "cell_type": "code",
      "execution_count": null,
      "metadata": {
        "id": "A-phXk6hBqVy"
      },
      "outputs": [],
      "source": [
        "mapping_admission_dx = {\"A\":0, \"B\":1, \"C\":2, \"D\":3, \"E\":4, \"F\":5, \"G\":6, \"H\":7, \"I\":8, \"J\":9, \"K\":10, \"L\":11, \"M\":12, \"N\":13, \"O\":14, \"P\":15, \"Q\":16, \"R\":17, \"S\":18, \"T\":19, \"U\":20, \"V\":21, \"W\":22, \"X\":23, \"Y\":24, \"Z\":25 }\n",
        "podaci['AdmissionDx'] = podaci['AdmissionDx'].replace(mapping_admission_dx)\n",
        "\n",
        "mapping_age_group={'63-67':0, '68-72':1, '73-77':2, '58-62':3, '78-82':4, '53-57':5, '48-52':6, '83-87':7, '43-47':8, '38-42':9, '33-37':10, '28-32':11, '18-22':12, '23-27':13, '88-92':14, '93-97':15 }\n",
        "podaci['Age_Group']= podaci['Age_Group'].replace(mapping_age_group)\n",
        "\n",
        "mapping_discharge_speciality = {3010100:0, 3100400:1, 3100600:2, 3190100:3, 3190200:4 }\n",
        "podaci['Discharge_Specialty']=podaci['Discharge_Specialty'].replace(mapping_discharge_speciality)\n",
        "\n",
        "mapping_dx_discharge={\"A\":0, \"B\":1, \"C\":2, \"D\":3, \"E\":4, \"F\":5, \"G\":6, \"H\":7, \"I\":8, \"J\":9, \"K\":10, \"L\":11, \"M\":12, \"N\":13, \"O\":14, \"P\":15, \"Q\":16, \"R\":17, \"S\":18, \"T\":19, \"U\":20, \"V\":21, \"W\":22, \"X\":23, \"Y\":24, \"Z\":25 }\n",
        "podaci['Dx_Discharge']=podaci['Dx_Discharge'].replace(mapping_dx_discharge)\n",
        "\n",
        "mapping_discharge_status={'KUĆI':0,'U DRUGU STACIONARNU ZDRAVSTVENU USTANOVU ':1, 'OSTALO':2, 'LIJEČENJE OKONČANO PROTIVNO SAVJETU DOKTORA':3, 'UMRO (NIJE OBDUCIRAN)':4 }\n",
        "podaci['Discharge_Status']=podaci['Discharge_Status'].replace(mapping_discharge_status)\n",
        "\n",
        "mapping_education= {'ZAVRŠENA SREDNJA ŠKOLA':0,'ZAVRŠENO VISOKO OBRAZOVANJE':1, 'ZAVRŠENA OSNOVNA ŠKOLA':2, 'NEPOZNAT OBRAZOVNI STATUS':3, 'ZAVRŠENA VIŠA ŠKOLA':4,  'NIJE ZAVRŠILA OSNOVNU ŠKOLU':5,'NIJE POHAĐALA OSNOVNU ŠKOLU':6}\n",
        "podaci['Education']=podaci['Education'].replace(mapping_education)\n",
        "\n",
        "mapping_current_work_status={'UMIROVLJENIK':0, 'REDOVAN POSAO':1, 'NEZAPOSLEN/POVREMENI POSAO':2, 'SAMOSTALNA DJELATNOST':3, 'DOMAĆICA':4, 'NEPOZNATO':5, 'POLJOPRIVREDNIK':6, 'STUDENT':7, 'UČENIK':8}\n",
        "podaci['Current_Work_Status']=podaci['Current_Work_Status'].replace(mapping_current_work_status)\n",
        "\n"
      ]
    },
    {
      "cell_type": "markdown",
      "metadata": {
        "id": "N2tvBlNWuJAu"
      },
      "source": [
        "## MAPIRANJE BINARNIH"
      ]
    },
    {
      "cell_type": "code",
      "execution_count": null,
      "metadata": {
        "id": "pykl2kbouDxm"
      },
      "outputs": [],
      "source": [
        "mapping_gender = {\"M\": 0, \"Ž\": 1}\n",
        "mapping_admission_type={\"Hitni\":0, \"Elektivni\":1}\n",
        "\n",
        "podaci['Gender'] = podaci['Gender'].replace(mapping_gender)\n",
        "podaci['AdmissionType']=podaci['AdmissionType'].replace(mapping_admission_type)"
      ]
    },
    {
      "cell_type": "markdown",
      "metadata": {
        "id": "pG_ERGZWKWYT"
      },
      "source": [
        "#PODJELA NA X I y(Label)"
      ]
    },
    {
      "cell_type": "code",
      "execution_count": null,
      "metadata": {
        "id": "jhx6jg5MKWDN"
      },
      "outputs": [],
      "source": [
        "X_train=podaci.drop(\"Label\",axis=1)\n",
        "y_train=podaci[\"Label\"]"
      ]
    },
    {
      "cell_type": "code",
      "source": [],
      "metadata": {
        "id": "-7Yr-dU4t38y"
      },
      "execution_count": null,
      "outputs": []
    },
    {
      "cell_type": "code",
      "execution_count": null,
      "metadata": {
        "id": "-bQ-d-ElI-OG"
      },
      "outputs": [],
      "source": [
        "from sklearn.preprocessing import StandardScaler"
      ]
    },
    {
      "cell_type": "code",
      "execution_count": null,
      "metadata": {
        "id": "lcIiRupkJFWx"
      },
      "outputs": [],
      "source": [
        "scaler = StandardScaler()"
      ]
    },
    {
      "cell_type": "code",
      "execution_count": null,
      "metadata": {
        "id": "unlH1c8ImK0A"
      },
      "outputs": [],
      "source": [
        "X_train= scaler.fit_transform(X_train)"
      ]
    },
    {
      "cell_type": "markdown",
      "metadata": {
        "id": "pill0Rq3zCW2"
      },
      "source": [
        "#PRISTRANOST"
      ]
    },
    {
      "cell_type": "code",
      "execution_count": null,
      "metadata": {
        "colab": {
          "base_uri": "https://localhost:8080/"
        },
        "id": "9qRmJHH5yvk-",
        "outputId": "004ec1d8-f580-4b0a-aa6b-bd77154d18e7"
      },
      "outputs": [
        {
          "output_type": "stream",
          "name": "stdout",
          "text": [
            "\n",
            "Raspodjela klasa nakon oversamplinga:\n",
            "0    26680\n",
            "1    26680\n",
            "Name: Label, dtype: int64\n"
          ]
        }
      ],
      "source": [
        "import pandas as pd\n",
        "from imblearn.over_sampling import RandomOverSampler\n",
        "\n",
        "# Provjera broja instanci po klasi\n",
        "ros = RandomOverSampler(random_state=42)\n",
        "X_train, y_train = ros.fit_resample(X_train, y_train)\n",
        "\n",
        "# Provjera raspodjele klasa nakon oversamplinga\n",
        "print(\"\\nRaspodjela klasa nakon oversamplinga:\")\n",
        "print(y_train.value_counts())\n"
      ]
    },
    {
      "cell_type": "code",
      "execution_count": null,
      "metadata": {
        "id": "LXLGIOke2IvO"
      },
      "outputs": [],
      "source": [
        "podaci.to_csv(\"train_uredeni.csv\", index=False)"
      ]
    },
    {
      "cell_type": "markdown",
      "metadata": {
        "id": "rjMcORAYD9D8"
      },
      "source": [
        "TEST"
      ]
    },
    {
      "cell_type": "code",
      "execution_count": null,
      "metadata": {
        "id": "wnDOIRoyD41s"
      },
      "outputs": [],
      "source": [
        "podaci1 = pd.read_csv(\"test.csv\")"
      ]
    },
    {
      "cell_type": "code",
      "execution_count": null,
      "metadata": {
        "colab": {
          "base_uri": "https://localhost:8080/"
        },
        "id": "yR5Le90mcPxW",
        "outputId": "cfa0231b-1cf7-4a11-a5ff-9bd500981aee"
      },
      "outputs": [
        {
          "output_type": "execute_result",
          "data": {
            "text/plain": [
              "(7336, 277)"
            ]
          },
          "metadata": {},
          "execution_count": 372
        }
      ],
      "source": [
        "podaci1.shape"
      ]
    },
    {
      "cell_type": "code",
      "execution_count": null,
      "metadata": {
        "id": "0LUK_ckDD4yT"
      },
      "outputs": [],
      "source": [
        "kolone_za_izbacivanje = [\"Label\", \"Probability_0\", \"Probability_1\",\"Unnamed: 0\"]\n",
        "\n",
        "# Izbačanje navedenih stupaca\n",
        "podaci1 = podaci1.drop(columns=kolone_za_izbacivanje)"
      ]
    },
    {
      "cell_type": "code",
      "execution_count": null,
      "metadata": {
        "id": "ZXuqrLy3EcUC"
      },
      "outputs": [],
      "source": [
        "mapping_admission_dx = {\"A\":0, \"B\":1, \"C\":2, \"D\":3, \"E\":4, \"F\":5, \"G\":6, \"H\":7, \"I\":8, \"J\":9, \"K\":10, \"L\":11, \"M\":12, \"N\":13, \"O\":14, \"P\":15, \"Q\":16, \"R\":17, \"S\":18, \"T\":19, \"U\":20, \"V\":21, \"W\":22, \"X\":23, \"Y\":24, \"Z\":25 }\n",
        "podaci1['AdmissionDx'] = podaci1['AdmissionDx'].replace(mapping_admission_dx)\n",
        "\n",
        "mapping_age_group={'63-67':0, '68-72':1, '73-77':2, '58-62':3, '78-82':4, '53-57':5, '48-52':6, '83-87':7, '43-47':8, '38-42':9, '33-37':10, '28-32':11, '18-22':12, '23-27':13, '88-92':14, '93-97':15 }\n",
        "podaci1['Age_Group']= podaci1['Age_Group'].replace(mapping_age_group)\n",
        "\n",
        "mapping_discharge_speciality = {3010100:0, 3100400:1, 3100600:2, 3190100:3, 3190200:4 }\n",
        "podaci1['Discharge_Specialty']=podaci1['Discharge_Specialty'].replace(mapping_discharge_speciality)\n",
        "\n",
        "mapping_dx_discharge={\"A\":0, \"B\":1, \"C\":2, \"D\":3, \"E\":4, \"F\":5, \"G\":6, \"H\":7, \"I\":8, \"J\":9, \"K\":10, \"L\":11, \"M\":12, \"N\":13, \"O\":14, \"P\":15, \"Q\":16, \"R\":17, \"S\":18, \"T\":19, \"U\":20, \"V\":21, \"W\":22, \"X\":23, \"Y\":24, \"Z\":25 }\n",
        "podaci1['Dx_Discharge']=podaci1['Dx_Discharge'].replace(mapping_dx_discharge)\n",
        "\n",
        "mapping_discharge_status={'KUĆI':0,'U DRUGU STACIONARNU ZDRAVSTVENU USTANOVU ':1, 'OSTALO':2, 'LIJEČENJE OKONČANO PROTIVNO SAVJETU DOKTORA':3, 'UMRO (NIJE OBDUCIRAN)':4 }\n",
        "podaci1['Discharge_Status']=podaci1['Discharge_Status'].replace(mapping_discharge_status)\n",
        "\n",
        "mapping_education= {'ZAVRŠENA SREDNJA ŠKOLA':0,'ZAVRŠENO VISOKO OBRAZOVANJE':1, 'ZAVRŠENA OSNOVNA ŠKOLA':2, 'NEPOZNAT OBRAZOVNI STATUS':3, 'ZAVRŠENA VIŠA ŠKOLA':4,  'NIJE ZAVRŠILA OSNOVNU ŠKOLU':5,'NIJE POHAĐALA OSNOVNU ŠKOLU':6}\n",
        "podaci1['Education']=podaci1['Education'].replace(mapping_education)\n",
        "\n",
        "mapping_current_work_status={'UMIROVLJENIK':0, 'REDOVAN POSAO':1, 'NEZAPOSLEN/POVREMENI POSAO':2, 'SAMOSTALNA DJELATNOST':3, 'DOMAĆICA':4, 'NEPOZNATO':5, 'POLJOPRIVREDNIK':6, 'STUDENT':7, 'UČENIK':8}\n",
        "podaci1['Current_Work_Status']=podaci1['Current_Work_Status'].replace(mapping_current_work_status)\n",
        "\n"
      ]
    },
    {
      "cell_type": "code",
      "execution_count": null,
      "metadata": {
        "id": "O8snagRPEqc8"
      },
      "outputs": [],
      "source": [
        "mapping_gender = {\"M\": 0, \"Ž\": 1}\n",
        "mapping_admission_type={\"Hitni\":0, \"Elektivni\":1}\n",
        "\n",
        "podaci1['Gender'] = podaci1['Gender'].replace(mapping_gender)\n",
        "podaci1['AdmissionType']=podaci1['AdmissionType'].replace(mapping_admission_type)"
      ]
    },
    {
      "cell_type": "code",
      "execution_count": null,
      "metadata": {
        "colab": {
          "base_uri": "https://localhost:8080/"
        },
        "id": "F0RGR7SSeCB9",
        "outputId": "5976cb5f-1639-44fd-afbd-e53dab42bb09"
      },
      "outputs": [
        {
          "output_type": "stream",
          "name": "stdout",
          "text": [
            "['AdmissionDx', 'Education', 'Current_Work_Status']\n"
          ]
        }
      ],
      "source": [
        "columns_with_nans = podaci1.columns[podaci1.isna().any()].tolist()\n",
        "print(columns_with_nans)"
      ]
    },
    {
      "cell_type": "code",
      "source": [],
      "metadata": {
        "id": "RfmjadLl743b"
      },
      "execution_count": null,
      "outputs": []
    },
    {
      "cell_type": "code",
      "execution_count": null,
      "metadata": {
        "id": "sU7yCd2eerpC"
      },
      "outputs": [],
      "source": [
        "# Pronalaženje najčešće korištene vrijednosti u stupcu 'AdmissionDx'\n",
        "most_common_value = podaci1['AdmissionDx'].mode()[0]\n",
        "# Popunjavanje nedostajućih vrijednosti u stupcu 'AdmissionDx' s najčešće korištenom vrijednošću\n",
        "podaci1['AdmissionDx'].fillna(most_common_value, inplace=True)\n"
      ]
    },
    {
      "cell_type": "code",
      "execution_count": null,
      "metadata": {
        "id": "KQgAuaYIjcIE"
      },
      "outputs": [],
      "source": [
        "# Pronalaženje najčešće korištene vrijednosti u stupcu 'AdmissionDx'\n",
        "most_common_value = podaci1['Education'].mode()[0]\n",
        "# Popunjavanje nedostajućih vrijednosti u stupcu 'AdmissionDx' s najčešće korištenom vrijednošću\n",
        "podaci1['Education'].fillna(most_common_value, inplace=True)\n"
      ]
    },
    {
      "cell_type": "code",
      "execution_count": null,
      "metadata": {
        "id": "OZB2V3-ojcEc"
      },
      "outputs": [],
      "source": [
        "# Pronalaženje najčešće korištene vrijednosti u stupcu 'AdmissionDx'\n",
        "most_common_value = podaci1['Current_Work_Status'].mode()[0]\n",
        "# Popunjavanje nedostajućih vrijednosti u stupcu 'AdmissionDx' s najčešće korištenom vrijednošću\n",
        "podaci1['Current_Work_Status'].fillna(most_common_value, inplace=True)\n"
      ]
    },
    {
      "cell_type": "code",
      "execution_count": null,
      "metadata": {
        "colab": {
          "base_uri": "https://localhost:8080/"
        },
        "id": "O9EevsGojbQB",
        "outputId": "4237da55-58cc-4fa9-d24f-8c7addb1774c"
      },
      "outputs": [
        {
          "output_type": "stream",
          "name": "stdout",
          "text": [
            "[]\n"
          ]
        }
      ],
      "source": [
        "columns_with_nans = podaci1.columns[podaci1.isna().any()].tolist()\n",
        "print(columns_with_nans)"
      ]
    },
    {
      "cell_type": "code",
      "execution_count": null,
      "metadata": {
        "id": "sbExIGzfoFEb"
      },
      "outputs": [],
      "source": [
        "X_test = scaler.fit_transform(podaci1)"
      ]
    },
    {
      "cell_type": "code",
      "execution_count": null,
      "metadata": {
        "colab": {
          "base_uri": "https://localhost:8080/"
        },
        "id": "78nIToLW6S__",
        "outputId": "b7397b69-1e37-40ff-8c18-28343a615c0f"
      },
      "outputs": [
        {
          "output_type": "execute_result",
          "data": {
            "text/plain": [
              "(7336, 273)"
            ]
          },
          "metadata": {},
          "execution_count": 382
        }
      ],
      "source": [
        "X_test.shape"
      ]
    },
    {
      "cell_type": "markdown",
      "metadata": {
        "id": "NPIdEfqhIyon"
      },
      "source": [
        "STATISTICKA ZNACAJNOST PROVJERITI"
      ]
    },
    {
      "cell_type": "code",
      "source": [
        "pip install catboost"
      ],
      "metadata": {
        "colab": {
          "base_uri": "https://localhost:8080/"
        },
        "id": "iHYClxUAbLsy",
        "outputId": "fc620a84-4fce-4974-a367-18985e832eb6"
      },
      "execution_count": null,
      "outputs": [
        {
          "output_type": "stream",
          "name": "stdout",
          "text": [
            "Requirement already satisfied: catboost in /usr/local/lib/python3.10/dist-packages (1.2.3)\n",
            "Requirement already satisfied: graphviz in /usr/local/lib/python3.10/dist-packages (from catboost) (0.20.1)\n",
            "Requirement already satisfied: matplotlib in /usr/local/lib/python3.10/dist-packages (from catboost) (3.7.1)\n",
            "Requirement already satisfied: numpy>=1.16.0 in /usr/local/lib/python3.10/dist-packages (from catboost) (1.25.2)\n",
            "Requirement already satisfied: pandas>=0.24 in /usr/local/lib/python3.10/dist-packages (from catboost) (1.5.3)\n",
            "Requirement already satisfied: scipy in /usr/local/lib/python3.10/dist-packages (from catboost) (1.11.4)\n",
            "Requirement already satisfied: plotly in /usr/local/lib/python3.10/dist-packages (from catboost) (5.15.0)\n",
            "Requirement already satisfied: six in /usr/local/lib/python3.10/dist-packages (from catboost) (1.16.0)\n",
            "Requirement already satisfied: python-dateutil>=2.8.1 in /usr/local/lib/python3.10/dist-packages (from pandas>=0.24->catboost) (2.8.2)\n",
            "Requirement already satisfied: pytz>=2020.1 in /usr/local/lib/python3.10/dist-packages (from pandas>=0.24->catboost) (2023.4)\n",
            "Requirement already satisfied: contourpy>=1.0.1 in /usr/local/lib/python3.10/dist-packages (from matplotlib->catboost) (1.2.0)\n",
            "Requirement already satisfied: cycler>=0.10 in /usr/local/lib/python3.10/dist-packages (from matplotlib->catboost) (0.12.1)\n",
            "Requirement already satisfied: fonttools>=4.22.0 in /usr/local/lib/python3.10/dist-packages (from matplotlib->catboost) (4.49.0)\n",
            "Requirement already satisfied: kiwisolver>=1.0.1 in /usr/local/lib/python3.10/dist-packages (from matplotlib->catboost) (1.4.5)\n",
            "Requirement already satisfied: packaging>=20.0 in /usr/local/lib/python3.10/dist-packages (from matplotlib->catboost) (23.2)\n",
            "Requirement already satisfied: pillow>=6.2.0 in /usr/local/lib/python3.10/dist-packages (from matplotlib->catboost) (9.4.0)\n",
            "Requirement already satisfied: pyparsing>=2.3.1 in /usr/local/lib/python3.10/dist-packages (from matplotlib->catboost) (3.1.1)\n",
            "Requirement already satisfied: tenacity>=6.2.0 in /usr/local/lib/python3.10/dist-packages (from plotly->catboost) (8.2.3)\n"
          ]
        }
      ]
    },
    {
      "cell_type": "code",
      "source": [
        "import numpy as np"
      ],
      "metadata": {
        "id": "xeLXI3bQ0VDY"
      },
      "execution_count": null,
      "outputs": []
    },
    {
      "cell_type": "code",
      "source": [
        "import lightgbm as lgb\n",
        "from sklearn.model_selection import cross_val_score\n",
        "from sklearn.metrics import roc_auc_score\n",
        "import numpy as np\n",
        "# Definiranje parametara LightGBM modela s regularizacijom\n",
        "params = {\n",
        "    'objective': 'binary',\n",
        "    'metric': 'binary_logloss',\n",
        "    'boosting_type': 'gbdt',\n",
        "    'learning_rate': 0.1,\n",
        "    'num_leaves': 31,\n",
        "    'max_depth': -1,\n",
        "    'min_child_samples': 20,\n",
        "    'bagging_fraction': 0.8,\n",
        "    'bagging_freq': 5,\n",
        "    'feature_fraction': 0.8,\n",
        "    'n_estimators': 100,\n",
        "    'random_state': 42,\n",
        "    'reg_alpha': 0.1,  # L1 regularizacija\n",
        "    'reg_lambda': 0.1  # L2 regularizacija\n",
        "}\n",
        "\n",
        "# Kreiranje LightGBM modela s regularizacijom\n",
        "lgb_model = lgb.LGBMClassifier(**params)\n",
        "\n",
        "# Unakrsna validacija\n",
        "cv_scores = cross_val_score(lgb_model, X_train, y_train, cv=5, scoring='roc_auc')\n",
        "\n",
        "# Ispis rezultata unakrsne validacije\n",
        "print(\"Cross-Validation Scores:\", cv_scores)\n",
        "print(\"Mean CV ROC AUC:\", np.mean(cv_scores))\n",
        "\n",
        "# Treniranje LightGBM modela na cijelom skupu za treniranje\n",
        "lgb_model.fit(X_train, y_train)\n",
        "\n",
        "# Predikcija vjerojatnosti pozitivne klase na testnom skupu\n",
        "y_pred_proba = lgb_model.predict_proba(X_test)[:, 1]\n",
        "\n",
        "# Postavljanje praga odlučivanja na 0.4 umjesto 0.5\n",
        "threshold = 0.4\n",
        "y_pred_custom_threshold = (y_pred_proba >= threshold).astype(int)\n",
        "\n",
        "# Ispis rezultata\n",
        "print(\"Predikcije s prilagođenim pragom odlučivanja:\", y_pred_custom_threshold)\n"
      ],
      "metadata": {
        "colab": {
          "base_uri": "https://localhost:8080/"
        },
        "id": "AcBnaGegpqiJ",
        "outputId": "4a2d2737-d9d9-4f3b-97ec-f869e16d4ea1"
      },
      "execution_count": null,
      "outputs": [
        {
          "output_type": "stream",
          "name": "stdout",
          "text": [
            "[LightGBM] [Warning] bagging_freq is set=5, subsample_freq=0 will be ignored. Current value: bagging_freq=5\n",
            "[LightGBM] [Warning] feature_fraction is set=0.8, colsample_bytree=1.0 will be ignored. Current value: feature_fraction=0.8\n",
            "[LightGBM] [Warning] bagging_fraction is set=0.8, subsample=1.0 will be ignored. Current value: bagging_fraction=0.8\n",
            "[LightGBM] [Warning] bagging_freq is set=5, subsample_freq=0 will be ignored. Current value: bagging_freq=5\n",
            "[LightGBM] [Warning] feature_fraction is set=0.8, colsample_bytree=1.0 will be ignored. Current value: feature_fraction=0.8\n",
            "[LightGBM] [Warning] bagging_fraction is set=0.8, subsample=1.0 will be ignored. Current value: bagging_fraction=0.8\n",
            "[LightGBM] [Info] Number of positive: 21344, number of negative: 21344\n",
            "[LightGBM] [Info] Auto-choosing row-wise multi-threading, the overhead of testing was 0.065377 seconds.\n",
            "You can set `force_row_wise=true` to remove the overhead.\n",
            "And if memory is not enough, you can set `force_col_wise=true`.\n",
            "[LightGBM] [Info] Total Bins 1486\n",
            "[LightGBM] [Info] Number of data points in the train set: 42688, number of used features: 220\n",
            "[LightGBM] [Info] [binary:BoostFromScore]: pavg=0.500000 -> initscore=0.000000\n",
            "[LightGBM] [Warning] feature_fraction is set=0.8, colsample_bytree=1.0 will be ignored. Current value: feature_fraction=0.8\n",
            "[LightGBM] [Warning] bagging_freq is set=5, subsample_freq=0 will be ignored. Current value: bagging_freq=5\n",
            "[LightGBM] [Warning] bagging_fraction is set=0.8, subsample=1.0 will be ignored. Current value: bagging_fraction=0.8\n",
            "[LightGBM] [Warning] bagging_freq is set=5, subsample_freq=0 will be ignored. Current value: bagging_freq=5\n",
            "[LightGBM] [Warning] feature_fraction is set=0.8, colsample_bytree=1.0 will be ignored. Current value: feature_fraction=0.8\n",
            "[LightGBM] [Warning] bagging_fraction is set=0.8, subsample=1.0 will be ignored. Current value: bagging_fraction=0.8\n",
            "[LightGBM] [Warning] bagging_freq is set=5, subsample_freq=0 will be ignored. Current value: bagging_freq=5\n",
            "[LightGBM] [Warning] feature_fraction is set=0.8, colsample_bytree=1.0 will be ignored. Current value: feature_fraction=0.8\n",
            "[LightGBM] [Warning] bagging_fraction is set=0.8, subsample=1.0 will be ignored. Current value: bagging_fraction=0.8\n",
            "[LightGBM] [Info] Number of positive: 21344, number of negative: 21344\n",
            "[LightGBM] [Info] Auto-choosing row-wise multi-threading, the overhead of testing was 0.148603 seconds.\n",
            "You can set `force_row_wise=true` to remove the overhead.\n",
            "And if memory is not enough, you can set `force_col_wise=true`.\n",
            "[LightGBM] [Info] Total Bins 1483\n",
            "[LightGBM] [Info] Number of data points in the train set: 42688, number of used features: 220\n",
            "[LightGBM] [Info] [binary:BoostFromScore]: pavg=0.500000 -> initscore=0.000000\n",
            "[LightGBM] [Warning] feature_fraction is set=0.8, colsample_bytree=1.0 will be ignored. Current value: feature_fraction=0.8\n",
            "[LightGBM] [Warning] bagging_freq is set=5, subsample_freq=0 will be ignored. Current value: bagging_freq=5\n",
            "[LightGBM] [Warning] bagging_fraction is set=0.8, subsample=1.0 will be ignored. Current value: bagging_fraction=0.8\n",
            "[LightGBM] [Warning] bagging_freq is set=5, subsample_freq=0 will be ignored. Current value: bagging_freq=5\n",
            "[LightGBM] [Warning] feature_fraction is set=0.8, colsample_bytree=1.0 will be ignored. Current value: feature_fraction=0.8\n",
            "[LightGBM] [Warning] bagging_fraction is set=0.8, subsample=1.0 will be ignored. Current value: bagging_fraction=0.8\n",
            "[LightGBM] [Warning] bagging_freq is set=5, subsample_freq=0 will be ignored. Current value: bagging_freq=5\n",
            "[LightGBM] [Warning] feature_fraction is set=0.8, colsample_bytree=1.0 will be ignored. Current value: feature_fraction=0.8\n",
            "[LightGBM] [Warning] bagging_fraction is set=0.8, subsample=1.0 will be ignored. Current value: bagging_fraction=0.8\n",
            "[LightGBM] [Info] Number of positive: 21344, number of negative: 21344\n",
            "[LightGBM] [Info] Auto-choosing row-wise multi-threading, the overhead of testing was 0.202833 seconds.\n",
            "You can set `force_row_wise=true` to remove the overhead.\n",
            "And if memory is not enough, you can set `force_col_wise=true`.\n",
            "[LightGBM] [Info] Total Bins 1489\n",
            "[LightGBM] [Info] Number of data points in the train set: 42688, number of used features: 221\n",
            "[LightGBM] [Info] [binary:BoostFromScore]: pavg=0.500000 -> initscore=0.000000\n",
            "[LightGBM] [Warning] feature_fraction is set=0.8, colsample_bytree=1.0 will be ignored. Current value: feature_fraction=0.8\n",
            "[LightGBM] [Warning] bagging_freq is set=5, subsample_freq=0 will be ignored. Current value: bagging_freq=5\n",
            "[LightGBM] [Warning] bagging_fraction is set=0.8, subsample=1.0 will be ignored. Current value: bagging_fraction=0.8\n",
            "[LightGBM] [Warning] bagging_freq is set=5, subsample_freq=0 will be ignored. Current value: bagging_freq=5\n",
            "[LightGBM] [Warning] feature_fraction is set=0.8, colsample_bytree=1.0 will be ignored. Current value: feature_fraction=0.8\n",
            "[LightGBM] [Warning] bagging_fraction is set=0.8, subsample=1.0 will be ignored. Current value: bagging_fraction=0.8\n",
            "[LightGBM] [Warning] bagging_freq is set=5, subsample_freq=0 will be ignored. Current value: bagging_freq=5\n",
            "[LightGBM] [Warning] feature_fraction is set=0.8, colsample_bytree=1.0 will be ignored. Current value: feature_fraction=0.8\n",
            "[LightGBM] [Warning] bagging_fraction is set=0.8, subsample=1.0 will be ignored. Current value: bagging_fraction=0.8\n",
            "[LightGBM] [Info] Number of positive: 21344, number of negative: 21344\n",
            "[LightGBM] [Info] Auto-choosing row-wise multi-threading, the overhead of testing was 0.253600 seconds.\n",
            "You can set `force_row_wise=true` to remove the overhead.\n",
            "And if memory is not enough, you can set `force_col_wise=true`.\n",
            "[LightGBM] [Info] Total Bins 1489\n",
            "[LightGBM] [Info] Number of data points in the train set: 42688, number of used features: 221\n",
            "[LightGBM] [Info] [binary:BoostFromScore]: pavg=0.500000 -> initscore=0.000000\n",
            "[LightGBM] [Warning] feature_fraction is set=0.8, colsample_bytree=1.0 will be ignored. Current value: feature_fraction=0.8\n",
            "[LightGBM] [Warning] bagging_freq is set=5, subsample_freq=0 will be ignored. Current value: bagging_freq=5\n",
            "[LightGBM] [Warning] bagging_fraction is set=0.8, subsample=1.0 will be ignored. Current value: bagging_fraction=0.8\n",
            "[LightGBM] [Warning] bagging_freq is set=5, subsample_freq=0 will be ignored. Current value: bagging_freq=5\n",
            "[LightGBM] [Warning] feature_fraction is set=0.8, colsample_bytree=1.0 will be ignored. Current value: feature_fraction=0.8\n",
            "[LightGBM] [Warning] bagging_fraction is set=0.8, subsample=1.0 will be ignored. Current value: bagging_fraction=0.8\n",
            "[LightGBM] [Warning] bagging_freq is set=5, subsample_freq=0 will be ignored. Current value: bagging_freq=5\n",
            "[LightGBM] [Warning] feature_fraction is set=0.8, colsample_bytree=1.0 will be ignored. Current value: feature_fraction=0.8\n",
            "[LightGBM] [Warning] bagging_fraction is set=0.8, subsample=1.0 will be ignored. Current value: bagging_fraction=0.8\n",
            "[LightGBM] [Info] Number of positive: 21344, number of negative: 21344\n",
            "[LightGBM] [Info] Auto-choosing row-wise multi-threading, the overhead of testing was 0.145431 seconds.\n",
            "You can set `force_row_wise=true` to remove the overhead.\n",
            "And if memory is not enough, you can set `force_col_wise=true`.\n",
            "[LightGBM] [Info] Total Bins 1474\n",
            "[LightGBM] [Info] Number of data points in the train set: 42688, number of used features: 220\n",
            "[LightGBM] [Info] [binary:BoostFromScore]: pavg=0.500000 -> initscore=0.000000\n",
            "[LightGBM] [Warning] feature_fraction is set=0.8, colsample_bytree=1.0 will be ignored. Current value: feature_fraction=0.8\n",
            "[LightGBM] [Warning] bagging_freq is set=5, subsample_freq=0 will be ignored. Current value: bagging_freq=5\n",
            "[LightGBM] [Warning] bagging_fraction is set=0.8, subsample=1.0 will be ignored. Current value: bagging_fraction=0.8\n",
            "Cross-Validation Scores: [0.95510418 0.95821363 0.95833704 0.95793925 0.96184649]\n",
            "Mean CV ROC AUC: 0.9582881172326131\n",
            "[LightGBM] [Warning] bagging_freq is set=5, subsample_freq=0 will be ignored. Current value: bagging_freq=5\n",
            "[LightGBM] [Warning] feature_fraction is set=0.8, colsample_bytree=1.0 will be ignored. Current value: feature_fraction=0.8\n",
            "[LightGBM] [Warning] bagging_fraction is set=0.8, subsample=1.0 will be ignored. Current value: bagging_fraction=0.8\n",
            "[LightGBM] [Warning] bagging_freq is set=5, subsample_freq=0 will be ignored. Current value: bagging_freq=5\n",
            "[LightGBM] [Warning] feature_fraction is set=0.8, colsample_bytree=1.0 will be ignored. Current value: feature_fraction=0.8\n",
            "[LightGBM] [Warning] bagging_fraction is set=0.8, subsample=1.0 will be ignored. Current value: bagging_fraction=0.8\n",
            "[LightGBM] [Info] Number of positive: 26680, number of negative: 26680\n",
            "[LightGBM] [Info] Auto-choosing col-wise multi-threading, the overhead of testing was 0.175831 seconds.\n",
            "You can set `force_col_wise=true` to remove the overhead.\n",
            "[LightGBM] [Info] Total Bins 1518\n",
            "[LightGBM] [Info] Number of data points in the train set: 53360, number of used features: 226\n",
            "[LightGBM] [Info] [binary:BoostFromScore]: pavg=0.500000 -> initscore=0.000000\n",
            "[LightGBM] [Warning] feature_fraction is set=0.8, colsample_bytree=1.0 will be ignored. Current value: feature_fraction=0.8\n",
            "[LightGBM] [Warning] bagging_freq is set=5, subsample_freq=0 will be ignored. Current value: bagging_freq=5\n",
            "[LightGBM] [Warning] bagging_fraction is set=0.8, subsample=1.0 will be ignored. Current value: bagging_fraction=0.8\n",
            "Predikcije s prilagođenim pragom odlučivanja: [0 0 0 ... 0 1 1]\n"
          ]
        }
      ]
    },
    {
      "cell_type": "code",
      "source": [
        "# Izračunavanje broja jedinica u predictions\n",
        "num_ones = sum(y_pred_custom_threshold)\n",
        "\n",
        "# Ispis broja jedinica\n",
        "print(\"Broj jedinica u predictions:\", num_ones)\n"
      ],
      "metadata": {
        "colab": {
          "base_uri": "https://localhost:8080/"
        },
        "id": "-QIYHu-Jce7V",
        "outputId": "5aead75f-19e5-470b-a158-ddee236634dc"
      },
      "execution_count": null,
      "outputs": [
        {
          "output_type": "stream",
          "name": "stdout",
          "text": [
            "Broj jedinica u predictions: 2202\n"
          ]
        }
      ]
    },
    {
      "cell_type": "code",
      "source": [
        "import csv\n",
        "\n",
        "# Otvaranje datoteke za pisanje\n",
        "with open('Care4You_7_2024-03-06.txt', 'w', encoding='utf-8') as file:\n",
        "    # Pisanje zaglavlja u datoteku\n",
        "    file.write(\"Label,Probability_0,Probability_1\\n\")\n",
        "\n",
        "    # Pisanje svakog reda u datoteku\n",
        "    for label, prob_1 in zip(y_pred_custom_threshold, y_pred_proba):\n",
        "        prob_0 = 1 - prob_1  # Vjerojatnost klase 0 je 1 - vjerojatnost klase 1\n",
        "        file.write(f\"{label},{prob_0},{prob_1}\\n\")\n"
      ],
      "metadata": {
        "id": "YIuJR7lmheqg"
      },
      "execution_count": null,
      "outputs": []
    },
    {
      "cell_type": "code",
      "source": [
        "num_rows = y_pred_custom_threshold.shape[0]\n",
        "print(\"Broj redova u y_pred:\", num_rows)\n"
      ],
      "metadata": {
        "colab": {
          "base_uri": "https://localhost:8080/"
        },
        "id": "x2bZp5YUihNt",
        "outputId": "e5ba20b1-3cff-45e0-98e6-8536256c5262"
      },
      "execution_count": null,
      "outputs": [
        {
          "output_type": "stream",
          "name": "stdout",
          "text": [
            "Broj redova u y_pred: 7336\n"
          ]
        }
      ]
    },
    {
      "cell_type": "code",
      "source": [
        "\"Confusion Matrix Calculator with Missing Values\""
      ],
      "metadata": {
        "colab": {
          "base_uri": "https://localhost:8080/",
          "height": 35
        },
        "id": "X0j3HTjhzvyR",
        "outputId": "d146b291-1678-475a-c9e9-d31e18451fe1"
      },
      "execution_count": null,
      "outputs": [
        {
          "output_type": "execute_result",
          "data": {
            "text/plain": [
              "'Confusion Matrix Calculator with Missing Values'"
            ],
            "application/vnd.google.colaboratory.intrinsic+json": {
              "type": "string"
            }
          },
          "metadata": {},
          "execution_count": 389
        }
      ]
    }
  ],
  "metadata": {
    "colab": {
      "provenance": [],
      "gpuType": "T4"
    },
    "kernelspec": {
      "display_name": "Python 3",
      "name": "python3"
    },
    "language_info": {
      "name": "python"
    },
    "accelerator": "GPU"
  },
  "nbformat": 4,
  "nbformat_minor": 0
}