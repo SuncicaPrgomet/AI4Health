{
  "cells": [
    {
      "cell_type": "markdown",
      "metadata": {
        "id": "O5fjKsHwg8KY"
      },
      "source": [
        "#UČITAVANJE PODATAKA"
      ]
    },
    {
      "cell_type": "markdown",
      "metadata": {
        "id": "GQY5AGXdD6D9"
      },
      "source": [
        "TRAIN"
      ]
    },
    {
      "cell_type": "code",
      "execution_count": null,
      "metadata": {
        "id": "r9Qn5vFeg281"
      },
      "outputs": [],
      "source": [
        "import pandas as pd\n",
        "from imblearn.over_sampling import SMOTE\n",
        "from collections import Counter  # Dodali smo uvoz Counter\n"
      ]
    },
    {
      "cell_type": "code",
      "execution_count": null,
      "metadata": {
        "colab": {
          "base_uri": "https://localhost:8080/"
        },
        "id": "3ACaj7DBqaG_",
        "outputId": "76a37d6a-f10a-43cb-aece-8493f0284fbb"
      },
      "outputs": [
        {
          "output_type": "stream",
          "name": "stdout",
          "text": [
            "Drive already mounted at /content/drive; to attempt to forcibly remount, call drive.mount(\"/content/drive\", force_remount=True).\n"
          ]
        }
      ],
      "source": [
        "from google.colab import drive\n",
        "drive.mount('/content/drive')"
      ]
    },
    {
      "cell_type": "code",
      "execution_count": null,
      "metadata": {
        "colab": {
          "base_uri": "https://localhost:8080/"
        },
        "id": "r8khPsXYhBPA",
        "outputId": "5a6722c0-b5a0-491e-e911-9ce6b2614d2a"
      },
      "outputs": [
        {
          "output_type": "stream",
          "name": "stdout",
          "text": [
            "/content/drive/MyDrive/data\n"
          ]
        }
      ],
      "source": [
        "%cd /content/drive/MyDrive/data"
      ]
    },
    {
      "cell_type": "code",
      "execution_count": null,
      "metadata": {
        "id": "DWbgKms4hCvD"
      },
      "outputs": [],
      "source": [
        "podaci = pd.read_csv(\"train.csv\")"
      ]
    },
    {
      "cell_type": "code",
      "execution_count": null,
      "metadata": {
        "colab": {
          "base_uri": "https://localhost:8080/",
          "height": 424
        },
        "id": "etES4uHoufkt",
        "outputId": "41135310-27c3-4154-b8a5-a5213e102e53"
      },
      "outputs": [
        {
          "output_type": "execute_result",
          "data": {
            "text/plain": [
              "       Unnamed: 0 AdmissionDx AdmissionType  PreviousAdmissionDays  LOS  \\\n",
              "0               1           I     Elektivni                     -8    1   \n",
              "1               2           I     Elektivni                     -8   16   \n",
              "2               3           I     Elektivni                    279    3   \n",
              "3               4           I     Elektivni                   1905    2   \n",
              "4               5           I     Elektivni                     -8    2   \n",
              "...           ...         ...           ...                    ...  ...   \n",
              "28582      259512           I     Elektivni                     -8    1   \n",
              "28583      259572           R         Hitni                     -8   15   \n",
              "28584      259592           I     Elektivni                     -8    4   \n",
              "28585      261752           I     Elektivni                     -8    1   \n",
              "28586      262502           I     Elektivni                     -8   61   \n",
              "\n",
              "      Age_Group Gender  Surgery_Count  LOS_ICU  Discharge_Specialty  ...  L  \\\n",
              "0         83-87      Ž              0        0              3010100  ...  0   \n",
              "1         68-72      M              1        0              3100400  ...  0   \n",
              "2         18-22      Ž              1        0              3010100  ...  0   \n",
              "3         83-87      M              0        0              3010100  ...  0   \n",
              "4         73-77      M              0        0              3010100  ...  0   \n",
              "...         ...    ...            ...      ...                  ...  ... ..   \n",
              "28582     68-72      M              0        0              3010100  ...  0   \n",
              "28583     43-47      M              0        0              3010100  ...  0   \n",
              "28584     73-77      Ž              0        0              3010100  ...  0   \n",
              "28585     63-67      M              0        0              3100400  ...  0   \n",
              "28586     53-57      M              2       45              3190100  ...  0   \n",
              "\n",
              "       M  N  Q  R  S  T  U  Y  Z  \n",
              "0      0  0  0  0  0  0  0  0  2  \n",
              "1      0  0  0  0  0  0  0  0  0  \n",
              "2      0  0  0  0  0  0  0  0  0  \n",
              "3      0  1  0  0  0  0  0  0  0  \n",
              "4      0  1  0  0  0  0  0  0  0  \n",
              "...   .. .. .. .. .. .. .. .. ..  \n",
              "28582  0  0  0  0  0  0  0  0  0  \n",
              "28583  0  0  0  0  0  1  0  0  0  \n",
              "28584  0  0  0  0  0  0  0  0  0  \n",
              "28585  0  0  0  0  0  0  0  0  0  \n",
              "28586  0  0  0  0  0  0  0  0  1  \n",
              "\n",
              "[28587 rows x 275 columns]"
            ],
            "text/html": [
              "\n",
              "  <div id=\"df-41c7dadb-3b17-40cb-bf6d-f95d61aa52bc\" class=\"colab-df-container\">\n",
              "    <div>\n",
              "<style scoped>\n",
              "    .dataframe tbody tr th:only-of-type {\n",
              "        vertical-align: middle;\n",
              "    }\n",
              "\n",
              "    .dataframe tbody tr th {\n",
              "        vertical-align: top;\n",
              "    }\n",
              "\n",
              "    .dataframe thead th {\n",
              "        text-align: right;\n",
              "    }\n",
              "</style>\n",
              "<table border=\"1\" class=\"dataframe\">\n",
              "  <thead>\n",
              "    <tr style=\"text-align: right;\">\n",
              "      <th></th>\n",
              "      <th>Unnamed: 0</th>\n",
              "      <th>AdmissionDx</th>\n",
              "      <th>AdmissionType</th>\n",
              "      <th>PreviousAdmissionDays</th>\n",
              "      <th>LOS</th>\n",
              "      <th>Age_Group</th>\n",
              "      <th>Gender</th>\n",
              "      <th>Surgery_Count</th>\n",
              "      <th>LOS_ICU</th>\n",
              "      <th>Discharge_Specialty</th>\n",
              "      <th>...</th>\n",
              "      <th>L</th>\n",
              "      <th>M</th>\n",
              "      <th>N</th>\n",
              "      <th>Q</th>\n",
              "      <th>R</th>\n",
              "      <th>S</th>\n",
              "      <th>T</th>\n",
              "      <th>U</th>\n",
              "      <th>Y</th>\n",
              "      <th>Z</th>\n",
              "    </tr>\n",
              "  </thead>\n",
              "  <tbody>\n",
              "    <tr>\n",
              "      <th>0</th>\n",
              "      <td>1</td>\n",
              "      <td>I</td>\n",
              "      <td>Elektivni</td>\n",
              "      <td>-8</td>\n",
              "      <td>1</td>\n",
              "      <td>83-87</td>\n",
              "      <td>Ž</td>\n",
              "      <td>0</td>\n",
              "      <td>0</td>\n",
              "      <td>3010100</td>\n",
              "      <td>...</td>\n",
              "      <td>0</td>\n",
              "      <td>0</td>\n",
              "      <td>0</td>\n",
              "      <td>0</td>\n",
              "      <td>0</td>\n",
              "      <td>0</td>\n",
              "      <td>0</td>\n",
              "      <td>0</td>\n",
              "      <td>0</td>\n",
              "      <td>2</td>\n",
              "    </tr>\n",
              "    <tr>\n",
              "      <th>1</th>\n",
              "      <td>2</td>\n",
              "      <td>I</td>\n",
              "      <td>Elektivni</td>\n",
              "      <td>-8</td>\n",
              "      <td>16</td>\n",
              "      <td>68-72</td>\n",
              "      <td>M</td>\n",
              "      <td>1</td>\n",
              "      <td>0</td>\n",
              "      <td>3100400</td>\n",
              "      <td>...</td>\n",
              "      <td>0</td>\n",
              "      <td>0</td>\n",
              "      <td>0</td>\n",
              "      <td>0</td>\n",
              "      <td>0</td>\n",
              "      <td>0</td>\n",
              "      <td>0</td>\n",
              "      <td>0</td>\n",
              "      <td>0</td>\n",
              "      <td>0</td>\n",
              "    </tr>\n",
              "    <tr>\n",
              "      <th>2</th>\n",
              "      <td>3</td>\n",
              "      <td>I</td>\n",
              "      <td>Elektivni</td>\n",
              "      <td>279</td>\n",
              "      <td>3</td>\n",
              "      <td>18-22</td>\n",
              "      <td>Ž</td>\n",
              "      <td>1</td>\n",
              "      <td>0</td>\n",
              "      <td>3010100</td>\n",
              "      <td>...</td>\n",
              "      <td>0</td>\n",
              "      <td>0</td>\n",
              "      <td>0</td>\n",
              "      <td>0</td>\n",
              "      <td>0</td>\n",
              "      <td>0</td>\n",
              "      <td>0</td>\n",
              "      <td>0</td>\n",
              "      <td>0</td>\n",
              "      <td>0</td>\n",
              "    </tr>\n",
              "    <tr>\n",
              "      <th>3</th>\n",
              "      <td>4</td>\n",
              "      <td>I</td>\n",
              "      <td>Elektivni</td>\n",
              "      <td>1905</td>\n",
              "      <td>2</td>\n",
              "      <td>83-87</td>\n",
              "      <td>M</td>\n",
              "      <td>0</td>\n",
              "      <td>0</td>\n",
              "      <td>3010100</td>\n",
              "      <td>...</td>\n",
              "      <td>0</td>\n",
              "      <td>0</td>\n",
              "      <td>1</td>\n",
              "      <td>0</td>\n",
              "      <td>0</td>\n",
              "      <td>0</td>\n",
              "      <td>0</td>\n",
              "      <td>0</td>\n",
              "      <td>0</td>\n",
              "      <td>0</td>\n",
              "    </tr>\n",
              "    <tr>\n",
              "      <th>4</th>\n",
              "      <td>5</td>\n",
              "      <td>I</td>\n",
              "      <td>Elektivni</td>\n",
              "      <td>-8</td>\n",
              "      <td>2</td>\n",
              "      <td>73-77</td>\n",
              "      <td>M</td>\n",
              "      <td>0</td>\n",
              "      <td>0</td>\n",
              "      <td>3010100</td>\n",
              "      <td>...</td>\n",
              "      <td>0</td>\n",
              "      <td>0</td>\n",
              "      <td>1</td>\n",
              "      <td>0</td>\n",
              "      <td>0</td>\n",
              "      <td>0</td>\n",
              "      <td>0</td>\n",
              "      <td>0</td>\n",
              "      <td>0</td>\n",
              "      <td>0</td>\n",
              "    </tr>\n",
              "    <tr>\n",
              "      <th>...</th>\n",
              "      <td>...</td>\n",
              "      <td>...</td>\n",
              "      <td>...</td>\n",
              "      <td>...</td>\n",
              "      <td>...</td>\n",
              "      <td>...</td>\n",
              "      <td>...</td>\n",
              "      <td>...</td>\n",
              "      <td>...</td>\n",
              "      <td>...</td>\n",
              "      <td>...</td>\n",
              "      <td>...</td>\n",
              "      <td>...</td>\n",
              "      <td>...</td>\n",
              "      <td>...</td>\n",
              "      <td>...</td>\n",
              "      <td>...</td>\n",
              "      <td>...</td>\n",
              "      <td>...</td>\n",
              "      <td>...</td>\n",
              "      <td>...</td>\n",
              "    </tr>\n",
              "    <tr>\n",
              "      <th>28582</th>\n",
              "      <td>259512</td>\n",
              "      <td>I</td>\n",
              "      <td>Elektivni</td>\n",
              "      <td>-8</td>\n",
              "      <td>1</td>\n",
              "      <td>68-72</td>\n",
              "      <td>M</td>\n",
              "      <td>0</td>\n",
              "      <td>0</td>\n",
              "      <td>3010100</td>\n",
              "      <td>...</td>\n",
              "      <td>0</td>\n",
              "      <td>0</td>\n",
              "      <td>0</td>\n",
              "      <td>0</td>\n",
              "      <td>0</td>\n",
              "      <td>0</td>\n",
              "      <td>0</td>\n",
              "      <td>0</td>\n",
              "      <td>0</td>\n",
              "      <td>0</td>\n",
              "    </tr>\n",
              "    <tr>\n",
              "      <th>28583</th>\n",
              "      <td>259572</td>\n",
              "      <td>R</td>\n",
              "      <td>Hitni</td>\n",
              "      <td>-8</td>\n",
              "      <td>15</td>\n",
              "      <td>43-47</td>\n",
              "      <td>M</td>\n",
              "      <td>0</td>\n",
              "      <td>0</td>\n",
              "      <td>3010100</td>\n",
              "      <td>...</td>\n",
              "      <td>0</td>\n",
              "      <td>0</td>\n",
              "      <td>0</td>\n",
              "      <td>0</td>\n",
              "      <td>0</td>\n",
              "      <td>0</td>\n",
              "      <td>1</td>\n",
              "      <td>0</td>\n",
              "      <td>0</td>\n",
              "      <td>0</td>\n",
              "    </tr>\n",
              "    <tr>\n",
              "      <th>28584</th>\n",
              "      <td>259592</td>\n",
              "      <td>I</td>\n",
              "      <td>Elektivni</td>\n",
              "      <td>-8</td>\n",
              "      <td>4</td>\n",
              "      <td>73-77</td>\n",
              "      <td>Ž</td>\n",
              "      <td>0</td>\n",
              "      <td>0</td>\n",
              "      <td>3010100</td>\n",
              "      <td>...</td>\n",
              "      <td>0</td>\n",
              "      <td>0</td>\n",
              "      <td>0</td>\n",
              "      <td>0</td>\n",
              "      <td>0</td>\n",
              "      <td>0</td>\n",
              "      <td>0</td>\n",
              "      <td>0</td>\n",
              "      <td>0</td>\n",
              "      <td>0</td>\n",
              "    </tr>\n",
              "    <tr>\n",
              "      <th>28585</th>\n",
              "      <td>261752</td>\n",
              "      <td>I</td>\n",
              "      <td>Elektivni</td>\n",
              "      <td>-8</td>\n",
              "      <td>1</td>\n",
              "      <td>63-67</td>\n",
              "      <td>M</td>\n",
              "      <td>0</td>\n",
              "      <td>0</td>\n",
              "      <td>3100400</td>\n",
              "      <td>...</td>\n",
              "      <td>0</td>\n",
              "      <td>0</td>\n",
              "      <td>0</td>\n",
              "      <td>0</td>\n",
              "      <td>0</td>\n",
              "      <td>0</td>\n",
              "      <td>0</td>\n",
              "      <td>0</td>\n",
              "      <td>0</td>\n",
              "      <td>0</td>\n",
              "    </tr>\n",
              "    <tr>\n",
              "      <th>28586</th>\n",
              "      <td>262502</td>\n",
              "      <td>I</td>\n",
              "      <td>Elektivni</td>\n",
              "      <td>-8</td>\n",
              "      <td>61</td>\n",
              "      <td>53-57</td>\n",
              "      <td>M</td>\n",
              "      <td>2</td>\n",
              "      <td>45</td>\n",
              "      <td>3190100</td>\n",
              "      <td>...</td>\n",
              "      <td>0</td>\n",
              "      <td>0</td>\n",
              "      <td>0</td>\n",
              "      <td>0</td>\n",
              "      <td>0</td>\n",
              "      <td>0</td>\n",
              "      <td>0</td>\n",
              "      <td>0</td>\n",
              "      <td>0</td>\n",
              "      <td>1</td>\n",
              "    </tr>\n",
              "  </tbody>\n",
              "</table>\n",
              "<p>28587 rows × 275 columns</p>\n",
              "</div>\n",
              "    <div class=\"colab-df-buttons\">\n",
              "\n",
              "  <div class=\"colab-df-container\">\n",
              "    <button class=\"colab-df-convert\" onclick=\"convertToInteractive('df-41c7dadb-3b17-40cb-bf6d-f95d61aa52bc')\"\n",
              "            title=\"Convert this dataframe to an interactive table.\"\n",
              "            style=\"display:none;\">\n",
              "\n",
              "  <svg xmlns=\"http://www.w3.org/2000/svg\" height=\"24px\" viewBox=\"0 -960 960 960\">\n",
              "    <path d=\"M120-120v-720h720v720H120Zm60-500h600v-160H180v160Zm220 220h160v-160H400v160Zm0 220h160v-160H400v160ZM180-400h160v-160H180v160Zm440 0h160v-160H620v160ZM180-180h160v-160H180v160Zm440 0h160v-160H620v160Z\"/>\n",
              "  </svg>\n",
              "    </button>\n",
              "\n",
              "  <style>\n",
              "    .colab-df-container {\n",
              "      display:flex;\n",
              "      gap: 12px;\n",
              "    }\n",
              "\n",
              "    .colab-df-convert {\n",
              "      background-color: #E8F0FE;\n",
              "      border: none;\n",
              "      border-radius: 50%;\n",
              "      cursor: pointer;\n",
              "      display: none;\n",
              "      fill: #1967D2;\n",
              "      height: 32px;\n",
              "      padding: 0 0 0 0;\n",
              "      width: 32px;\n",
              "    }\n",
              "\n",
              "    .colab-df-convert:hover {\n",
              "      background-color: #E2EBFA;\n",
              "      box-shadow: 0px 1px 2px rgba(60, 64, 67, 0.3), 0px 1px 3px 1px rgba(60, 64, 67, 0.15);\n",
              "      fill: #174EA6;\n",
              "    }\n",
              "\n",
              "    .colab-df-buttons div {\n",
              "      margin-bottom: 4px;\n",
              "    }\n",
              "\n",
              "    [theme=dark] .colab-df-convert {\n",
              "      background-color: #3B4455;\n",
              "      fill: #D2E3FC;\n",
              "    }\n",
              "\n",
              "    [theme=dark] .colab-df-convert:hover {\n",
              "      background-color: #434B5C;\n",
              "      box-shadow: 0px 1px 3px 1px rgba(0, 0, 0, 0.15);\n",
              "      filter: drop-shadow(0px 1px 2px rgba(0, 0, 0, 0.3));\n",
              "      fill: #FFFFFF;\n",
              "    }\n",
              "  </style>\n",
              "\n",
              "    <script>\n",
              "      const buttonEl =\n",
              "        document.querySelector('#df-41c7dadb-3b17-40cb-bf6d-f95d61aa52bc button.colab-df-convert');\n",
              "      buttonEl.style.display =\n",
              "        google.colab.kernel.accessAllowed ? 'block' : 'none';\n",
              "\n",
              "      async function convertToInteractive(key) {\n",
              "        const element = document.querySelector('#df-41c7dadb-3b17-40cb-bf6d-f95d61aa52bc');\n",
              "        const dataTable =\n",
              "          await google.colab.kernel.invokeFunction('convertToInteractive',\n",
              "                                                    [key], {});\n",
              "        if (!dataTable) return;\n",
              "\n",
              "        const docLinkHtml = 'Like what you see? Visit the ' +\n",
              "          '<a target=\"_blank\" href=https://colab.research.google.com/notebooks/data_table.ipynb>data table notebook</a>'\n",
              "          + ' to learn more about interactive tables.';\n",
              "        element.innerHTML = '';\n",
              "        dataTable['output_type'] = 'display_data';\n",
              "        await google.colab.output.renderOutput(dataTable, element);\n",
              "        const docLink = document.createElement('div');\n",
              "        docLink.innerHTML = docLinkHtml;\n",
              "        element.appendChild(docLink);\n",
              "      }\n",
              "    </script>\n",
              "  </div>\n",
              "\n",
              "\n",
              "<div id=\"df-858222e0-43d3-4b9c-b115-8b795c46036a\">\n",
              "  <button class=\"colab-df-quickchart\" onclick=\"quickchart('df-858222e0-43d3-4b9c-b115-8b795c46036a')\"\n",
              "            title=\"Suggest charts\"\n",
              "            style=\"display:none;\">\n",
              "\n",
              "<svg xmlns=\"http://www.w3.org/2000/svg\" height=\"24px\"viewBox=\"0 0 24 24\"\n",
              "     width=\"24px\">\n",
              "    <g>\n",
              "        <path d=\"M19 3H5c-1.1 0-2 .9-2 2v14c0 1.1.9 2 2 2h14c1.1 0 2-.9 2-2V5c0-1.1-.9-2-2-2zM9 17H7v-7h2v7zm4 0h-2V7h2v10zm4 0h-2v-4h2v4z\"/>\n",
              "    </g>\n",
              "</svg>\n",
              "  </button>\n",
              "\n",
              "<style>\n",
              "  .colab-df-quickchart {\n",
              "      --bg-color: #E8F0FE;\n",
              "      --fill-color: #1967D2;\n",
              "      --hover-bg-color: #E2EBFA;\n",
              "      --hover-fill-color: #174EA6;\n",
              "      --disabled-fill-color: #AAA;\n",
              "      --disabled-bg-color: #DDD;\n",
              "  }\n",
              "\n",
              "  [theme=dark] .colab-df-quickchart {\n",
              "      --bg-color: #3B4455;\n",
              "      --fill-color: #D2E3FC;\n",
              "      --hover-bg-color: #434B5C;\n",
              "      --hover-fill-color: #FFFFFF;\n",
              "      --disabled-bg-color: #3B4455;\n",
              "      --disabled-fill-color: #666;\n",
              "  }\n",
              "\n",
              "  .colab-df-quickchart {\n",
              "    background-color: var(--bg-color);\n",
              "    border: none;\n",
              "    border-radius: 50%;\n",
              "    cursor: pointer;\n",
              "    display: none;\n",
              "    fill: var(--fill-color);\n",
              "    height: 32px;\n",
              "    padding: 0;\n",
              "    width: 32px;\n",
              "  }\n",
              "\n",
              "  .colab-df-quickchart:hover {\n",
              "    background-color: var(--hover-bg-color);\n",
              "    box-shadow: 0 1px 2px rgba(60, 64, 67, 0.3), 0 1px 3px 1px rgba(60, 64, 67, 0.15);\n",
              "    fill: var(--button-hover-fill-color);\n",
              "  }\n",
              "\n",
              "  .colab-df-quickchart-complete:disabled,\n",
              "  .colab-df-quickchart-complete:disabled:hover {\n",
              "    background-color: var(--disabled-bg-color);\n",
              "    fill: var(--disabled-fill-color);\n",
              "    box-shadow: none;\n",
              "  }\n",
              "\n",
              "  .colab-df-spinner {\n",
              "    border: 2px solid var(--fill-color);\n",
              "    border-color: transparent;\n",
              "    border-bottom-color: var(--fill-color);\n",
              "    animation:\n",
              "      spin 1s steps(1) infinite;\n",
              "  }\n",
              "\n",
              "  @keyframes spin {\n",
              "    0% {\n",
              "      border-color: transparent;\n",
              "      border-bottom-color: var(--fill-color);\n",
              "      border-left-color: var(--fill-color);\n",
              "    }\n",
              "    20% {\n",
              "      border-color: transparent;\n",
              "      border-left-color: var(--fill-color);\n",
              "      border-top-color: var(--fill-color);\n",
              "    }\n",
              "    30% {\n",
              "      border-color: transparent;\n",
              "      border-left-color: var(--fill-color);\n",
              "      border-top-color: var(--fill-color);\n",
              "      border-right-color: var(--fill-color);\n",
              "    }\n",
              "    40% {\n",
              "      border-color: transparent;\n",
              "      border-right-color: var(--fill-color);\n",
              "      border-top-color: var(--fill-color);\n",
              "    }\n",
              "    60% {\n",
              "      border-color: transparent;\n",
              "      border-right-color: var(--fill-color);\n",
              "    }\n",
              "    80% {\n",
              "      border-color: transparent;\n",
              "      border-right-color: var(--fill-color);\n",
              "      border-bottom-color: var(--fill-color);\n",
              "    }\n",
              "    90% {\n",
              "      border-color: transparent;\n",
              "      border-bottom-color: var(--fill-color);\n",
              "    }\n",
              "  }\n",
              "</style>\n",
              "\n",
              "  <script>\n",
              "    async function quickchart(key) {\n",
              "      const quickchartButtonEl =\n",
              "        document.querySelector('#' + key + ' button');\n",
              "      quickchartButtonEl.disabled = true;  // To prevent multiple clicks.\n",
              "      quickchartButtonEl.classList.add('colab-df-spinner');\n",
              "      try {\n",
              "        const charts = await google.colab.kernel.invokeFunction(\n",
              "            'suggestCharts', [key], {});\n",
              "      } catch (error) {\n",
              "        console.error('Error during call to suggestCharts:', error);\n",
              "      }\n",
              "      quickchartButtonEl.classList.remove('colab-df-spinner');\n",
              "      quickchartButtonEl.classList.add('colab-df-quickchart-complete');\n",
              "    }\n",
              "    (() => {\n",
              "      let quickchartButtonEl =\n",
              "        document.querySelector('#df-858222e0-43d3-4b9c-b115-8b795c46036a button');\n",
              "      quickchartButtonEl.style.display =\n",
              "        google.colab.kernel.accessAllowed ? 'block' : 'none';\n",
              "    })();\n",
              "  </script>\n",
              "</div>\n",
              "    </div>\n",
              "  </div>\n"
            ],
            "application/vnd.google.colaboratory.intrinsic+json": {
              "type": "dataframe",
              "variable_name": "podaci"
            }
          },
          "metadata": {},
          "execution_count": 225
        }
      ],
      "source": [
        "podaci"
      ]
    },
    {
      "cell_type": "code",
      "execution_count": null,
      "metadata": {
        "colab": {
          "base_uri": "https://localhost:8080/"
        },
        "id": "mDjWYlLwhLfr",
        "outputId": "d7c2f5e7-093c-48eb-878f-e33369a0e536"
      },
      "outputs": [
        {
          "output_type": "execute_result",
          "data": {
            "text/plain": [
              "(28587, 275)"
            ]
          },
          "metadata": {},
          "execution_count": 226
        }
      ],
      "source": [
        "podaci.shape"
      ]
    },
    {
      "cell_type": "markdown",
      "metadata": {
        "id": "7KjZ-afEhOOT"
      },
      "source": [
        "#IZBACIVANJE REDAKA S NUL VRIJEDNOSTIMA TE PRVOG STUPCA"
      ]
    },
    {
      "cell_type": "code",
      "execution_count": null,
      "metadata": {
        "id": "fejAeAl6hRuF"
      },
      "outputs": [],
      "source": [
        "# Pronalaženje najčešće korištene vrijednosti u stupcu 'AdmissionDx'\n",
        "most_common_value = podaci['AdmissionDx'].mode()[0]\n",
        "# Popunjavanje nedostajućih vrijednosti u stupcu 'AdmissionDx' s najčešće korištenom vrijednošću\n",
        "podaci['AdmissionDx'].fillna(most_common_value, inplace=True)\n",
        "# Pronalaženje najčešće korištene vrijednosti u stupcu 'AdmissionDx'\n",
        "most_common_value = podaci['Education'].mode()[0]\n",
        "# Popunjavanje nedostajućih vrijednosti u stupcu 'AdmissionDx' s najčešće korištenom vrijednošću\n",
        "podaci['Education'].fillna(most_common_value, inplace=True)\n",
        "# Pronalaženje najčešće korištene vrijednosti u stupcu 'AdmissionDx'\n",
        "most_common_value = podaci['Current_Work_Status'].mode()[0]\n",
        "# Popunjavanje nedostajućih vrijednosti u stupcu 'AdmissionDx' s najčešće korištenom vrijednošću\n",
        "podaci['Current_Work_Status'].fillna(most_common_value, inplace=True)\n",
        "# Izbačanje svih redaka gdje je vrijednost u stupcu \"gender\" NaN\n",
        "podaci = podaci.dropna(subset=['Gender'])"
      ]
    },
    {
      "cell_type": "code",
      "execution_count": null,
      "metadata": {
        "colab": {
          "base_uri": "https://localhost:8080/"
        },
        "id": "LH8Rb-y-hSp9",
        "outputId": "536c14d8-85c3-4b5d-ebd6-f8f455a0fd9d"
      },
      "outputs": [
        {
          "output_type": "execute_result",
          "data": {
            "text/plain": [
              "(28585, 275)"
            ]
          },
          "metadata": {},
          "execution_count": 228
        }
      ],
      "source": [
        "podaci.shape"
      ]
    },
    {
      "cell_type": "code",
      "execution_count": null,
      "metadata": {
        "id": "1Yb080o-mUZY",
        "colab": {
          "base_uri": "https://localhost:8080/"
        },
        "outputId": "e0b41efd-feda-475e-ac15-24cc8ee415aa"
      },
      "outputs": [
        {
          "output_type": "stream",
          "name": "stderr",
          "text": [
            "<ipython-input-229-055a531801ce>:1: SettingWithCopyWarning: \n",
            "A value is trying to be set on a copy of a slice from a DataFrame\n",
            "\n",
            "See the caveats in the documentation: https://pandas.pydata.org/pandas-docs/stable/user_guide/indexing.html#returning-a-view-versus-a-copy\n",
            "  podaci.drop(['Unnamed: 0'],axis=1, inplace=True)\n"
          ]
        }
      ],
      "source": [
        "podaci.drop(['Unnamed: 0'],axis=1, inplace=True)"
      ]
    },
    {
      "cell_type": "code",
      "execution_count": null,
      "metadata": {
        "colab": {
          "base_uri": "https://localhost:8080/"
        },
        "id": "xnd_et-VhWvk",
        "outputId": "e9cc9cb5-92ba-4d5f-a8c7-34ebfd025c1e"
      },
      "outputs": [
        {
          "output_type": "stream",
          "name": "stdout",
          "text": [
            "Vrijednost -8 se pojavljuje 13121 puta u stupcu 'PreviousAdmissionDays'\n",
            "Vrijednost -8 se pojavljuje 1441 puta u stupcu 'Weight_Discharge'\n",
            "Vrijednost -8 se pojavljuje 1445 puta u stupcu 'Height_Discharge'\n"
          ]
        }
      ],
      "source": [
        "for stupac in podaci.columns:\n",
        "    broj_pojavljivanja = (podaci[stupac] == -8).sum()\n",
        "    if broj_pojavljivanja > 0:\n",
        "        print(f\"Vrijednost -8 se pojavljuje {broj_pojavljivanja} puta u stupcu '{stupac}'\")"
      ]
    },
    {
      "cell_type": "markdown",
      "metadata": {
        "id": "1zLgwzZ0m_wI"
      },
      "source": [
        "#PROVJERA I UKLANJANJE DUPLIKATA"
      ]
    },
    {
      "cell_type": "code",
      "execution_count": null,
      "metadata": {
        "id": "rMcFIg5xm_gQ",
        "colab": {
          "base_uri": "https://localhost:8080/"
        },
        "outputId": "741f711f-83c6-46b9-d7df-53c94fd2f087"
      },
      "outputs": [
        {
          "output_type": "stream",
          "name": "stderr",
          "text": [
            "<ipython-input-231-29d89228a8ba>:2: SettingWithCopyWarning: \n",
            "A value is trying to be set on a copy of a slice from a DataFrame\n",
            "\n",
            "See the caveats in the documentation: https://pandas.pydata.org/pandas-docs/stable/user_guide/indexing.html#returning-a-view-versus-a-copy\n",
            "  podaci.drop_duplicates(inplace=True)\n"
          ]
        }
      ],
      "source": [
        "podaci.duplicated().sum()\n",
        "podaci.drop_duplicates(inplace=True)"
      ]
    },
    {
      "cell_type": "markdown",
      "metadata": {
        "id": "SjI8hCGbowO8"
      },
      "source": [
        "#UKLANJANJE ONIH KOJIMA JE VISINA PREKO 220 i TEŽINA PREKO 200"
      ]
    },
    {
      "cell_type": "code",
      "execution_count": null,
      "metadata": {
        "id": "cHPELpSIovRI",
        "colab": {
          "base_uri": "https://localhost:8080/"
        },
        "outputId": "c585c443-637c-4dfd-8b05-a41af49cca2d"
      },
      "outputs": [
        {
          "output_type": "stream",
          "name": "stderr",
          "text": [
            "<ipython-input-232-405df978b1a1>:1: SettingWithCopyWarning: \n",
            "A value is trying to be set on a copy of a slice from a DataFrame\n",
            "\n",
            "See the caveats in the documentation: https://pandas.pydata.org/pandas-docs/stable/user_guide/indexing.html#returning-a-view-versus-a-copy\n",
            "  podaci.drop(podaci[podaci['Height_Discharge'] > 220].index, axis=0, inplace=True)\n"
          ]
        }
      ],
      "source": [
        "podaci.drop(podaci[podaci['Height_Discharge'] > 220].index, axis=0, inplace=True)"
      ]
    },
    {
      "cell_type": "code",
      "execution_count": null,
      "metadata": {
        "id": "65k55jIysIhB",
        "colab": {
          "base_uri": "https://localhost:8080/"
        },
        "outputId": "84f3bf9e-5299-43eb-c154-0f8db18dc3eb"
      },
      "outputs": [
        {
          "output_type": "stream",
          "name": "stderr",
          "text": [
            "<ipython-input-233-e9f4b38453f7>:1: SettingWithCopyWarning: \n",
            "A value is trying to be set on a copy of a slice from a DataFrame\n",
            "\n",
            "See the caveats in the documentation: https://pandas.pydata.org/pandas-docs/stable/user_guide/indexing.html#returning-a-view-versus-a-copy\n",
            "  podaci.drop(podaci[podaci['Weight_Discharge'] > 200].index, axis=0, inplace=True)\n"
          ]
        }
      ],
      "source": [
        "podaci.drop(podaci[podaci['Weight_Discharge'] > 200].index, axis=0, inplace=True)"
      ]
    },
    {
      "cell_type": "code",
      "execution_count": null,
      "metadata": {
        "id": "jLuDIGdksQYb"
      },
      "outputs": [],
      "source": [
        "podaci=podaci.reset_index(drop=True)"
      ]
    },
    {
      "cell_type": "code",
      "execution_count": null,
      "metadata": {
        "colab": {
          "base_uri": "https://localhost:8080/"
        },
        "id": "QUHWus60s8-E",
        "outputId": "44fe97cc-0793-43c0-bae1-becce28adb14"
      },
      "outputs": [
        {
          "output_type": "execute_result",
          "data": {
            "text/plain": [
              "(28568, 274)"
            ]
          },
          "metadata": {},
          "execution_count": 235
        }
      ],
      "source": [
        "podaci.shape"
      ]
    },
    {
      "cell_type": "code",
      "execution_count": null,
      "metadata": {
        "colab": {
          "base_uri": "https://localhost:8080/"
        },
        "id": "RnLM6d2Lwmj-",
        "outputId": "d9f56977-43bb-4f25-f0aa-37544b851471"
      },
      "outputs": [
        {
          "output_type": "execute_result",
          "data": {
            "text/plain": [
              "0         53.0\n",
              "1         96.0\n",
              "2         52.0\n",
              "3         95.0\n",
              "4         82.0\n",
              "         ...  \n",
              "28563     80.0\n",
              "28564    105.0\n",
              "28565     70.0\n",
              "28566    100.0\n",
              "28567    116.0\n",
              "Name: Weight_Discharge, Length: 28568, dtype: float64"
            ]
          },
          "metadata": {},
          "execution_count": 236
        }
      ],
      "source": [
        "podaci[\"Weight_Discharge\"]"
      ]
    },
    {
      "cell_type": "markdown",
      "metadata": {
        "id": "MXR0KYKzAvId"
      },
      "source": [
        "#KATEGORIČKI MAPPING"
      ]
    },
    {
      "cell_type": "code",
      "execution_count": null,
      "metadata": {
        "id": "A-phXk6hBqVy"
      },
      "outputs": [],
      "source": [
        "mapping_admission_dx = {\"A\":0, \"B\":1, \"C\":2, \"D\":3, \"E\":4, \"F\":5, \"G\":6, \"H\":7, \"I\":8, \"J\":9, \"K\":10, \"L\":11, \"M\":12, \"N\":13, \"O\":14, \"P\":15, \"Q\":16, \"R\":17, \"S\":18, \"T\":19, \"U\":20, \"V\":21, \"W\":22, \"X\":23, \"Y\":24, \"Z\":25 }\n",
        "podaci['AdmissionDx'] = podaci['AdmissionDx'].replace(mapping_admission_dx)\n",
        "\n",
        "mapping_age_group={'63-67':0, '68-72':1, '73-77':2, '58-62':3, '78-82':4, '53-57':5, '48-52':6, '83-87':7, '43-47':8, '38-42':9, '33-37':10, '28-32':11, '18-22':12, '23-27':13, '88-92':14, '93-97':15 }\n",
        "podaci['Age_Group']= podaci['Age_Group'].replace(mapping_age_group)\n",
        "\n",
        "mapping_discharge_speciality = {3010100:0, 3100400:1, 3100600:2, 3190100:3, 3190200:4 }\n",
        "podaci['Discharge_Specialty']=podaci['Discharge_Specialty'].replace(mapping_discharge_speciality)\n",
        "\n",
        "mapping_dx_discharge={\"A\":0, \"B\":1, \"C\":2, \"D\":3, \"E\":4, \"F\":5, \"G\":6, \"H\":7, \"I\":8, \"J\":9, \"K\":10, \"L\":11, \"M\":12, \"N\":13, \"O\":14, \"P\":15, \"Q\":16, \"R\":17, \"S\":18, \"T\":19, \"U\":20, \"V\":21, \"W\":22, \"X\":23, \"Y\":24, \"Z\":25 }\n",
        "podaci['Dx_Discharge']=podaci['Dx_Discharge'].replace(mapping_dx_discharge)\n",
        "\n",
        "mapping_discharge_status={'KUĆI':0,'U DRUGU STACIONARNU ZDRAVSTVENU USTANOVU ':1, 'OSTALO':2, 'LIJEČENJE OKONČANO PROTIVNO SAVJETU DOKTORA':3, 'UMRO (NIJE OBDUCIRAN)':4 }\n",
        "podaci['Discharge_Status']=podaci['Discharge_Status'].replace(mapping_discharge_status)\n",
        "\n",
        "mapping_education= {'ZAVRŠENA SREDNJA ŠKOLA':0,'ZAVRŠENO VISOKO OBRAZOVANJE':1, 'ZAVRŠENA OSNOVNA ŠKOLA':2, 'NEPOZNAT OBRAZOVNI STATUS':3, 'ZAVRŠENA VIŠA ŠKOLA':4,  'NIJE ZAVRŠILA OSNOVNU ŠKOLU':5,'NIJE POHAĐALA OSNOVNU ŠKOLU':6}\n",
        "podaci['Education']=podaci['Education'].replace(mapping_education)\n",
        "\n",
        "mapping_current_work_status={'UMIROVLJENIK':0, 'REDOVAN POSAO':1, 'NEZAPOSLEN/POVREMENI POSAO':2, 'SAMOSTALNA DJELATNOST':3, 'DOMAĆICA':4, 'NEPOZNATO':5, 'POLJOPRIVREDNIK':6, 'STUDENT':7, 'UČENIK':8}\n",
        "podaci['Current_Work_Status']=podaci['Current_Work_Status'].replace(mapping_current_work_status)\n",
        "\n"
      ]
    },
    {
      "cell_type": "markdown",
      "metadata": {
        "id": "N2tvBlNWuJAu"
      },
      "source": [
        "## MAPIRANJE BINARNIH"
      ]
    },
    {
      "cell_type": "code",
      "execution_count": null,
      "metadata": {
        "id": "pykl2kbouDxm"
      },
      "outputs": [],
      "source": [
        "mapping_gender = {\"M\": 0, \"Ž\": 1}\n",
        "mapping_admission_type={\"Hitni\":0, \"Elektivni\":1}\n",
        "\n",
        "podaci['Gender'] = podaci['Gender'].replace(mapping_gender)\n",
        "podaci['AdmissionType']=podaci['AdmissionType'].replace(mapping_admission_type)"
      ]
    },
    {
      "cell_type": "markdown",
      "metadata": {
        "id": "pG_ERGZWKWYT"
      },
      "source": [
        "#PODJELA NA X I y(Label)"
      ]
    },
    {
      "cell_type": "code",
      "execution_count": null,
      "metadata": {
        "id": "jhx6jg5MKWDN"
      },
      "outputs": [],
      "source": [
        "X_train=podaci.drop(\"Label\",axis=1)\n",
        "y_train=podaci[\"Label\"]"
      ]
    },
    {
      "cell_type": "code",
      "source": [],
      "metadata": {
        "id": "-7Yr-dU4t38y"
      },
      "execution_count": null,
      "outputs": []
    },
    {
      "cell_type": "code",
      "execution_count": null,
      "metadata": {
        "id": "-bQ-d-ElI-OG"
      },
      "outputs": [],
      "source": [
        "from sklearn.preprocessing import StandardScaler"
      ]
    },
    {
      "cell_type": "code",
      "execution_count": null,
      "metadata": {
        "id": "lcIiRupkJFWx"
      },
      "outputs": [],
      "source": [
        "scaler = StandardScaler()"
      ]
    },
    {
      "cell_type": "code",
      "execution_count": null,
      "metadata": {
        "id": "unlH1c8ImK0A"
      },
      "outputs": [],
      "source": [
        "X_train= scaler.fit_transform(X_train)"
      ]
    },
    {
      "cell_type": "markdown",
      "metadata": {
        "id": "pill0Rq3zCW2"
      },
      "source": [
        "#PRISTRANOST"
      ]
    },
    {
      "cell_type": "code",
      "execution_count": null,
      "metadata": {
        "colab": {
          "base_uri": "https://localhost:8080/"
        },
        "id": "9qRmJHH5yvk-",
        "outputId": "29cec9d7-04ae-4c4c-f56c-206d0b126e83"
      },
      "outputs": [
        {
          "output_type": "stream",
          "name": "stdout",
          "text": [
            "\n",
            "Raspodjela klasa nakon oversamplinga:\n",
            "0    26680\n",
            "1    26680\n",
            "Name: Label, dtype: int64\n"
          ]
        }
      ],
      "source": [
        "import pandas as pd\n",
        "from imblearn.over_sampling import RandomOverSampler\n",
        "\n",
        "# Provjera broja instanci po klasi\n",
        "ros = RandomOverSampler(random_state=42)\n",
        "X_train, y_train = ros.fit_resample(X_train, y_train)\n",
        "\n",
        "# Provjera raspodjele klasa nakon oversamplinga\n",
        "print(\"\\nRaspodjela klasa nakon oversamplinga:\")\n",
        "print(y_train.value_counts())\n"
      ]
    },
    {
      "cell_type": "code",
      "execution_count": null,
      "metadata": {
        "id": "LXLGIOke2IvO"
      },
      "outputs": [],
      "source": [
        "podaci.to_csv(\"train_uredeni.csv\", index=False)"
      ]
    },
    {
      "cell_type": "markdown",
      "metadata": {
        "id": "rjMcORAYD9D8"
      },
      "source": [
        "TEST"
      ]
    },
    {
      "cell_type": "code",
      "execution_count": null,
      "metadata": {
        "id": "wnDOIRoyD41s"
      },
      "outputs": [],
      "source": [
        "podaci1 = pd.read_csv(\"test.csv\")"
      ]
    },
    {
      "cell_type": "code",
      "execution_count": null,
      "metadata": {
        "colab": {
          "base_uri": "https://localhost:8080/"
        },
        "id": "yR5Le90mcPxW",
        "outputId": "9bacdcdc-f8ee-4d3e-aecb-aa61a1115218"
      },
      "outputs": [
        {
          "output_type": "execute_result",
          "data": {
            "text/plain": [
              "(7336, 277)"
            ]
          },
          "metadata": {},
          "execution_count": 246
        }
      ],
      "source": [
        "podaci1.shape"
      ]
    },
    {
      "cell_type": "code",
      "execution_count": null,
      "metadata": {
        "id": "0LUK_ckDD4yT"
      },
      "outputs": [],
      "source": [
        "kolone_za_izbacivanje = [\"Label\", \"Probability_0\", \"Probability_1\",\"Unnamed: 0\"]\n",
        "\n",
        "# Izbačanje navedenih stupaca\n",
        "podaci1 = podaci1.drop(columns=kolone_za_izbacivanje)"
      ]
    },
    {
      "cell_type": "code",
      "execution_count": null,
      "metadata": {
        "id": "ZXuqrLy3EcUC"
      },
      "outputs": [],
      "source": [
        "mapping_admission_dx = {\"A\":0, \"B\":1, \"C\":2, \"D\":3, \"E\":4, \"F\":5, \"G\":6, \"H\":7, \"I\":8, \"J\":9, \"K\":10, \"L\":11, \"M\":12, \"N\":13, \"O\":14, \"P\":15, \"Q\":16, \"R\":17, \"S\":18, \"T\":19, \"U\":20, \"V\":21, \"W\":22, \"X\":23, \"Y\":24, \"Z\":25 }\n",
        "podaci1['AdmissionDx'] = podaci1['AdmissionDx'].replace(mapping_admission_dx)\n",
        "\n",
        "mapping_age_group={'63-67':0, '68-72':1, '73-77':2, '58-62':3, '78-82':4, '53-57':5, '48-52':6, '83-87':7, '43-47':8, '38-42':9, '33-37':10, '28-32':11, '18-22':12, '23-27':13, '88-92':14, '93-97':15 }\n",
        "podaci1['Age_Group']= podaci1['Age_Group'].replace(mapping_age_group)\n",
        "\n",
        "mapping_discharge_speciality = {3010100:0, 3100400:1, 3100600:2, 3190100:3, 3190200:4 }\n",
        "podaci1['Discharge_Specialty']=podaci1['Discharge_Specialty'].replace(mapping_discharge_speciality)\n",
        "\n",
        "mapping_dx_discharge={\"A\":0, \"B\":1, \"C\":2, \"D\":3, \"E\":4, \"F\":5, \"G\":6, \"H\":7, \"I\":8, \"J\":9, \"K\":10, \"L\":11, \"M\":12, \"N\":13, \"O\":14, \"P\":15, \"Q\":16, \"R\":17, \"S\":18, \"T\":19, \"U\":20, \"V\":21, \"W\":22, \"X\":23, \"Y\":24, \"Z\":25 }\n",
        "podaci1['Dx_Discharge']=podaci1['Dx_Discharge'].replace(mapping_dx_discharge)\n",
        "\n",
        "mapping_discharge_status={'KUĆI':0,'U DRUGU STACIONARNU ZDRAVSTVENU USTANOVU ':1, 'OSTALO':2, 'LIJEČENJE OKONČANO PROTIVNO SAVJETU DOKTORA':3, 'UMRO (NIJE OBDUCIRAN)':4 }\n",
        "podaci1['Discharge_Status']=podaci1['Discharge_Status'].replace(mapping_discharge_status)\n",
        "\n",
        "mapping_education= {'ZAVRŠENA SREDNJA ŠKOLA':0,'ZAVRŠENO VISOKO OBRAZOVANJE':1, 'ZAVRŠENA OSNOVNA ŠKOLA':2, 'NEPOZNAT OBRAZOVNI STATUS':3, 'ZAVRŠENA VIŠA ŠKOLA':4,  'NIJE ZAVRŠILA OSNOVNU ŠKOLU':5,'NIJE POHAĐALA OSNOVNU ŠKOLU':6}\n",
        "podaci1['Education']=podaci1['Education'].replace(mapping_education)\n",
        "\n",
        "mapping_current_work_status={'UMIROVLJENIK':0, 'REDOVAN POSAO':1, 'NEZAPOSLEN/POVREMENI POSAO':2, 'SAMOSTALNA DJELATNOST':3, 'DOMAĆICA':4, 'NEPOZNATO':5, 'POLJOPRIVREDNIK':6, 'STUDENT':7, 'UČENIK':8}\n",
        "podaci1['Current_Work_Status']=podaci1['Current_Work_Status'].replace(mapping_current_work_status)\n",
        "\n"
      ]
    },
    {
      "cell_type": "code",
      "execution_count": null,
      "metadata": {
        "id": "O8snagRPEqc8"
      },
      "outputs": [],
      "source": [
        "mapping_gender = {\"M\": 0, \"Ž\": 1}\n",
        "mapping_admission_type={\"Hitni\":0, \"Elektivni\":1}\n",
        "\n",
        "podaci1['Gender'] = podaci1['Gender'].replace(mapping_gender)\n",
        "podaci1['AdmissionType']=podaci1['AdmissionType'].replace(mapping_admission_type)"
      ]
    },
    {
      "cell_type": "code",
      "execution_count": null,
      "metadata": {
        "colab": {
          "base_uri": "https://localhost:8080/"
        },
        "id": "F0RGR7SSeCB9",
        "outputId": "cbbc12dc-6501-4a28-a78b-9d1444391006"
      },
      "outputs": [
        {
          "output_type": "stream",
          "name": "stdout",
          "text": [
            "['AdmissionDx', 'Education', 'Current_Work_Status']\n"
          ]
        }
      ],
      "source": [
        "columns_with_nans = podaci1.columns[podaci1.isna().any()].tolist()\n",
        "print(columns_with_nans)"
      ]
    },
    {
      "cell_type": "code",
      "source": [],
      "metadata": {
        "id": "RfmjadLl743b"
      },
      "execution_count": null,
      "outputs": []
    },
    {
      "cell_type": "code",
      "execution_count": null,
      "metadata": {
        "id": "sU7yCd2eerpC"
      },
      "outputs": [],
      "source": [
        "# Pronalaženje najčešće korištene vrijednosti u stupcu 'AdmissionDx'\n",
        "most_common_value = podaci1['AdmissionDx'].mode()[0]\n",
        "# Popunjavanje nedostajućih vrijednosti u stupcu 'AdmissionDx' s najčešće korištenom vrijednošću\n",
        "podaci1['AdmissionDx'].fillna(most_common_value, inplace=True)\n"
      ]
    },
    {
      "cell_type": "code",
      "execution_count": null,
      "metadata": {
        "id": "KQgAuaYIjcIE"
      },
      "outputs": [],
      "source": [
        "# Pronalaženje najčešće korištene vrijednosti u stupcu 'AdmissionDx'\n",
        "most_common_value = podaci1['Education'].mode()[0]\n",
        "# Popunjavanje nedostajućih vrijednosti u stupcu 'AdmissionDx' s najčešće korištenom vrijednošću\n",
        "podaci1['Education'].fillna(most_common_value, inplace=True)\n"
      ]
    },
    {
      "cell_type": "code",
      "execution_count": null,
      "metadata": {
        "id": "OZB2V3-ojcEc"
      },
      "outputs": [],
      "source": [
        "# Pronalaženje najčešće korištene vrijednosti u stupcu 'AdmissionDx'\n",
        "most_common_value = podaci1['Current_Work_Status'].mode()[0]\n",
        "# Popunjavanje nedostajućih vrijednosti u stupcu 'AdmissionDx' s najčešće korištenom vrijednošću\n",
        "podaci1['Current_Work_Status'].fillna(most_common_value, inplace=True)\n"
      ]
    },
    {
      "cell_type": "code",
      "execution_count": null,
      "metadata": {
        "colab": {
          "base_uri": "https://localhost:8080/"
        },
        "id": "O9EevsGojbQB",
        "outputId": "a3f5ffa8-b8d0-4327-bca5-ebb5943a8199"
      },
      "outputs": [
        {
          "output_type": "stream",
          "name": "stdout",
          "text": [
            "[]\n"
          ]
        }
      ],
      "source": [
        "columns_with_nans = podaci1.columns[podaci1.isna().any()].tolist()\n",
        "print(columns_with_nans)"
      ]
    },
    {
      "cell_type": "code",
      "execution_count": null,
      "metadata": {
        "id": "sbExIGzfoFEb"
      },
      "outputs": [],
      "source": [
        "X_test = scaler.fit_transform(podaci1)"
      ]
    },
    {
      "cell_type": "code",
      "execution_count": null,
      "metadata": {
        "colab": {
          "base_uri": "https://localhost:8080/"
        },
        "id": "78nIToLW6S__",
        "outputId": "03060bbd-cb5f-4d4a-c2bf-50f73b4b3bfb"
      },
      "outputs": [
        {
          "output_type": "execute_result",
          "data": {
            "text/plain": [
              "(7336, 273)"
            ]
          },
          "metadata": {},
          "execution_count": 256
        }
      ],
      "source": [
        "X_test.shape"
      ]
    },
    {
      "cell_type": "markdown",
      "metadata": {
        "id": "NPIdEfqhIyon"
      },
      "source": [
        "STATISTICKA ZNACAJNOST PROVJERITI"
      ]
    },
    {
      "cell_type": "code",
      "source": [
        "pip install catboost"
      ],
      "metadata": {
        "colab": {
          "base_uri": "https://localhost:8080/"
        },
        "id": "iHYClxUAbLsy",
        "outputId": "79c6294c-81bb-48fb-8445-6cae7ac38210"
      },
      "execution_count": null,
      "outputs": [
        {
          "output_type": "stream",
          "name": "stdout",
          "text": [
            "Requirement already satisfied: catboost in /usr/local/lib/python3.10/dist-packages (1.2.3)\n",
            "Requirement already satisfied: graphviz in /usr/local/lib/python3.10/dist-packages (from catboost) (0.20.1)\n",
            "Requirement already satisfied: matplotlib in /usr/local/lib/python3.10/dist-packages (from catboost) (3.7.1)\n",
            "Requirement already satisfied: numpy>=1.16.0 in /usr/local/lib/python3.10/dist-packages (from catboost) (1.25.2)\n",
            "Requirement already satisfied: pandas>=0.24 in /usr/local/lib/python3.10/dist-packages (from catboost) (1.5.3)\n",
            "Requirement already satisfied: scipy in /usr/local/lib/python3.10/dist-packages (from catboost) (1.11.4)\n",
            "Requirement already satisfied: plotly in /usr/local/lib/python3.10/dist-packages (from catboost) (5.15.0)\n",
            "Requirement already satisfied: six in /usr/local/lib/python3.10/dist-packages (from catboost) (1.16.0)\n",
            "Requirement already satisfied: python-dateutil>=2.8.1 in /usr/local/lib/python3.10/dist-packages (from pandas>=0.24->catboost) (2.8.2)\n",
            "Requirement already satisfied: pytz>=2020.1 in /usr/local/lib/python3.10/dist-packages (from pandas>=0.24->catboost) (2023.4)\n",
            "Requirement already satisfied: contourpy>=1.0.1 in /usr/local/lib/python3.10/dist-packages (from matplotlib->catboost) (1.2.0)\n",
            "Requirement already satisfied: cycler>=0.10 in /usr/local/lib/python3.10/dist-packages (from matplotlib->catboost) (0.12.1)\n",
            "Requirement already satisfied: fonttools>=4.22.0 in /usr/local/lib/python3.10/dist-packages (from matplotlib->catboost) (4.49.0)\n",
            "Requirement already satisfied: kiwisolver>=1.0.1 in /usr/local/lib/python3.10/dist-packages (from matplotlib->catboost) (1.4.5)\n",
            "Requirement already satisfied: packaging>=20.0 in /usr/local/lib/python3.10/dist-packages (from matplotlib->catboost) (23.2)\n",
            "Requirement already satisfied: pillow>=6.2.0 in /usr/local/lib/python3.10/dist-packages (from matplotlib->catboost) (9.4.0)\n",
            "Requirement already satisfied: pyparsing>=2.3.1 in /usr/local/lib/python3.10/dist-packages (from matplotlib->catboost) (3.1.1)\n",
            "Requirement already satisfied: tenacity>=6.2.0 in /usr/local/lib/python3.10/dist-packages (from plotly->catboost) (8.2.3)\n"
          ]
        }
      ]
    },
    {
      "cell_type": "code",
      "source": [
        "import numpy as np"
      ],
      "metadata": {
        "id": "vOn2hp4Q62mQ"
      },
      "execution_count": null,
      "outputs": []
    },
    {
      "cell_type": "code",
      "source": [
        "from catboost import CatBoostClassifier, CatBoostError"
      ],
      "metadata": {
        "id": "2KYl61A4-Yz_"
      },
      "execution_count": null,
      "outputs": []
    },
    {
      "cell_type": "code",
      "source": [
        "from catboost import CatBoostClassifier\n",
        "from sklearn.metrics import matthews_corrcoef\n",
        "\n",
        "# Funkcija za izračunavanje MCC s prilagođenim pragom\n",
        "def calculate_mcc(y_true, probabilities, threshold):\n",
        "    predictions = (probabilities >= threshold).astype(int)\n",
        "    return matthews_corrcoef(y_true, predictions)\n",
        "\n",
        "# Definiranje modela s optimalnim parametrima\n",
        "best_catboost_params = {\n",
        "    'iterations': 300,\n",
        "    'depth': 6,\n",
        "    'learning_rate': 0.2,\n",
        "    'l2_leaf_reg': 5,\n",
        "    'early_stopping_rounds': 50,\n",
        "    'rsm': 0.9,\n",
        "    'border_count': 32,\n",
        "    'class_weights': [0.30000000000000004, 0.2],  # Postavljanje optimalnih težina klasa\n",
        "}\n",
        "\n",
        "# Inicijalizacija i treniranje modela na cijelom skupu podataka za treniranje\n",
        "best_catboost_model = CatBoostClassifier(**best_catboost_params)\n",
        "best_catboost_model.fit(X_train, y_train)\n",
        "\n",
        "# Postavljanje praga odluke\n",
        "threshold = 0.21\n",
        "\n",
        "# Predikcija vjerojatnosti na skupu za testiranje\n",
        "probabilities = best_catboost_model.predict_proba(X_test)[:, 1]  # Vjerojatnosti za klasu 1\n",
        "\n",
        "# Dodjela klasa na temelju praga odluke\n",
        "predictions = (probabilities >= threshold).astype(int)\n",
        "\n"
      ],
      "metadata": {
        "colab": {
          "base_uri": "https://localhost:8080/"
        },
        "id": "eD-rCVNRtg6r",
        "outputId": "6c41c0c6-7dbb-4311-be6c-8b73660d4e37"
      },
      "execution_count": null,
      "outputs": [
        {
          "output_type": "stream",
          "name": "stdout",
          "text": [
            "0:\tlearn: 0.5881404\ttotal: 12ms\tremaining: 3.58s\n",
            "1:\tlearn: 0.5240113\ttotal: 24.1ms\tremaining: 3.59s\n",
            "2:\tlearn: 0.4937664\ttotal: 35.5ms\tremaining: 3.51s\n",
            "3:\tlearn: 0.4765964\ttotal: 47.2ms\tremaining: 3.49s\n",
            "4:\tlearn: 0.4655220\ttotal: 58.8ms\tremaining: 3.47s\n",
            "5:\tlearn: 0.4565833\ttotal: 70.3ms\tremaining: 3.45s\n",
            "6:\tlearn: 0.4499319\ttotal: 82.5ms\tremaining: 3.45s\n",
            "7:\tlearn: 0.4456605\ttotal: 94.4ms\tremaining: 3.44s\n",
            "8:\tlearn: 0.4380605\ttotal: 106ms\tremaining: 3.44s\n",
            "9:\tlearn: 0.4346791\ttotal: 118ms\tremaining: 3.41s\n",
            "10:\tlearn: 0.4302671\ttotal: 129ms\tremaining: 3.38s\n",
            "11:\tlearn: 0.4261359\ttotal: 140ms\tremaining: 3.35s\n",
            "12:\tlearn: 0.4230002\ttotal: 151ms\tremaining: 3.33s\n",
            "13:\tlearn: 0.4200817\ttotal: 162ms\tremaining: 3.31s\n",
            "14:\tlearn: 0.4182150\ttotal: 173ms\tremaining: 3.29s\n",
            "15:\tlearn: 0.4161395\ttotal: 184ms\tremaining: 3.27s\n",
            "16:\tlearn: 0.4134392\ttotal: 194ms\tremaining: 3.24s\n",
            "17:\tlearn: 0.4109379\ttotal: 207ms\tremaining: 3.25s\n",
            "18:\tlearn: 0.4092831\ttotal: 218ms\tremaining: 3.22s\n",
            "19:\tlearn: 0.4073696\ttotal: 230ms\tremaining: 3.21s\n",
            "20:\tlearn: 0.4050936\ttotal: 242ms\tremaining: 3.22s\n",
            "21:\tlearn: 0.4034179\ttotal: 254ms\tremaining: 3.21s\n",
            "22:\tlearn: 0.4017613\ttotal: 266ms\tremaining: 3.2s\n",
            "23:\tlearn: 0.3995751\ttotal: 277ms\tremaining: 3.18s\n",
            "24:\tlearn: 0.3967907\ttotal: 288ms\tremaining: 3.17s\n",
            "25:\tlearn: 0.3945251\ttotal: 301ms\tremaining: 3.17s\n",
            "26:\tlearn: 0.3924596\ttotal: 312ms\tremaining: 3.15s\n",
            "27:\tlearn: 0.3908312\ttotal: 323ms\tremaining: 3.14s\n",
            "28:\tlearn: 0.3897498\ttotal: 334ms\tremaining: 3.12s\n",
            "29:\tlearn: 0.3877174\ttotal: 347ms\tremaining: 3.12s\n",
            "30:\tlearn: 0.3863783\ttotal: 357ms\tremaining: 3.1s\n",
            "31:\tlearn: 0.3844236\ttotal: 368ms\tremaining: 3.08s\n",
            "32:\tlearn: 0.3824915\ttotal: 381ms\tremaining: 3.08s\n",
            "33:\tlearn: 0.3808983\ttotal: 392ms\tremaining: 3.06s\n",
            "34:\tlearn: 0.3789510\ttotal: 404ms\tremaining: 3.06s\n",
            "35:\tlearn: 0.3771531\ttotal: 417ms\tremaining: 3.06s\n",
            "36:\tlearn: 0.3759087\ttotal: 427ms\tremaining: 3.03s\n",
            "37:\tlearn: 0.3742156\ttotal: 438ms\tremaining: 3.02s\n",
            "38:\tlearn: 0.3729698\ttotal: 448ms\tremaining: 3s\n",
            "39:\tlearn: 0.3722236\ttotal: 457ms\tremaining: 2.97s\n",
            "40:\tlearn: 0.3703076\ttotal: 468ms\tremaining: 2.96s\n",
            "41:\tlearn: 0.3691676\ttotal: 479ms\tremaining: 2.94s\n",
            "42:\tlearn: 0.3686401\ttotal: 489ms\tremaining: 2.92s\n",
            "43:\tlearn: 0.3674506\ttotal: 500ms\tremaining: 2.91s\n",
            "44:\tlearn: 0.3663808\ttotal: 510ms\tremaining: 2.89s\n",
            "45:\tlearn: 0.3651422\ttotal: 521ms\tremaining: 2.88s\n",
            "46:\tlearn: 0.3643792\ttotal: 531ms\tremaining: 2.86s\n",
            "47:\tlearn: 0.3635588\ttotal: 543ms\tremaining: 2.85s\n",
            "48:\tlearn: 0.3616864\ttotal: 555ms\tremaining: 2.84s\n",
            "49:\tlearn: 0.3598964\ttotal: 568ms\tremaining: 2.84s\n",
            "50:\tlearn: 0.3584504\ttotal: 580ms\tremaining: 2.83s\n",
            "51:\tlearn: 0.3571736\ttotal: 593ms\tremaining: 2.83s\n",
            "52:\tlearn: 0.3563940\ttotal: 605ms\tremaining: 2.82s\n",
            "53:\tlearn: 0.3548018\ttotal: 617ms\tremaining: 2.81s\n",
            "54:\tlearn: 0.3536735\ttotal: 627ms\tremaining: 2.79s\n",
            "55:\tlearn: 0.3526731\ttotal: 637ms\tremaining: 2.78s\n",
            "56:\tlearn: 0.3510280\ttotal: 648ms\tremaining: 2.76s\n",
            "57:\tlearn: 0.3499171\ttotal: 659ms\tremaining: 2.75s\n",
            "58:\tlearn: 0.3487104\ttotal: 671ms\tremaining: 2.74s\n",
            "59:\tlearn: 0.3475931\ttotal: 682ms\tremaining: 2.73s\n",
            "60:\tlearn: 0.3465331\ttotal: 693ms\tremaining: 2.71s\n",
            "61:\tlearn: 0.3451450\ttotal: 703ms\tremaining: 2.7s\n",
            "62:\tlearn: 0.3437928\ttotal: 715ms\tremaining: 2.69s\n",
            "63:\tlearn: 0.3429582\ttotal: 726ms\tremaining: 2.67s\n",
            "64:\tlearn: 0.3422085\ttotal: 736ms\tremaining: 2.66s\n",
            "65:\tlearn: 0.3412015\ttotal: 747ms\tremaining: 2.65s\n",
            "66:\tlearn: 0.3404819\ttotal: 757ms\tremaining: 2.63s\n",
            "67:\tlearn: 0.3392512\ttotal: 768ms\tremaining: 2.62s\n",
            "68:\tlearn: 0.3380008\ttotal: 780ms\tremaining: 2.61s\n",
            "69:\tlearn: 0.3367161\ttotal: 792ms\tremaining: 2.6s\n",
            "70:\tlearn: 0.3350821\ttotal: 803ms\tremaining: 2.59s\n",
            "71:\tlearn: 0.3338831\ttotal: 814ms\tremaining: 2.58s\n",
            "72:\tlearn: 0.3325877\ttotal: 824ms\tremaining: 2.56s\n",
            "73:\tlearn: 0.3318229\ttotal: 834ms\tremaining: 2.55s\n",
            "74:\tlearn: 0.3307655\ttotal: 846ms\tremaining: 2.54s\n",
            "75:\tlearn: 0.3295309\ttotal: 857ms\tremaining: 2.52s\n",
            "76:\tlearn: 0.3281512\ttotal: 868ms\tremaining: 2.51s\n",
            "77:\tlearn: 0.3268733\ttotal: 879ms\tremaining: 2.5s\n",
            "78:\tlearn: 0.3257955\ttotal: 891ms\tremaining: 2.49s\n",
            "79:\tlearn: 0.3250157\ttotal: 903ms\tremaining: 2.48s\n",
            "80:\tlearn: 0.3240028\ttotal: 914ms\tremaining: 2.47s\n",
            "81:\tlearn: 0.3227728\ttotal: 925ms\tremaining: 2.46s\n",
            "82:\tlearn: 0.3216094\ttotal: 937ms\tremaining: 2.45s\n",
            "83:\tlearn: 0.3206955\ttotal: 948ms\tremaining: 2.44s\n",
            "84:\tlearn: 0.3196929\ttotal: 960ms\tremaining: 2.43s\n",
            "85:\tlearn: 0.3188028\ttotal: 971ms\tremaining: 2.42s\n",
            "86:\tlearn: 0.3176619\ttotal: 982ms\tremaining: 2.4s\n",
            "87:\tlearn: 0.3169112\ttotal: 992ms\tremaining: 2.39s\n",
            "88:\tlearn: 0.3159853\ttotal: 1s\tremaining: 2.38s\n",
            "89:\tlearn: 0.3153272\ttotal: 1.01s\tremaining: 2.37s\n",
            "90:\tlearn: 0.3151213\ttotal: 1.02s\tremaining: 2.36s\n",
            "91:\tlearn: 0.3143239\ttotal: 1.04s\tremaining: 2.35s\n",
            "92:\tlearn: 0.3134740\ttotal: 1.05s\tremaining: 2.33s\n",
            "93:\tlearn: 0.3127026\ttotal: 1.06s\tremaining: 2.32s\n",
            "94:\tlearn: 0.3115931\ttotal: 1.07s\tremaining: 2.31s\n",
            "95:\tlearn: 0.3109612\ttotal: 1.08s\tremaining: 2.3s\n",
            "96:\tlearn: 0.3098731\ttotal: 1.09s\tremaining: 2.28s\n",
            "97:\tlearn: 0.3089387\ttotal: 1.1s\tremaining: 2.27s\n",
            "98:\tlearn: 0.3079413\ttotal: 1.11s\tremaining: 2.26s\n",
            "99:\tlearn: 0.3070362\ttotal: 1.12s\tremaining: 2.25s\n",
            "100:\tlearn: 0.3060812\ttotal: 1.14s\tremaining: 2.24s\n",
            "101:\tlearn: 0.3050481\ttotal: 1.15s\tremaining: 2.23s\n",
            "102:\tlearn: 0.3032652\ttotal: 1.16s\tremaining: 2.22s\n",
            "103:\tlearn: 0.3023570\ttotal: 1.17s\tremaining: 2.21s\n",
            "104:\tlearn: 0.3011651\ttotal: 1.18s\tremaining: 2.2s\n",
            "105:\tlearn: 0.3001797\ttotal: 1.2s\tremaining: 2.19s\n",
            "106:\tlearn: 0.2989897\ttotal: 1.21s\tremaining: 2.18s\n",
            "107:\tlearn: 0.2983619\ttotal: 1.22s\tremaining: 2.17s\n",
            "108:\tlearn: 0.2976930\ttotal: 1.23s\tremaining: 2.16s\n",
            "109:\tlearn: 0.2967770\ttotal: 1.24s\tremaining: 2.14s\n",
            "110:\tlearn: 0.2962206\ttotal: 1.25s\tremaining: 2.13s\n",
            "111:\tlearn: 0.2953963\ttotal: 1.26s\tremaining: 2.12s\n",
            "112:\tlearn: 0.2943208\ttotal: 1.28s\tremaining: 2.11s\n",
            "113:\tlearn: 0.2936080\ttotal: 1.29s\tremaining: 2.11s\n",
            "114:\tlearn: 0.2927486\ttotal: 1.3s\tremaining: 2.1s\n",
            "115:\tlearn: 0.2919610\ttotal: 1.32s\tremaining: 2.09s\n",
            "116:\tlearn: 0.2911827\ttotal: 1.33s\tremaining: 2.08s\n",
            "117:\tlearn: 0.2899417\ttotal: 1.34s\tremaining: 2.07s\n",
            "118:\tlearn: 0.2888384\ttotal: 1.36s\tremaining: 2.06s\n",
            "119:\tlearn: 0.2879271\ttotal: 1.37s\tremaining: 2.05s\n",
            "120:\tlearn: 0.2869771\ttotal: 1.38s\tremaining: 2.04s\n",
            "121:\tlearn: 0.2863100\ttotal: 1.4s\tremaining: 2.04s\n",
            "122:\tlearn: 0.2855176\ttotal: 1.41s\tremaining: 2.02s\n",
            "123:\tlearn: 0.2845746\ttotal: 1.42s\tremaining: 2.01s\n",
            "124:\tlearn: 0.2834903\ttotal: 1.43s\tremaining: 2s\n",
            "125:\tlearn: 0.2825001\ttotal: 1.44s\tremaining: 1.99s\n",
            "126:\tlearn: 0.2814606\ttotal: 1.45s\tremaining: 1.98s\n",
            "127:\tlearn: 0.2807355\ttotal: 1.47s\tremaining: 1.97s\n",
            "128:\tlearn: 0.2804327\ttotal: 1.48s\tremaining: 1.96s\n",
            "129:\tlearn: 0.2794541\ttotal: 1.49s\tremaining: 1.95s\n",
            "130:\tlearn: 0.2787590\ttotal: 1.5s\tremaining: 1.93s\n",
            "131:\tlearn: 0.2781334\ttotal: 1.51s\tremaining: 1.92s\n",
            "132:\tlearn: 0.2772183\ttotal: 1.52s\tremaining: 1.91s\n",
            "133:\tlearn: 0.2764104\ttotal: 1.53s\tremaining: 1.9s\n",
            "134:\tlearn: 0.2756632\ttotal: 1.54s\tremaining: 1.89s\n",
            "135:\tlearn: 0.2749344\ttotal: 1.55s\tremaining: 1.87s\n",
            "136:\tlearn: 0.2742944\ttotal: 1.56s\tremaining: 1.86s\n",
            "137:\tlearn: 0.2736314\ttotal: 1.58s\tremaining: 1.85s\n",
            "138:\tlearn: 0.2731315\ttotal: 1.59s\tremaining: 1.84s\n",
            "139:\tlearn: 0.2723160\ttotal: 1.61s\tremaining: 1.84s\n",
            "140:\tlearn: 0.2718915\ttotal: 1.62s\tremaining: 1.82s\n",
            "141:\tlearn: 0.2711738\ttotal: 1.63s\tremaining: 1.81s\n",
            "142:\tlearn: 0.2706437\ttotal: 1.64s\tremaining: 1.8s\n",
            "143:\tlearn: 0.2702145\ttotal: 1.66s\tremaining: 1.79s\n",
            "144:\tlearn: 0.2696605\ttotal: 1.67s\tremaining: 1.78s\n",
            "145:\tlearn: 0.2691256\ttotal: 1.68s\tremaining: 1.77s\n",
            "146:\tlearn: 0.2683671\ttotal: 1.7s\tremaining: 1.77s\n",
            "147:\tlearn: 0.2676872\ttotal: 1.71s\tremaining: 1.76s\n",
            "148:\tlearn: 0.2669152\ttotal: 1.73s\tremaining: 1.75s\n",
            "149:\tlearn: 0.2663142\ttotal: 1.74s\tremaining: 1.74s\n",
            "150:\tlearn: 0.2655813\ttotal: 1.75s\tremaining: 1.73s\n",
            "151:\tlearn: 0.2647403\ttotal: 1.77s\tremaining: 1.73s\n",
            "152:\tlearn: 0.2640468\ttotal: 1.79s\tremaining: 1.72s\n",
            "153:\tlearn: 0.2632189\ttotal: 1.81s\tremaining: 1.71s\n",
            "154:\tlearn: 0.2621063\ttotal: 1.82s\tremaining: 1.71s\n",
            "155:\tlearn: 0.2607512\ttotal: 1.84s\tremaining: 1.7s\n",
            "156:\tlearn: 0.2600111\ttotal: 1.85s\tremaining: 1.69s\n",
            "157:\tlearn: 0.2596223\ttotal: 1.87s\tremaining: 1.68s\n",
            "158:\tlearn: 0.2587748\ttotal: 1.88s\tremaining: 1.67s\n",
            "159:\tlearn: 0.2580868\ttotal: 1.9s\tremaining: 1.66s\n",
            "160:\tlearn: 0.2577061\ttotal: 1.91s\tremaining: 1.65s\n",
            "161:\tlearn: 0.2570938\ttotal: 1.93s\tremaining: 1.64s\n",
            "162:\tlearn: 0.2570767\ttotal: 1.94s\tremaining: 1.63s\n",
            "163:\tlearn: 0.2559342\ttotal: 1.96s\tremaining: 1.62s\n",
            "164:\tlearn: 0.2557215\ttotal: 1.97s\tremaining: 1.61s\n",
            "165:\tlearn: 0.2546287\ttotal: 1.99s\tremaining: 1.6s\n",
            "166:\tlearn: 0.2540461\ttotal: 2s\tremaining: 1.59s\n",
            "167:\tlearn: 0.2533814\ttotal: 2.02s\tremaining: 1.58s\n",
            "168:\tlearn: 0.2527237\ttotal: 2.03s\tremaining: 1.57s\n",
            "169:\tlearn: 0.2521200\ttotal: 2.05s\tremaining: 1.56s\n",
            "170:\tlearn: 0.2514639\ttotal: 2.06s\tremaining: 1.56s\n",
            "171:\tlearn: 0.2509377\ttotal: 2.08s\tremaining: 1.54s\n",
            "172:\tlearn: 0.2503168\ttotal: 2.09s\tremaining: 1.54s\n",
            "173:\tlearn: 0.2496999\ttotal: 2.11s\tremaining: 1.52s\n",
            "174:\tlearn: 0.2491455\ttotal: 2.12s\tremaining: 1.51s\n",
            "175:\tlearn: 0.2485772\ttotal: 2.13s\tremaining: 1.5s\n",
            "176:\tlearn: 0.2479268\ttotal: 2.15s\tremaining: 1.5s\n",
            "177:\tlearn: 0.2468027\ttotal: 2.17s\tremaining: 1.49s\n",
            "178:\tlearn: 0.2461588\ttotal: 2.19s\tremaining: 1.48s\n",
            "179:\tlearn: 0.2458408\ttotal: 2.2s\tremaining: 1.47s\n",
            "180:\tlearn: 0.2454557\ttotal: 2.22s\tremaining: 1.46s\n",
            "181:\tlearn: 0.2454402\ttotal: 2.23s\tremaining: 1.45s\n",
            "182:\tlearn: 0.2449076\ttotal: 2.24s\tremaining: 1.43s\n",
            "183:\tlearn: 0.2443056\ttotal: 2.26s\tremaining: 1.42s\n",
            "184:\tlearn: 0.2438362\ttotal: 2.27s\tremaining: 1.41s\n",
            "185:\tlearn: 0.2431396\ttotal: 2.28s\tremaining: 1.4s\n",
            "186:\tlearn: 0.2426373\ttotal: 2.3s\tremaining: 1.39s\n",
            "187:\tlearn: 0.2422223\ttotal: 2.31s\tremaining: 1.38s\n",
            "188:\tlearn: 0.2417321\ttotal: 2.33s\tremaining: 1.37s\n",
            "189:\tlearn: 0.2410530\ttotal: 2.35s\tremaining: 1.36s\n",
            "190:\tlearn: 0.2406437\ttotal: 2.37s\tremaining: 1.35s\n",
            "191:\tlearn: 0.2402188\ttotal: 2.38s\tremaining: 1.34s\n",
            "192:\tlearn: 0.2398305\ttotal: 2.4s\tremaining: 1.33s\n",
            "193:\tlearn: 0.2392395\ttotal: 2.41s\tremaining: 1.32s\n",
            "194:\tlearn: 0.2392231\ttotal: 2.42s\tremaining: 1.3s\n",
            "195:\tlearn: 0.2388096\ttotal: 2.44s\tremaining: 1.29s\n",
            "196:\tlearn: 0.2381568\ttotal: 2.46s\tremaining: 1.28s\n",
            "197:\tlearn: 0.2375799\ttotal: 2.47s\tremaining: 1.27s\n",
            "198:\tlearn: 0.2366624\ttotal: 2.49s\tremaining: 1.26s\n",
            "199:\tlearn: 0.2362576\ttotal: 2.5s\tremaining: 1.25s\n",
            "200:\tlearn: 0.2357103\ttotal: 2.52s\tremaining: 1.24s\n",
            "201:\tlearn: 0.2355115\ttotal: 2.53s\tremaining: 1.23s\n",
            "202:\tlearn: 0.2347897\ttotal: 2.55s\tremaining: 1.22s\n",
            "203:\tlearn: 0.2346995\ttotal: 2.56s\tremaining: 1.21s\n",
            "204:\tlearn: 0.2342882\ttotal: 2.58s\tremaining: 1.2s\n",
            "205:\tlearn: 0.2335567\ttotal: 2.6s\tremaining: 1.19s\n",
            "206:\tlearn: 0.2332216\ttotal: 2.61s\tremaining: 1.17s\n",
            "207:\tlearn: 0.2330145\ttotal: 2.63s\tremaining: 1.16s\n",
            "208:\tlearn: 0.2325693\ttotal: 2.65s\tremaining: 1.15s\n",
            "209:\tlearn: 0.2320935\ttotal: 2.67s\tremaining: 1.14s\n",
            "210:\tlearn: 0.2317788\ttotal: 2.68s\tremaining: 1.13s\n",
            "211:\tlearn: 0.2314419\ttotal: 2.69s\tremaining: 1.12s\n",
            "212:\tlearn: 0.2313692\ttotal: 2.71s\tremaining: 1.11s\n",
            "213:\tlearn: 0.2310457\ttotal: 2.72s\tremaining: 1.09s\n",
            "214:\tlearn: 0.2306539\ttotal: 2.74s\tremaining: 1.08s\n",
            "215:\tlearn: 0.2303228\ttotal: 2.75s\tremaining: 1.07s\n",
            "216:\tlearn: 0.2298360\ttotal: 2.77s\tremaining: 1.06s\n",
            "217:\tlearn: 0.2288023\ttotal: 2.79s\tremaining: 1.05s\n",
            "218:\tlearn: 0.2278459\ttotal: 2.8s\tremaining: 1.04s\n",
            "219:\tlearn: 0.2274217\ttotal: 2.81s\tremaining: 1.02s\n",
            "220:\tlearn: 0.2269271\ttotal: 2.83s\tremaining: 1.01s\n",
            "221:\tlearn: 0.2262003\ttotal: 2.84s\tremaining: 1000ms\n",
            "222:\tlearn: 0.2255238\ttotal: 2.86s\tremaining: 987ms\n",
            "223:\tlearn: 0.2248613\ttotal: 2.88s\tremaining: 976ms\n",
            "224:\tlearn: 0.2243619\ttotal: 2.89s\tremaining: 964ms\n",
            "225:\tlearn: 0.2243077\ttotal: 2.9s\tremaining: 951ms\n",
            "226:\tlearn: 0.2241671\ttotal: 2.92s\tremaining: 940ms\n",
            "227:\tlearn: 0.2236416\ttotal: 2.94s\tremaining: 929ms\n",
            "228:\tlearn: 0.2230682\ttotal: 2.96s\tremaining: 917ms\n",
            "229:\tlearn: 0.2226988\ttotal: 2.97s\tremaining: 905ms\n",
            "230:\tlearn: 0.2223553\ttotal: 2.99s\tremaining: 892ms\n",
            "231:\tlearn: 0.2223267\ttotal: 3s\tremaining: 879ms\n",
            "232:\tlearn: 0.2218421\ttotal: 3.01s\tremaining: 866ms\n",
            "233:\tlearn: 0.2212254\ttotal: 3.03s\tremaining: 855ms\n",
            "234:\tlearn: 0.2208873\ttotal: 3.04s\tremaining: 842ms\n",
            "235:\tlearn: 0.2205820\ttotal: 3.06s\tremaining: 830ms\n",
            "236:\tlearn: 0.2202137\ttotal: 3.08s\tremaining: 818ms\n",
            "237:\tlearn: 0.2199190\ttotal: 3.09s\tremaining: 806ms\n",
            "238:\tlearn: 0.2194502\ttotal: 3.1s\tremaining: 793ms\n",
            "239:\tlearn: 0.2188282\ttotal: 3.12s\tremaining: 780ms\n",
            "240:\tlearn: 0.2183122\ttotal: 3.13s\tremaining: 767ms\n",
            "241:\tlearn: 0.2174309\ttotal: 3.15s\tremaining: 755ms\n",
            "242:\tlearn: 0.2167214\ttotal: 3.16s\tremaining: 742ms\n",
            "243:\tlearn: 0.2160487\ttotal: 3.19s\tremaining: 731ms\n",
            "244:\tlearn: 0.2153147\ttotal: 3.2s\tremaining: 719ms\n",
            "245:\tlearn: 0.2147860\ttotal: 3.22s\tremaining: 706ms\n",
            "246:\tlearn: 0.2143038\ttotal: 3.23s\tremaining: 693ms\n",
            "247:\tlearn: 0.2137213\ttotal: 3.25s\tremaining: 681ms\n",
            "248:\tlearn: 0.2130983\ttotal: 3.26s\tremaining: 668ms\n",
            "249:\tlearn: 0.2126845\ttotal: 3.28s\tremaining: 655ms\n",
            "250:\tlearn: 0.2122483\ttotal: 3.3s\tremaining: 644ms\n",
            "251:\tlearn: 0.2118900\ttotal: 3.31s\tremaining: 631ms\n",
            "252:\tlearn: 0.2113146\ttotal: 3.33s\tremaining: 618ms\n",
            "253:\tlearn: 0.2108072\ttotal: 3.34s\tremaining: 605ms\n",
            "254:\tlearn: 0.2103362\ttotal: 3.36s\tremaining: 593ms\n",
            "255:\tlearn: 0.2100566\ttotal: 3.38s\tremaining: 580ms\n",
            "256:\tlearn: 0.2096173\ttotal: 3.39s\tremaining: 568ms\n",
            "257:\tlearn: 0.2090680\ttotal: 3.41s\tremaining: 556ms\n",
            "258:\tlearn: 0.2082735\ttotal: 3.43s\tremaining: 543ms\n",
            "259:\tlearn: 0.2078256\ttotal: 3.45s\tremaining: 530ms\n",
            "260:\tlearn: 0.2074094\ttotal: 3.46s\tremaining: 517ms\n",
            "261:\tlearn: 0.2074012\ttotal: 3.48s\tremaining: 504ms\n",
            "262:\tlearn: 0.2072729\ttotal: 3.49s\tremaining: 491ms\n",
            "263:\tlearn: 0.2068188\ttotal: 3.51s\tremaining: 478ms\n",
            "264:\tlearn: 0.2062146\ttotal: 3.52s\tremaining: 465ms\n",
            "265:\tlearn: 0.2056374\ttotal: 3.54s\tremaining: 453ms\n",
            "266:\tlearn: 0.2048144\ttotal: 3.56s\tremaining: 440ms\n",
            "267:\tlearn: 0.2043792\ttotal: 3.58s\tremaining: 427ms\n",
            "268:\tlearn: 0.2043719\ttotal: 3.59s\tremaining: 414ms\n",
            "269:\tlearn: 0.2042153\ttotal: 3.6s\tremaining: 400ms\n",
            "270:\tlearn: 0.2037080\ttotal: 3.62s\tremaining: 387ms\n",
            "271:\tlearn: 0.2032779\ttotal: 3.63s\tremaining: 374ms\n",
            "272:\tlearn: 0.2028056\ttotal: 3.65s\tremaining: 361ms\n",
            "273:\tlearn: 0.2023510\ttotal: 3.66s\tremaining: 348ms\n",
            "274:\tlearn: 0.2020327\ttotal: 3.68s\tremaining: 335ms\n",
            "275:\tlearn: 0.2017360\ttotal: 3.7s\tremaining: 321ms\n",
            "276:\tlearn: 0.2013478\ttotal: 3.71s\tremaining: 308ms\n",
            "277:\tlearn: 0.2011807\ttotal: 3.73s\tremaining: 295ms\n",
            "278:\tlearn: 0.2007433\ttotal: 3.75s\tremaining: 282ms\n",
            "279:\tlearn: 0.2006936\ttotal: 3.76s\tremaining: 269ms\n",
            "280:\tlearn: 0.2004369\ttotal: 3.77s\tremaining: 255ms\n",
            "281:\tlearn: 0.1999205\ttotal: 3.79s\tremaining: 242ms\n",
            "282:\tlearn: 0.1995561\ttotal: 3.81s\tremaining: 229ms\n",
            "283:\tlearn: 0.1993020\ttotal: 3.82s\tremaining: 215ms\n",
            "284:\tlearn: 0.1987206\ttotal: 3.84s\tremaining: 202ms\n",
            "285:\tlearn: 0.1980297\ttotal: 3.85s\tremaining: 189ms\n",
            "286:\tlearn: 0.1976959\ttotal: 3.87s\tremaining: 175ms\n",
            "287:\tlearn: 0.1971714\ttotal: 3.89s\tremaining: 162ms\n",
            "288:\tlearn: 0.1964796\ttotal: 3.91s\tremaining: 149ms\n",
            "289:\tlearn: 0.1958619\ttotal: 3.93s\tremaining: 135ms\n",
            "290:\tlearn: 0.1951252\ttotal: 3.94s\tremaining: 122ms\n",
            "291:\tlearn: 0.1949628\ttotal: 3.96s\tremaining: 108ms\n",
            "292:\tlearn: 0.1949550\ttotal: 3.97s\tremaining: 95ms\n",
            "293:\tlearn: 0.1944455\ttotal: 3.99s\tremaining: 81.5ms\n",
            "294:\tlearn: 0.1939584\ttotal: 4.01s\tremaining: 67.9ms\n",
            "295:\tlearn: 0.1933787\ttotal: 4.02s\tremaining: 54.4ms\n",
            "296:\tlearn: 0.1928226\ttotal: 4.04s\tremaining: 40.8ms\n",
            "297:\tlearn: 0.1923941\ttotal: 4.06s\tremaining: 27.2ms\n",
            "298:\tlearn: 0.1918439\ttotal: 4.07s\tremaining: 13.6ms\n",
            "299:\tlearn: 0.1914469\ttotal: 4.09s\tremaining: 0us\n"
          ]
        }
      ]
    },
    {
      "cell_type": "markdown",
      "source": [
        "Def dobiveni model + prilagodit threshold da imamo zeljeni broj jedinica"
      ],
      "metadata": {
        "id": "mG52X3a7974q"
      }
    },
    {
      "cell_type": "code",
      "source": [
        "# Izračunavanje broja jedinica u predictions\n",
        "num_ones = sum(predictions)\n",
        "\n",
        "# Ispis broja jedinica\n",
        "print(\"Broj jedinica u predictions:\", num_ones)\n"
      ],
      "metadata": {
        "colab": {
          "base_uri": "https://localhost:8080/"
        },
        "id": "-QIYHu-Jce7V",
        "outputId": "72661260-a4a7-4643-a864-ef7e449b4184"
      },
      "execution_count": null,
      "outputs": [
        {
          "output_type": "stream",
          "name": "stdout",
          "text": [
            "Broj jedinica u predictions: 2136\n"
          ]
        }
      ]
    },
    {
      "cell_type": "code",
      "source": [
        "sum(predictions)/len(predictions)"
      ],
      "metadata": {
        "colab": {
          "base_uri": "https://localhost:8080/"
        },
        "id": "7gV8xX9f6Xhj",
        "outputId": "5fb1ca0d-9982-476a-93cc-8e0df3023d95"
      },
      "execution_count": null,
      "outputs": [
        {
          "output_type": "execute_result",
          "data": {
            "text/plain": [
              "0.29116684841875684"
            ]
          },
          "metadata": {},
          "execution_count": 262
        }
      ]
    },
    {
      "cell_type": "code",
      "source": [
        "import csv\n",
        "\n",
        "# Otvaranje datoteke za pisanje\n",
        "with open('Care4You_8_2024-03-07.txt', 'w', encoding='utf-8') as file:\n",
        "    # Pisanje zaglavlja u datoteku\n",
        "    file.write(\"Label,Probability_0,Probability_1\\n\")\n",
        "\n",
        "    # Pisanje svakog reda u datoteku\n",
        "    for label, prob_1 in zip(predictions, probabilities):\n",
        "        prob_0 = 1 - prob_1  # Vjerojatnost klase 0 je 1 - vjerojatnost klase 1\n",
        "        file.write(f\"{label},{prob_0},{prob_1}\\n\")\n"
      ],
      "metadata": {
        "id": "YIuJR7lmheqg"
      },
      "execution_count": null,
      "outputs": []
    },
    {
      "cell_type": "code",
      "source": [
        "num_rows = predictions.shape[0]\n",
        "print(\"Broj redova u y_pred:\", num_rows)\n"
      ],
      "metadata": {
        "colab": {
          "base_uri": "https://localhost:8080/"
        },
        "id": "x2bZp5YUihNt",
        "outputId": "1ba49b16-e94a-45a8-c4ac-fcace8022a8c"
      },
      "execution_count": null,
      "outputs": [
        {
          "output_type": "stream",
          "name": "stdout",
          "text": [
            "Broj redova u y_pred: 7336\n"
          ]
        }
      ]
    }
  ],
  "metadata": {
    "colab": {
      "provenance": [],
      "gpuType": "V100",
      "machine_shape": "hm"
    },
    "kernelspec": {
      "display_name": "Python 3",
      "name": "python3"
    },
    "language_info": {
      "name": "python"
    },
    "accelerator": "GPU"
  },
  "nbformat": 4,
  "nbformat_minor": 0
}