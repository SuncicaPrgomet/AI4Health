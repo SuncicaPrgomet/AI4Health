{
  "cells": [
    {
      "cell_type": "markdown",
      "metadata": {
        "id": "O5fjKsHwg8KY"
      },
      "source": [
        "#UČITAVANJE PODATAKA"
      ]
    },
    {
      "cell_type": "markdown",
      "metadata": {
        "id": "GQY5AGXdD6D9"
      },
      "source": [
        "TRAIN"
      ]
    },
    {
      "cell_type": "code",
      "execution_count": null,
      "metadata": {
        "id": "r9Qn5vFeg281"
      },
      "outputs": [],
      "source": [
        "import pandas as pd\n",
        "from imblearn.over_sampling import SMOTE\n",
        "from collections import Counter  # Dodali smo uvoz Counter\n"
      ]
    },
    {
      "cell_type": "code",
      "execution_count": null,
      "metadata": {
        "colab": {
          "base_uri": "https://localhost:8080/"
        },
        "id": "3ACaj7DBqaG_",
        "outputId": "00764c00-8e4a-402c-ebf9-7710a615d8c4"
      },
      "outputs": [
        {
          "output_type": "stream",
          "name": "stdout",
          "text": [
            "Mounted at /content/drive\n"
          ]
        }
      ],
      "source": [
        "from google.colab import drive\n",
        "drive.mount('/content/drive')"
      ]
    },
    {
      "cell_type": "code",
      "execution_count": null,
      "metadata": {
        "colab": {
          "base_uri": "https://localhost:8080/"
        },
        "id": "r8khPsXYhBPA",
        "outputId": "a05573e4-7278-4ef2-86cb-16326d544778"
      },
      "outputs": [
        {
          "output_type": "stream",
          "name": "stdout",
          "text": [
            "/content/drive/MyDrive/data\n"
          ]
        }
      ],
      "source": [
        "%cd /content/drive/MyDrive/data"
      ]
    },
    {
      "cell_type": "code",
      "execution_count": null,
      "metadata": {
        "id": "DWbgKms4hCvD"
      },
      "outputs": [],
      "source": [
        "podaci = pd.read_csv(\"train.csv\")"
      ]
    },
    {
      "cell_type": "code",
      "execution_count": null,
      "metadata": {
        "colab": {
          "base_uri": "https://localhost:8080/",
          "height": 424
        },
        "id": "etES4uHoufkt",
        "outputId": "3ed30667-7da4-4d6d-b99b-f2add7bc6440"
      },
      "outputs": [
        {
          "output_type": "execute_result",
          "data": {
            "text/plain": [
              "       Unnamed: 0 AdmissionDx AdmissionType  PreviousAdmissionDays  LOS  \\\n",
              "0               1           I     Elektivni                     -8    1   \n",
              "1               2           I     Elektivni                     -8   16   \n",
              "2               3           I     Elektivni                    279    3   \n",
              "3               4           I     Elektivni                   1905    2   \n",
              "4               5           I     Elektivni                     -8    2   \n",
              "...           ...         ...           ...                    ...  ...   \n",
              "28582      259512           I     Elektivni                     -8    1   \n",
              "28583      259572           R         Hitni                     -8   15   \n",
              "28584      259592           I     Elektivni                     -8    4   \n",
              "28585      261752           I     Elektivni                     -8    1   \n",
              "28586      262502           I     Elektivni                     -8   61   \n",
              "\n",
              "      Age_Group Gender  Surgery_Count  LOS_ICU  Discharge_Specialty  ...  L  \\\n",
              "0         83-87      Ž              0        0              3010100  ...  0   \n",
              "1         68-72      M              1        0              3100400  ...  0   \n",
              "2         18-22      Ž              1        0              3010100  ...  0   \n",
              "3         83-87      M              0        0              3010100  ...  0   \n",
              "4         73-77      M              0        0              3010100  ...  0   \n",
              "...         ...    ...            ...      ...                  ...  ... ..   \n",
              "28582     68-72      M              0        0              3010100  ...  0   \n",
              "28583     43-47      M              0        0              3010100  ...  0   \n",
              "28584     73-77      Ž              0        0              3010100  ...  0   \n",
              "28585     63-67      M              0        0              3100400  ...  0   \n",
              "28586     53-57      M              2       45              3190100  ...  0   \n",
              "\n",
              "       M  N  Q  R  S  T  U  Y  Z  \n",
              "0      0  0  0  0  0  0  0  0  2  \n",
              "1      0  0  0  0  0  0  0  0  0  \n",
              "2      0  0  0  0  0  0  0  0  0  \n",
              "3      0  1  0  0  0  0  0  0  0  \n",
              "4      0  1  0  0  0  0  0  0  0  \n",
              "...   .. .. .. .. .. .. .. .. ..  \n",
              "28582  0  0  0  0  0  0  0  0  0  \n",
              "28583  0  0  0  0  0  1  0  0  0  \n",
              "28584  0  0  0  0  0  0  0  0  0  \n",
              "28585  0  0  0  0  0  0  0  0  0  \n",
              "28586  0  0  0  0  0  0  0  0  1  \n",
              "\n",
              "[28587 rows x 275 columns]"
            ],
            "text/html": [
              "\n",
              "  <div id=\"df-02d684f9-1018-4ad8-95af-7ae722f2f0ce\" class=\"colab-df-container\">\n",
              "    <div>\n",
              "<style scoped>\n",
              "    .dataframe tbody tr th:only-of-type {\n",
              "        vertical-align: middle;\n",
              "    }\n",
              "\n",
              "    .dataframe tbody tr th {\n",
              "        vertical-align: top;\n",
              "    }\n",
              "\n",
              "    .dataframe thead th {\n",
              "        text-align: right;\n",
              "    }\n",
              "</style>\n",
              "<table border=\"1\" class=\"dataframe\">\n",
              "  <thead>\n",
              "    <tr style=\"text-align: right;\">\n",
              "      <th></th>\n",
              "      <th>Unnamed: 0</th>\n",
              "      <th>AdmissionDx</th>\n",
              "      <th>AdmissionType</th>\n",
              "      <th>PreviousAdmissionDays</th>\n",
              "      <th>LOS</th>\n",
              "      <th>Age_Group</th>\n",
              "      <th>Gender</th>\n",
              "      <th>Surgery_Count</th>\n",
              "      <th>LOS_ICU</th>\n",
              "      <th>Discharge_Specialty</th>\n",
              "      <th>...</th>\n",
              "      <th>L</th>\n",
              "      <th>M</th>\n",
              "      <th>N</th>\n",
              "      <th>Q</th>\n",
              "      <th>R</th>\n",
              "      <th>S</th>\n",
              "      <th>T</th>\n",
              "      <th>U</th>\n",
              "      <th>Y</th>\n",
              "      <th>Z</th>\n",
              "    </tr>\n",
              "  </thead>\n",
              "  <tbody>\n",
              "    <tr>\n",
              "      <th>0</th>\n",
              "      <td>1</td>\n",
              "      <td>I</td>\n",
              "      <td>Elektivni</td>\n",
              "      <td>-8</td>\n",
              "      <td>1</td>\n",
              "      <td>83-87</td>\n",
              "      <td>Ž</td>\n",
              "      <td>0</td>\n",
              "      <td>0</td>\n",
              "      <td>3010100</td>\n",
              "      <td>...</td>\n",
              "      <td>0</td>\n",
              "      <td>0</td>\n",
              "      <td>0</td>\n",
              "      <td>0</td>\n",
              "      <td>0</td>\n",
              "      <td>0</td>\n",
              "      <td>0</td>\n",
              "      <td>0</td>\n",
              "      <td>0</td>\n",
              "      <td>2</td>\n",
              "    </tr>\n",
              "    <tr>\n",
              "      <th>1</th>\n",
              "      <td>2</td>\n",
              "      <td>I</td>\n",
              "      <td>Elektivni</td>\n",
              "      <td>-8</td>\n",
              "      <td>16</td>\n",
              "      <td>68-72</td>\n",
              "      <td>M</td>\n",
              "      <td>1</td>\n",
              "      <td>0</td>\n",
              "      <td>3100400</td>\n",
              "      <td>...</td>\n",
              "      <td>0</td>\n",
              "      <td>0</td>\n",
              "      <td>0</td>\n",
              "      <td>0</td>\n",
              "      <td>0</td>\n",
              "      <td>0</td>\n",
              "      <td>0</td>\n",
              "      <td>0</td>\n",
              "      <td>0</td>\n",
              "      <td>0</td>\n",
              "    </tr>\n",
              "    <tr>\n",
              "      <th>2</th>\n",
              "      <td>3</td>\n",
              "      <td>I</td>\n",
              "      <td>Elektivni</td>\n",
              "      <td>279</td>\n",
              "      <td>3</td>\n",
              "      <td>18-22</td>\n",
              "      <td>Ž</td>\n",
              "      <td>1</td>\n",
              "      <td>0</td>\n",
              "      <td>3010100</td>\n",
              "      <td>...</td>\n",
              "      <td>0</td>\n",
              "      <td>0</td>\n",
              "      <td>0</td>\n",
              "      <td>0</td>\n",
              "      <td>0</td>\n",
              "      <td>0</td>\n",
              "      <td>0</td>\n",
              "      <td>0</td>\n",
              "      <td>0</td>\n",
              "      <td>0</td>\n",
              "    </tr>\n",
              "    <tr>\n",
              "      <th>3</th>\n",
              "      <td>4</td>\n",
              "      <td>I</td>\n",
              "      <td>Elektivni</td>\n",
              "      <td>1905</td>\n",
              "      <td>2</td>\n",
              "      <td>83-87</td>\n",
              "      <td>M</td>\n",
              "      <td>0</td>\n",
              "      <td>0</td>\n",
              "      <td>3010100</td>\n",
              "      <td>...</td>\n",
              "      <td>0</td>\n",
              "      <td>0</td>\n",
              "      <td>1</td>\n",
              "      <td>0</td>\n",
              "      <td>0</td>\n",
              "      <td>0</td>\n",
              "      <td>0</td>\n",
              "      <td>0</td>\n",
              "      <td>0</td>\n",
              "      <td>0</td>\n",
              "    </tr>\n",
              "    <tr>\n",
              "      <th>4</th>\n",
              "      <td>5</td>\n",
              "      <td>I</td>\n",
              "      <td>Elektivni</td>\n",
              "      <td>-8</td>\n",
              "      <td>2</td>\n",
              "      <td>73-77</td>\n",
              "      <td>M</td>\n",
              "      <td>0</td>\n",
              "      <td>0</td>\n",
              "      <td>3010100</td>\n",
              "      <td>...</td>\n",
              "      <td>0</td>\n",
              "      <td>0</td>\n",
              "      <td>1</td>\n",
              "      <td>0</td>\n",
              "      <td>0</td>\n",
              "      <td>0</td>\n",
              "      <td>0</td>\n",
              "      <td>0</td>\n",
              "      <td>0</td>\n",
              "      <td>0</td>\n",
              "    </tr>\n",
              "    <tr>\n",
              "      <th>...</th>\n",
              "      <td>...</td>\n",
              "      <td>...</td>\n",
              "      <td>...</td>\n",
              "      <td>...</td>\n",
              "      <td>...</td>\n",
              "      <td>...</td>\n",
              "      <td>...</td>\n",
              "      <td>...</td>\n",
              "      <td>...</td>\n",
              "      <td>...</td>\n",
              "      <td>...</td>\n",
              "      <td>...</td>\n",
              "      <td>...</td>\n",
              "      <td>...</td>\n",
              "      <td>...</td>\n",
              "      <td>...</td>\n",
              "      <td>...</td>\n",
              "      <td>...</td>\n",
              "      <td>...</td>\n",
              "      <td>...</td>\n",
              "      <td>...</td>\n",
              "    </tr>\n",
              "    <tr>\n",
              "      <th>28582</th>\n",
              "      <td>259512</td>\n",
              "      <td>I</td>\n",
              "      <td>Elektivni</td>\n",
              "      <td>-8</td>\n",
              "      <td>1</td>\n",
              "      <td>68-72</td>\n",
              "      <td>M</td>\n",
              "      <td>0</td>\n",
              "      <td>0</td>\n",
              "      <td>3010100</td>\n",
              "      <td>...</td>\n",
              "      <td>0</td>\n",
              "      <td>0</td>\n",
              "      <td>0</td>\n",
              "      <td>0</td>\n",
              "      <td>0</td>\n",
              "      <td>0</td>\n",
              "      <td>0</td>\n",
              "      <td>0</td>\n",
              "      <td>0</td>\n",
              "      <td>0</td>\n",
              "    </tr>\n",
              "    <tr>\n",
              "      <th>28583</th>\n",
              "      <td>259572</td>\n",
              "      <td>R</td>\n",
              "      <td>Hitni</td>\n",
              "      <td>-8</td>\n",
              "      <td>15</td>\n",
              "      <td>43-47</td>\n",
              "      <td>M</td>\n",
              "      <td>0</td>\n",
              "      <td>0</td>\n",
              "      <td>3010100</td>\n",
              "      <td>...</td>\n",
              "      <td>0</td>\n",
              "      <td>0</td>\n",
              "      <td>0</td>\n",
              "      <td>0</td>\n",
              "      <td>0</td>\n",
              "      <td>0</td>\n",
              "      <td>1</td>\n",
              "      <td>0</td>\n",
              "      <td>0</td>\n",
              "      <td>0</td>\n",
              "    </tr>\n",
              "    <tr>\n",
              "      <th>28584</th>\n",
              "      <td>259592</td>\n",
              "      <td>I</td>\n",
              "      <td>Elektivni</td>\n",
              "      <td>-8</td>\n",
              "      <td>4</td>\n",
              "      <td>73-77</td>\n",
              "      <td>Ž</td>\n",
              "      <td>0</td>\n",
              "      <td>0</td>\n",
              "      <td>3010100</td>\n",
              "      <td>...</td>\n",
              "      <td>0</td>\n",
              "      <td>0</td>\n",
              "      <td>0</td>\n",
              "      <td>0</td>\n",
              "      <td>0</td>\n",
              "      <td>0</td>\n",
              "      <td>0</td>\n",
              "      <td>0</td>\n",
              "      <td>0</td>\n",
              "      <td>0</td>\n",
              "    </tr>\n",
              "    <tr>\n",
              "      <th>28585</th>\n",
              "      <td>261752</td>\n",
              "      <td>I</td>\n",
              "      <td>Elektivni</td>\n",
              "      <td>-8</td>\n",
              "      <td>1</td>\n",
              "      <td>63-67</td>\n",
              "      <td>M</td>\n",
              "      <td>0</td>\n",
              "      <td>0</td>\n",
              "      <td>3100400</td>\n",
              "      <td>...</td>\n",
              "      <td>0</td>\n",
              "      <td>0</td>\n",
              "      <td>0</td>\n",
              "      <td>0</td>\n",
              "      <td>0</td>\n",
              "      <td>0</td>\n",
              "      <td>0</td>\n",
              "      <td>0</td>\n",
              "      <td>0</td>\n",
              "      <td>0</td>\n",
              "    </tr>\n",
              "    <tr>\n",
              "      <th>28586</th>\n",
              "      <td>262502</td>\n",
              "      <td>I</td>\n",
              "      <td>Elektivni</td>\n",
              "      <td>-8</td>\n",
              "      <td>61</td>\n",
              "      <td>53-57</td>\n",
              "      <td>M</td>\n",
              "      <td>2</td>\n",
              "      <td>45</td>\n",
              "      <td>3190100</td>\n",
              "      <td>...</td>\n",
              "      <td>0</td>\n",
              "      <td>0</td>\n",
              "      <td>0</td>\n",
              "      <td>0</td>\n",
              "      <td>0</td>\n",
              "      <td>0</td>\n",
              "      <td>0</td>\n",
              "      <td>0</td>\n",
              "      <td>0</td>\n",
              "      <td>1</td>\n",
              "    </tr>\n",
              "  </tbody>\n",
              "</table>\n",
              "<p>28587 rows × 275 columns</p>\n",
              "</div>\n",
              "    <div class=\"colab-df-buttons\">\n",
              "\n",
              "  <div class=\"colab-df-container\">\n",
              "    <button class=\"colab-df-convert\" onclick=\"convertToInteractive('df-02d684f9-1018-4ad8-95af-7ae722f2f0ce')\"\n",
              "            title=\"Convert this dataframe to an interactive table.\"\n",
              "            style=\"display:none;\">\n",
              "\n",
              "  <svg xmlns=\"http://www.w3.org/2000/svg\" height=\"24px\" viewBox=\"0 -960 960 960\">\n",
              "    <path d=\"M120-120v-720h720v720H120Zm60-500h600v-160H180v160Zm220 220h160v-160H400v160Zm0 220h160v-160H400v160ZM180-400h160v-160H180v160Zm440 0h160v-160H620v160ZM180-180h160v-160H180v160Zm440 0h160v-160H620v160Z\"/>\n",
              "  </svg>\n",
              "    </button>\n",
              "\n",
              "  <style>\n",
              "    .colab-df-container {\n",
              "      display:flex;\n",
              "      gap: 12px;\n",
              "    }\n",
              "\n",
              "    .colab-df-convert {\n",
              "      background-color: #E8F0FE;\n",
              "      border: none;\n",
              "      border-radius: 50%;\n",
              "      cursor: pointer;\n",
              "      display: none;\n",
              "      fill: #1967D2;\n",
              "      height: 32px;\n",
              "      padding: 0 0 0 0;\n",
              "      width: 32px;\n",
              "    }\n",
              "\n",
              "    .colab-df-convert:hover {\n",
              "      background-color: #E2EBFA;\n",
              "      box-shadow: 0px 1px 2px rgba(60, 64, 67, 0.3), 0px 1px 3px 1px rgba(60, 64, 67, 0.15);\n",
              "      fill: #174EA6;\n",
              "    }\n",
              "\n",
              "    .colab-df-buttons div {\n",
              "      margin-bottom: 4px;\n",
              "    }\n",
              "\n",
              "    [theme=dark] .colab-df-convert {\n",
              "      background-color: #3B4455;\n",
              "      fill: #D2E3FC;\n",
              "    }\n",
              "\n",
              "    [theme=dark] .colab-df-convert:hover {\n",
              "      background-color: #434B5C;\n",
              "      box-shadow: 0px 1px 3px 1px rgba(0, 0, 0, 0.15);\n",
              "      filter: drop-shadow(0px 1px 2px rgba(0, 0, 0, 0.3));\n",
              "      fill: #FFFFFF;\n",
              "    }\n",
              "  </style>\n",
              "\n",
              "    <script>\n",
              "      const buttonEl =\n",
              "        document.querySelector('#df-02d684f9-1018-4ad8-95af-7ae722f2f0ce button.colab-df-convert');\n",
              "      buttonEl.style.display =\n",
              "        google.colab.kernel.accessAllowed ? 'block' : 'none';\n",
              "\n",
              "      async function convertToInteractive(key) {\n",
              "        const element = document.querySelector('#df-02d684f9-1018-4ad8-95af-7ae722f2f0ce');\n",
              "        const dataTable =\n",
              "          await google.colab.kernel.invokeFunction('convertToInteractive',\n",
              "                                                    [key], {});\n",
              "        if (!dataTable) return;\n",
              "\n",
              "        const docLinkHtml = 'Like what you see? Visit the ' +\n",
              "          '<a target=\"_blank\" href=https://colab.research.google.com/notebooks/data_table.ipynb>data table notebook</a>'\n",
              "          + ' to learn more about interactive tables.';\n",
              "        element.innerHTML = '';\n",
              "        dataTable['output_type'] = 'display_data';\n",
              "        await google.colab.output.renderOutput(dataTable, element);\n",
              "        const docLink = document.createElement('div');\n",
              "        docLink.innerHTML = docLinkHtml;\n",
              "        element.appendChild(docLink);\n",
              "      }\n",
              "    </script>\n",
              "  </div>\n",
              "\n",
              "\n",
              "<div id=\"df-3c8becac-37ab-4de7-8ece-85bfd837d678\">\n",
              "  <button class=\"colab-df-quickchart\" onclick=\"quickchart('df-3c8becac-37ab-4de7-8ece-85bfd837d678')\"\n",
              "            title=\"Suggest charts\"\n",
              "            style=\"display:none;\">\n",
              "\n",
              "<svg xmlns=\"http://www.w3.org/2000/svg\" height=\"24px\"viewBox=\"0 0 24 24\"\n",
              "     width=\"24px\">\n",
              "    <g>\n",
              "        <path d=\"M19 3H5c-1.1 0-2 .9-2 2v14c0 1.1.9 2 2 2h14c1.1 0 2-.9 2-2V5c0-1.1-.9-2-2-2zM9 17H7v-7h2v7zm4 0h-2V7h2v10zm4 0h-2v-4h2v4z\"/>\n",
              "    </g>\n",
              "</svg>\n",
              "  </button>\n",
              "\n",
              "<style>\n",
              "  .colab-df-quickchart {\n",
              "      --bg-color: #E8F0FE;\n",
              "      --fill-color: #1967D2;\n",
              "      --hover-bg-color: #E2EBFA;\n",
              "      --hover-fill-color: #174EA6;\n",
              "      --disabled-fill-color: #AAA;\n",
              "      --disabled-bg-color: #DDD;\n",
              "  }\n",
              "\n",
              "  [theme=dark] .colab-df-quickchart {\n",
              "      --bg-color: #3B4455;\n",
              "      --fill-color: #D2E3FC;\n",
              "      --hover-bg-color: #434B5C;\n",
              "      --hover-fill-color: #FFFFFF;\n",
              "      --disabled-bg-color: #3B4455;\n",
              "      --disabled-fill-color: #666;\n",
              "  }\n",
              "\n",
              "  .colab-df-quickchart {\n",
              "    background-color: var(--bg-color);\n",
              "    border: none;\n",
              "    border-radius: 50%;\n",
              "    cursor: pointer;\n",
              "    display: none;\n",
              "    fill: var(--fill-color);\n",
              "    height: 32px;\n",
              "    padding: 0;\n",
              "    width: 32px;\n",
              "  }\n",
              "\n",
              "  .colab-df-quickchart:hover {\n",
              "    background-color: var(--hover-bg-color);\n",
              "    box-shadow: 0 1px 2px rgba(60, 64, 67, 0.3), 0 1px 3px 1px rgba(60, 64, 67, 0.15);\n",
              "    fill: var(--button-hover-fill-color);\n",
              "  }\n",
              "\n",
              "  .colab-df-quickchart-complete:disabled,\n",
              "  .colab-df-quickchart-complete:disabled:hover {\n",
              "    background-color: var(--disabled-bg-color);\n",
              "    fill: var(--disabled-fill-color);\n",
              "    box-shadow: none;\n",
              "  }\n",
              "\n",
              "  .colab-df-spinner {\n",
              "    border: 2px solid var(--fill-color);\n",
              "    border-color: transparent;\n",
              "    border-bottom-color: var(--fill-color);\n",
              "    animation:\n",
              "      spin 1s steps(1) infinite;\n",
              "  }\n",
              "\n",
              "  @keyframes spin {\n",
              "    0% {\n",
              "      border-color: transparent;\n",
              "      border-bottom-color: var(--fill-color);\n",
              "      border-left-color: var(--fill-color);\n",
              "    }\n",
              "    20% {\n",
              "      border-color: transparent;\n",
              "      border-left-color: var(--fill-color);\n",
              "      border-top-color: var(--fill-color);\n",
              "    }\n",
              "    30% {\n",
              "      border-color: transparent;\n",
              "      border-left-color: var(--fill-color);\n",
              "      border-top-color: var(--fill-color);\n",
              "      border-right-color: var(--fill-color);\n",
              "    }\n",
              "    40% {\n",
              "      border-color: transparent;\n",
              "      border-right-color: var(--fill-color);\n",
              "      border-top-color: var(--fill-color);\n",
              "    }\n",
              "    60% {\n",
              "      border-color: transparent;\n",
              "      border-right-color: var(--fill-color);\n",
              "    }\n",
              "    80% {\n",
              "      border-color: transparent;\n",
              "      border-right-color: var(--fill-color);\n",
              "      border-bottom-color: var(--fill-color);\n",
              "    }\n",
              "    90% {\n",
              "      border-color: transparent;\n",
              "      border-bottom-color: var(--fill-color);\n",
              "    }\n",
              "  }\n",
              "</style>\n",
              "\n",
              "  <script>\n",
              "    async function quickchart(key) {\n",
              "      const quickchartButtonEl =\n",
              "        document.querySelector('#' + key + ' button');\n",
              "      quickchartButtonEl.disabled = true;  // To prevent multiple clicks.\n",
              "      quickchartButtonEl.classList.add('colab-df-spinner');\n",
              "      try {\n",
              "        const charts = await google.colab.kernel.invokeFunction(\n",
              "            'suggestCharts', [key], {});\n",
              "      } catch (error) {\n",
              "        console.error('Error during call to suggestCharts:', error);\n",
              "      }\n",
              "      quickchartButtonEl.classList.remove('colab-df-spinner');\n",
              "      quickchartButtonEl.classList.add('colab-df-quickchart-complete');\n",
              "    }\n",
              "    (() => {\n",
              "      let quickchartButtonEl =\n",
              "        document.querySelector('#df-3c8becac-37ab-4de7-8ece-85bfd837d678 button');\n",
              "      quickchartButtonEl.style.display =\n",
              "        google.colab.kernel.accessAllowed ? 'block' : 'none';\n",
              "    })();\n",
              "  </script>\n",
              "</div>\n",
              "    </div>\n",
              "  </div>\n"
            ],
            "application/vnd.google.colaboratory.intrinsic+json": {
              "type": "dataframe",
              "variable_name": "podaci"
            }
          },
          "metadata": {},
          "execution_count": 5
        }
      ],
      "source": [
        "podaci"
      ]
    },
    {
      "cell_type": "code",
      "execution_count": null,
      "metadata": {
        "colab": {
          "base_uri": "https://localhost:8080/"
        },
        "id": "mDjWYlLwhLfr",
        "outputId": "baef0c2c-fef9-4262-8c0a-9d1abc90a172"
      },
      "outputs": [
        {
          "output_type": "execute_result",
          "data": {
            "text/plain": [
              "(28587, 275)"
            ]
          },
          "metadata": {},
          "execution_count": 6
        }
      ],
      "source": [
        "podaci.shape"
      ]
    },
    {
      "cell_type": "markdown",
      "metadata": {
        "id": "7KjZ-afEhOOT"
      },
      "source": [
        "#IZBACIVANJE REDAKA S NUL VRIJEDNOSTIMA TE PRVOG STUPCA"
      ]
    },
    {
      "cell_type": "code",
      "execution_count": null,
      "metadata": {
        "id": "fejAeAl6hRuF"
      },
      "outputs": [],
      "source": [
        "podaci.dropna(axis=0, inplace=True)"
      ]
    },
    {
      "cell_type": "code",
      "execution_count": null,
      "metadata": {
        "colab": {
          "base_uri": "https://localhost:8080/"
        },
        "id": "LH8Rb-y-hSp9",
        "outputId": "b37ff8bd-0570-47ee-ca72-57345a354367"
      },
      "outputs": [
        {
          "output_type": "execute_result",
          "data": {
            "text/plain": [
              "(28071, 275)"
            ]
          },
          "metadata": {},
          "execution_count": 8
        }
      ],
      "source": [
        "podaci.shape"
      ]
    },
    {
      "cell_type": "code",
      "execution_count": null,
      "metadata": {
        "id": "1Yb080o-mUZY"
      },
      "outputs": [],
      "source": [
        "podaci.drop(['Unnamed: 0'],axis=1, inplace=True)"
      ]
    },
    {
      "cell_type": "code",
      "execution_count": null,
      "metadata": {
        "colab": {
          "base_uri": "https://localhost:8080/"
        },
        "id": "xnd_et-VhWvk",
        "outputId": "da6d8421-3acf-485e-c135-350837cfc1f6"
      },
      "outputs": [
        {
          "output_type": "stream",
          "name": "stdout",
          "text": [
            "Vrijednost -8 se pojavljuje 12719 puta u stupcu 'PreviousAdmissionDays'\n",
            "Vrijednost -8 se pojavljuje 1391 puta u stupcu 'Weight_Discharge'\n",
            "Vrijednost -8 se pojavljuje 1395 puta u stupcu 'Height_Discharge'\n"
          ]
        }
      ],
      "source": [
        "for stupac in podaci.columns:\n",
        "    broj_pojavljivanja = (podaci[stupac] == -8).sum()\n",
        "    if broj_pojavljivanja > 0:\n",
        "        print(f\"Vrijednost -8 se pojavljuje {broj_pojavljivanja} puta u stupcu '{stupac}'\")"
      ]
    },
    {
      "cell_type": "markdown",
      "metadata": {
        "id": "1zLgwzZ0m_wI"
      },
      "source": [
        "#PROVJERA I UKLANJANJE DUPLIKATA"
      ]
    },
    {
      "cell_type": "code",
      "execution_count": null,
      "metadata": {
        "id": "rMcFIg5xm_gQ"
      },
      "outputs": [],
      "source": [
        "podaci.duplicated().sum()\n",
        "podaci.drop_duplicates(inplace=True)"
      ]
    },
    {
      "cell_type": "markdown",
      "metadata": {
        "id": "SjI8hCGbowO8"
      },
      "source": [
        "#UKLANJANJE ONIH KOJIMA JE VISINA PREKO 220 i TEŽINA PREKO 200"
      ]
    },
    {
      "cell_type": "code",
      "execution_count": null,
      "metadata": {
        "id": "cHPELpSIovRI"
      },
      "outputs": [],
      "source": [
        "podaci.drop(podaci[podaci['Height_Discharge'] > 220].index, axis=0, inplace=True)"
      ]
    },
    {
      "cell_type": "code",
      "execution_count": null,
      "metadata": {
        "id": "65k55jIysIhB"
      },
      "outputs": [],
      "source": [
        "podaci.drop(podaci[podaci['Weight_Discharge'] > 200].index, axis=0, inplace=True)"
      ]
    },
    {
      "cell_type": "code",
      "execution_count": null,
      "metadata": {
        "id": "jLuDIGdksQYb"
      },
      "outputs": [],
      "source": [
        "podaci=podaci.reset_index(drop=True)"
      ]
    },
    {
      "cell_type": "code",
      "execution_count": null,
      "metadata": {
        "colab": {
          "base_uri": "https://localhost:8080/"
        },
        "id": "QUHWus60s8-E",
        "outputId": "9ac55226-902d-4bcb-e05c-f19172ced9a1"
      },
      "outputs": [
        {
          "output_type": "execute_result",
          "data": {
            "text/plain": [
              "(28055, 274)"
            ]
          },
          "metadata": {},
          "execution_count": 15
        }
      ],
      "source": [
        "podaci.shape"
      ]
    },
    {
      "cell_type": "code",
      "execution_count": null,
      "metadata": {
        "colab": {
          "base_uri": "https://localhost:8080/"
        },
        "id": "RnLM6d2Lwmj-",
        "outputId": "3f6ac637-aff5-42fe-ab5b-c42b4af7d944"
      },
      "outputs": [
        {
          "output_type": "execute_result",
          "data": {
            "text/plain": [
              "0         53.0\n",
              "1         96.0\n",
              "2         52.0\n",
              "3         95.0\n",
              "4         82.0\n",
              "         ...  \n",
              "28050     80.0\n",
              "28051    105.0\n",
              "28052     70.0\n",
              "28053    100.0\n",
              "28054    116.0\n",
              "Name: Weight_Discharge, Length: 28055, dtype: float64"
            ]
          },
          "metadata": {},
          "execution_count": 16
        }
      ],
      "source": [
        "podaci[\"Weight_Discharge\"]"
      ]
    },
    {
      "cell_type": "markdown",
      "metadata": {
        "id": "MXR0KYKzAvId"
      },
      "source": [
        "#KATEGORIČKI MAPPING"
      ]
    },
    {
      "cell_type": "code",
      "execution_count": null,
      "metadata": {
        "id": "A-phXk6hBqVy"
      },
      "outputs": [],
      "source": [
        "mapping_admission_dx = {\"A\":0, \"B\":1, \"C\":2, \"D\":3, \"E\":4, \"F\":5, \"G\":6, \"H\":7, \"I\":8, \"J\":9, \"K\":10, \"L\":11, \"M\":12, \"N\":13, \"O\":14, \"P\":15, \"Q\":16, \"R\":17, \"S\":18, \"T\":19, \"U\":20, \"V\":21, \"W\":22, \"X\":23, \"Y\":24, \"Z\":25 }\n",
        "podaci['AdmissionDx'] = podaci['AdmissionDx'].replace(mapping_admission_dx)\n",
        "\n",
        "mapping_age_group={'63-67':0, '68-72':1, '73-77':2, '58-62':3, '78-82':4, '53-57':5, '48-52':6, '83-87':7, '43-47':8, '38-42':9, '33-37':10, '28-32':11, '18-22':12, '23-27':13, '88-92':14, '93-97':15 }\n",
        "podaci['Age_Group']= podaci['Age_Group'].replace(mapping_age_group)\n",
        "\n",
        "mapping_discharge_speciality = {3010100:0, 3100400:1, 3100600:2, 3190100:3, 3190200:4 }\n",
        "podaci['Discharge_Specialty']=podaci['Discharge_Specialty'].replace(mapping_discharge_speciality)\n",
        "\n",
        "mapping_dx_discharge={\"A\":0, \"B\":1, \"C\":2, \"D\":3, \"E\":4, \"F\":5, \"G\":6, \"H\":7, \"I\":8, \"J\":9, \"K\":10, \"L\":11, \"M\":12, \"N\":13, \"O\":14, \"P\":15, \"Q\":16, \"R\":17, \"S\":18, \"T\":19, \"U\":20, \"V\":21, \"W\":22, \"X\":23, \"Y\":24, \"Z\":25 }\n",
        "podaci['Dx_Discharge']=podaci['Dx_Discharge'].replace(mapping_dx_discharge)\n",
        "\n",
        "mapping_discharge_status={'KUĆI':0,'U DRUGU STACIONARNU ZDRAVSTVENU USTANOVU ':1, 'OSTALO':2, 'LIJEČENJE OKONČANO PROTIVNO SAVJETU DOKTORA':3, 'UMRO (NIJE OBDUCIRAN)':4 }\n",
        "podaci['Discharge_Status']=podaci['Discharge_Status'].replace(mapping_discharge_status)\n",
        "\n",
        "mapping_education= {'ZAVRŠENA SREDNJA ŠKOLA':0,'ZAVRŠENO VISOKO OBRAZOVANJE':1, 'ZAVRŠENA OSNOVNA ŠKOLA':2, 'NEPOZNAT OBRAZOVNI STATUS':3, 'ZAVRŠENA VIŠA ŠKOLA':4,  'NIJE ZAVRŠILA OSNOVNU ŠKOLU':5,'NIJE POHAĐALA OSNOVNU ŠKOLU':6}\n",
        "podaci['Education']=podaci['Education'].replace(mapping_education)\n",
        "\n",
        "mapping_current_work_status={'UMIROVLJENIK':0, 'REDOVAN POSAO':1, 'NEZAPOSLEN/POVREMENI POSAO':2, 'SAMOSTALNA DJELATNOST':3, 'DOMAĆICA':4, 'NEPOZNATO':5, 'POLJOPRIVREDNIK':6, 'STUDENT':7, 'UČENIK':8}\n",
        "podaci['Current_Work_Status']=podaci['Current_Work_Status'].replace(mapping_current_work_status)\n",
        "\n"
      ]
    },
    {
      "cell_type": "markdown",
      "metadata": {
        "id": "N2tvBlNWuJAu"
      },
      "source": [
        "## MAPIRANJE BINARNIH"
      ]
    },
    {
      "cell_type": "code",
      "execution_count": null,
      "metadata": {
        "id": "pykl2kbouDxm"
      },
      "outputs": [],
      "source": [
        "mapping_gender = {\"M\": 0, \"Ž\": 1}\n",
        "mapping_admission_type={\"Hitni\":0, \"Elektivni\":1}\n",
        "\n",
        "podaci['Gender'] = podaci['Gender'].replace(mapping_gender)\n",
        "podaci['AdmissionType']=podaci['AdmissionType'].replace(mapping_admission_type)"
      ]
    },
    {
      "cell_type": "markdown",
      "metadata": {
        "id": "pG_ERGZWKWYT"
      },
      "source": [
        "#PODJELA NA X I y(Label)"
      ]
    },
    {
      "cell_type": "code",
      "execution_count": null,
      "metadata": {
        "id": "jhx6jg5MKWDN"
      },
      "outputs": [],
      "source": [
        "X_train=podaci.drop(\"Label\",axis=1)\n",
        "y_train=podaci[\"Label\"]"
      ]
    },
    {
      "cell_type": "code",
      "source": [],
      "metadata": {
        "id": "-7Yr-dU4t38y"
      },
      "execution_count": null,
      "outputs": []
    },
    {
      "cell_type": "code",
      "execution_count": null,
      "metadata": {
        "id": "-bQ-d-ElI-OG"
      },
      "outputs": [],
      "source": [
        "from sklearn.preprocessing import StandardScaler"
      ]
    },
    {
      "cell_type": "code",
      "execution_count": null,
      "metadata": {
        "id": "lcIiRupkJFWx"
      },
      "outputs": [],
      "source": [
        "scaler = StandardScaler()"
      ]
    },
    {
      "cell_type": "code",
      "execution_count": null,
      "metadata": {
        "id": "unlH1c8ImK0A"
      },
      "outputs": [],
      "source": [
        "X_train= scaler.fit_transform(X_train)"
      ]
    },
    {
      "cell_type": "markdown",
      "metadata": {
        "id": "pill0Rq3zCW2"
      },
      "source": [
        "#PRISTRANOST"
      ]
    },
    {
      "cell_type": "code",
      "execution_count": null,
      "metadata": {
        "colab": {
          "base_uri": "https://localhost:8080/"
        },
        "id": "9qRmJHH5yvk-",
        "outputId": "fe28969c-90ef-4b02-ad34-8659f68a7f8c"
      },
      "outputs": [
        {
          "output_type": "stream",
          "name": "stdout",
          "text": [
            "\n",
            "Raspodjela klasa nakon oversamplinga:\n",
            "0    26257\n",
            "1    26257\n",
            "Name: Label, dtype: int64\n"
          ]
        }
      ],
      "source": [
        "import pandas as pd\n",
        "from imblearn.over_sampling import RandomOverSampler\n",
        "\n",
        "# Provjera broja instanci po klasi\n",
        "ros = RandomOverSampler(random_state=42)\n",
        "X_train, y_train = ros.fit_resample(X_train, y_train)\n",
        "\n",
        "# Provjera raspodjele klasa nakon oversamplinga\n",
        "print(\"\\nRaspodjela klasa nakon oversamplinga:\")\n",
        "print(y_train.value_counts())\n"
      ]
    },
    {
      "cell_type": "code",
      "execution_count": null,
      "metadata": {
        "id": "LXLGIOke2IvO"
      },
      "outputs": [],
      "source": [
        "podaci.to_csv(\"train_uredeni.csv\", index=False)"
      ]
    },
    {
      "cell_type": "markdown",
      "metadata": {
        "id": "rjMcORAYD9D8"
      },
      "source": [
        "TEST"
      ]
    },
    {
      "cell_type": "code",
      "execution_count": null,
      "metadata": {
        "id": "wnDOIRoyD41s"
      },
      "outputs": [],
      "source": [
        "podaci1 = pd.read_csv(\"test.csv\")"
      ]
    },
    {
      "cell_type": "code",
      "execution_count": null,
      "metadata": {
        "colab": {
          "base_uri": "https://localhost:8080/"
        },
        "id": "yR5Le90mcPxW",
        "outputId": "0390af4f-07c4-44fe-b170-1301d80b639d"
      },
      "outputs": [
        {
          "output_type": "execute_result",
          "data": {
            "text/plain": [
              "(7336, 277)"
            ]
          },
          "metadata": {},
          "execution_count": 26
        }
      ],
      "source": [
        "podaci1.shape"
      ]
    },
    {
      "cell_type": "code",
      "execution_count": null,
      "metadata": {
        "id": "0LUK_ckDD4yT"
      },
      "outputs": [],
      "source": [
        "kolone_za_izbacivanje = [\"Label\", \"Probability_0\", \"Probability_1\",\"Unnamed: 0\"]\n",
        "\n",
        "# Izbačanje navedenih stupaca\n",
        "podaci1 = podaci1.drop(columns=kolone_za_izbacivanje)"
      ]
    },
    {
      "cell_type": "code",
      "execution_count": null,
      "metadata": {
        "id": "ZXuqrLy3EcUC"
      },
      "outputs": [],
      "source": [
        "mapping_admission_dx = {\"A\":0, \"B\":1, \"C\":2, \"D\":3, \"E\":4, \"F\":5, \"G\":6, \"H\":7, \"I\":8, \"J\":9, \"K\":10, \"L\":11, \"M\":12, \"N\":13, \"O\":14, \"P\":15, \"Q\":16, \"R\":17, \"S\":18, \"T\":19, \"U\":20, \"V\":21, \"W\":22, \"X\":23, \"Y\":24, \"Z\":25 }\n",
        "podaci1['AdmissionDx'] = podaci1['AdmissionDx'].replace(mapping_admission_dx)\n",
        "\n",
        "mapping_age_group={'63-67':0, '68-72':1, '73-77':2, '58-62':3, '78-82':4, '53-57':5, '48-52':6, '83-87':7, '43-47':8, '38-42':9, '33-37':10, '28-32':11, '18-22':12, '23-27':13, '88-92':14, '93-97':15 }\n",
        "podaci1['Age_Group']= podaci1['Age_Group'].replace(mapping_age_group)\n",
        "\n",
        "mapping_discharge_speciality = {3010100:0, 3100400:1, 3100600:2, 3190100:3, 3190200:4 }\n",
        "podaci1['Discharge_Specialty']=podaci1['Discharge_Specialty'].replace(mapping_discharge_speciality)\n",
        "\n",
        "mapping_dx_discharge={\"A\":0, \"B\":1, \"C\":2, \"D\":3, \"E\":4, \"F\":5, \"G\":6, \"H\":7, \"I\":8, \"J\":9, \"K\":10, \"L\":11, \"M\":12, \"N\":13, \"O\":14, \"P\":15, \"Q\":16, \"R\":17, \"S\":18, \"T\":19, \"U\":20, \"V\":21, \"W\":22, \"X\":23, \"Y\":24, \"Z\":25 }\n",
        "podaci1['Dx_Discharge']=podaci1['Dx_Discharge'].replace(mapping_dx_discharge)\n",
        "\n",
        "mapping_discharge_status={'KUĆI':0,'U DRUGU STACIONARNU ZDRAVSTVENU USTANOVU ':1, 'OSTALO':2, 'LIJEČENJE OKONČANO PROTIVNO SAVJETU DOKTORA':3, 'UMRO (NIJE OBDUCIRAN)':4 }\n",
        "podaci1['Discharge_Status']=podaci1['Discharge_Status'].replace(mapping_discharge_status)\n",
        "\n",
        "mapping_education= {'ZAVRŠENA SREDNJA ŠKOLA':0,'ZAVRŠENO VISOKO OBRAZOVANJE':1, 'ZAVRŠENA OSNOVNA ŠKOLA':2, 'NEPOZNAT OBRAZOVNI STATUS':3, 'ZAVRŠENA VIŠA ŠKOLA':4,  'NIJE ZAVRŠILA OSNOVNU ŠKOLU':5,'NIJE POHAĐALA OSNOVNU ŠKOLU':6}\n",
        "podaci1['Education']=podaci1['Education'].replace(mapping_education)\n",
        "\n",
        "mapping_current_work_status={'UMIROVLJENIK':0, 'REDOVAN POSAO':1, 'NEZAPOSLEN/POVREMENI POSAO':2, 'SAMOSTALNA DJELATNOST':3, 'DOMAĆICA':4, 'NEPOZNATO':5, 'POLJOPRIVREDNIK':6, 'STUDENT':7, 'UČENIK':8}\n",
        "podaci1['Current_Work_Status']=podaci1['Current_Work_Status'].replace(mapping_current_work_status)\n",
        "\n"
      ]
    },
    {
      "cell_type": "code",
      "execution_count": null,
      "metadata": {
        "id": "O8snagRPEqc8"
      },
      "outputs": [],
      "source": [
        "mapping_gender = {\"M\": 0, \"Ž\": 1}\n",
        "mapping_admission_type={\"Hitni\":0, \"Elektivni\":1}\n",
        "\n",
        "podaci1['Gender'] = podaci1['Gender'].replace(mapping_gender)\n",
        "podaci1['AdmissionType']=podaci1['AdmissionType'].replace(mapping_admission_type)"
      ]
    },
    {
      "cell_type": "code",
      "execution_count": null,
      "metadata": {
        "colab": {
          "base_uri": "https://localhost:8080/"
        },
        "id": "F0RGR7SSeCB9",
        "outputId": "ad28dde5-66e1-4169-d57d-5ab5d4eda286"
      },
      "outputs": [
        {
          "output_type": "stream",
          "name": "stdout",
          "text": [
            "['AdmissionDx', 'Education', 'Current_Work_Status']\n"
          ]
        }
      ],
      "source": [
        "columns_with_nans = podaci1.columns[podaci1.isna().any()].tolist()\n",
        "print(columns_with_nans)"
      ]
    },
    {
      "cell_type": "code",
      "source": [],
      "metadata": {
        "id": "RfmjadLl743b"
      },
      "execution_count": null,
      "outputs": []
    },
    {
      "cell_type": "code",
      "execution_count": null,
      "metadata": {
        "id": "sU7yCd2eerpC"
      },
      "outputs": [],
      "source": [
        "from sklearn.linear_model import LinearRegression\n",
        "import pandas as pd\n",
        "import numpy as np\n",
        "\n",
        "# Podijela podataka na skupove s poznatim i nepoznatim vrijednostima u AdmissionDx\n",
        "known_data = podaci1.dropna(subset=['AdmissionDx'])\n",
        "unknown_data = podaci1[podaci1['AdmissionDx'].isna()]\n",
        "\n",
        "# Definiranje ulaznih i ciljnih varijabli za trening\n",
        "X_train_pomocni = known_data.drop(columns=['AdmissionDx', 'Education', 'Current_Work_Status'])\n",
        "y_train_pomocni = known_data['AdmissionDx']\n",
        "\n",
        "# Stvaranje i treniranje modela\n",
        "model = LinearRegression()\n",
        "model.fit(X_train_pomocni, y_train_pomocni)\n",
        "\n",
        "# Predviđanje nedostajućih vrijednosti\n",
        "X_unknown = unknown_data.drop(columns=['AdmissionDx', 'Education', 'Current_Work_Status'])\n",
        "predicted_values = model.predict(X_unknown)\n",
        "\n",
        "# Zamjena nedostajućih vrijednosti s predviđenim vrijednostima\n",
        "podaci1.loc[podaci1['AdmissionDx'].isna(), 'AdmissionDx'] = predicted_values\n",
        "\n"
      ]
    },
    {
      "cell_type": "code",
      "execution_count": null,
      "metadata": {
        "id": "KQgAuaYIjcIE"
      },
      "outputs": [],
      "source": [
        "from sklearn.linear_model import LinearRegression\n",
        "import pandas as pd\n",
        "import numpy as np\n",
        "\n",
        "# Podijela podataka na skupove s poznatim i nepoznatim vrijednostima u AdmissionDx\n",
        "known_data = podaci1.dropna(subset=['Education'])\n",
        "unknown_data = podaci1[podaci1['Education'].isna()]\n",
        "\n",
        "# Definiranje ulaznih i ciljnih varijabli za trening\n",
        "X_train_pomocni = known_data.drop(columns=['Education', 'AdmissionDx', 'Current_Work_Status'])\n",
        "y_train_pomocni = known_data['Education']\n",
        "\n",
        "# Stvaranje i treniranje modela\n",
        "model = LinearRegression()\n",
        "model.fit(X_train_pomocni, y_train_pomocni)\n",
        "\n",
        "# Predviđanje nedostajućih vrijednosti\n",
        "X_unknown = unknown_data.drop(columns=['Education', 'AdmissionDx', 'Current_Work_Status'])\n",
        "predicted_values = model.predict(X_unknown)\n",
        "\n",
        "# Zamjena nedostajućih vrijednosti s predviđenim vrijednostima\n",
        "podaci1.loc[podaci1['Education'].isna(), 'Education'] = predicted_values\n",
        "\n"
      ]
    },
    {
      "cell_type": "code",
      "execution_count": null,
      "metadata": {
        "id": "OZB2V3-ojcEc"
      },
      "outputs": [],
      "source": [
        "from sklearn.linear_model import LinearRegression\n",
        "import pandas as pd\n",
        "import numpy as np\n",
        "\n",
        "# Podijela podataka na skupove s poznatim i nepoznatim vrijednostima u AdmissionDx\n",
        "known_data = podaci1.dropna(subset=['Current_Work_Status'])\n",
        "unknown_data = podaci1[podaci1['Current_Work_Status'].isna()]\n",
        "\n",
        "# Definiranje ulaznih i ciljnih varijabli za trening\n",
        "X_train_pomocni = known_data.drop(columns=['AdmissionDx', 'Education', 'Current_Work_Status'])\n",
        "y_train_pomocni = known_data['Current_Work_Status']\n",
        "\n",
        "# Stvaranje i treniranje modela\n",
        "model = LinearRegression()\n",
        "model.fit(X_train_pomocni, y_train_pomocni)\n",
        "\n",
        "# Predviđanje nedostajućih vrijednosti\n",
        "X_unknown = unknown_data.drop(columns=['AdmissionDx', 'Education', 'Current_Work_Status'])\n",
        "predicted_values = model.predict(X_unknown)\n",
        "\n",
        "# Zamjena nedostajućih vrijednosti s predviđenim vrijednostima\n",
        "podaci1.loc[podaci1['Current_Work_Status'].isna(), 'Current_Work_Status'] = predicted_values\n",
        "\n"
      ]
    },
    {
      "cell_type": "code",
      "execution_count": null,
      "metadata": {
        "colab": {
          "base_uri": "https://localhost:8080/"
        },
        "id": "O9EevsGojbQB",
        "outputId": "4cf52466-5ef4-4b94-9795-82c887e51c26"
      },
      "outputs": [
        {
          "output_type": "stream",
          "name": "stdout",
          "text": [
            "[]\n"
          ]
        }
      ],
      "source": [
        "columns_with_nans = podaci1.columns[podaci1.isna().any()].tolist()\n",
        "print(columns_with_nans)"
      ]
    },
    {
      "cell_type": "code",
      "execution_count": null,
      "metadata": {
        "id": "sbExIGzfoFEb"
      },
      "outputs": [],
      "source": [
        "X_test = scaler.fit_transform(podaci1)"
      ]
    },
    {
      "cell_type": "code",
      "execution_count": null,
      "metadata": {
        "colab": {
          "base_uri": "https://localhost:8080/"
        },
        "id": "78nIToLW6S__",
        "outputId": "1b402db2-2415-416d-9856-33b190203313"
      },
      "outputs": [
        {
          "output_type": "execute_result",
          "data": {
            "text/plain": [
              "(7336, 273)"
            ]
          },
          "metadata": {},
          "execution_count": 36
        }
      ],
      "source": [
        "X_test.shape"
      ]
    },
    {
      "cell_type": "markdown",
      "metadata": {
        "id": "NPIdEfqhIyon"
      },
      "source": [
        "STATISTICKA ZNACAJNOST PROVJERITI"
      ]
    },
    {
      "cell_type": "code",
      "execution_count": null,
      "metadata": {
        "colab": {
          "base_uri": "https://localhost:8080/"
        },
        "id": "8Bh_TAbPIXcF",
        "outputId": "337c6ed3-914c-43ce-9307-ba57421923d7"
      },
      "outputs": [
        {
          "output_type": "stream",
          "name": "stdout",
          "text": [
            "Stupac 0: t_stat = -10.32, p_value = 0.00\n",
            "Stupac 1: t_stat = -13.23, p_value = 0.00\n",
            "Stupac 2: t_stat = -23.38, p_value = 0.00\n",
            "Stupac 6: t_stat = -5.93, p_value = 0.00\n",
            "Stupac 10: t_stat = 15.58, p_value = 0.00\n",
            "Stupac 11: t_stat = -4.73, p_value = 0.00\n",
            "Stupac 12: t_stat = -5.29, p_value = 0.00\n",
            "Stupac 16: t_stat = 2.76, p_value = 0.01\n",
            "Stupac 19: t_stat = -3.37, p_value = 0.00\n",
            "Stupac 28: t_stat = 2.44, p_value = 0.01\n",
            "Stupac 29: t_stat = -2.19, p_value = 0.03\n",
            "Stupac 40: t_stat = -2.67, p_value = 0.01\n",
            "Stupac 41: t_stat = -2.63, p_value = 0.01\n",
            "Stupac 43: t_stat = -2.71, p_value = 0.01\n",
            "Stupac 44: t_stat = -3.47, p_value = 0.00\n",
            "Stupac 45: t_stat = -4.54, p_value = 0.00\n",
            "Stupac 46: t_stat = 2.30, p_value = 0.02\n",
            "Stupac 52: t_stat = -1.96, p_value = 0.05\n",
            "Stupac 77: t_stat = 4.41, p_value = 0.00\n",
            "Stupac 83: t_stat = -3.58, p_value = 0.00\n",
            "Stupac 85: t_stat = -4.35, p_value = 0.00\n",
            "Stupac 86: t_stat = -2.59, p_value = 0.01\n",
            "Stupac 99: t_stat = 2.38, p_value = 0.02\n",
            "Stupac 101: t_stat = 2.95, p_value = 0.00\n",
            "Stupac 110: t_stat = 3.03, p_value = 0.00\n",
            "Stupac 122: t_stat = -2.27, p_value = 0.02\n",
            "Stupac 126: t_stat = 4.62, p_value = 0.00\n",
            "Stupac 127: t_stat = 2.33, p_value = 0.02\n",
            "Stupac 129: t_stat = -2.11, p_value = 0.03\n",
            "Stupac 136: t_stat = -3.22, p_value = 0.00\n",
            "Stupac 146: t_stat = -2.34, p_value = 0.02\n",
            "Stupac 148: t_stat = -3.44, p_value = 0.00\n",
            "Stupac 152: t_stat = -5.69, p_value = 0.00\n",
            "Stupac 160: t_stat = -2.39, p_value = 0.02\n",
            "Stupac 173: t_stat = 2.17, p_value = 0.03\n",
            "Stupac 177: t_stat = -2.48, p_value = 0.01\n",
            "Stupac 183: t_stat = -2.32, p_value = 0.02\n",
            "Stupac 194: t_stat = -3.81, p_value = 0.00\n",
            "Stupac 195: t_stat = -4.23, p_value = 0.00\n",
            "Stupac 200: t_stat = -2.00, p_value = 0.05\n",
            "Stupac 201: t_stat = -2.40, p_value = 0.02\n",
            "Stupac 206: t_stat = -2.57, p_value = 0.01\n",
            "Stupac 207: t_stat = -3.42, p_value = 0.00\n",
            "Stupac 210: t_stat = -2.19, p_value = 0.03\n",
            "Stupac 229: t_stat = 2.09, p_value = 0.04\n",
            "Stupac 230: t_stat = 3.71, p_value = 0.00\n",
            "Stupac 232: t_stat = -3.00, p_value = 0.00\n",
            "Stupac 234: t_stat = -2.98, p_value = 0.00\n",
            "Stupac 235: t_stat = -4.55, p_value = 0.00\n",
            "Stupac 239: t_stat = 2.01, p_value = 0.04\n",
            "Stupac 241: t_stat = 2.24, p_value = 0.03\n",
            "Stupac 248: t_stat = -6.97, p_value = 0.00\n",
            "Stupac 249: t_stat = -1.97, p_value = 0.05\n",
            "Stupac 256: t_stat = -2.40, p_value = 0.02\n",
            "Stupac 257: t_stat = 2.12, p_value = 0.03\n",
            "Stupac 260: t_stat = 5.39, p_value = 0.00\n",
            "Stupac 262: t_stat = 2.12, p_value = 0.03\n",
            "Stupac 264: t_stat = -2.26, p_value = 0.02\n",
            "Stupac 272: t_stat = -10.24, p_value = 0.00\n",
            "Statistički značajni stupci: [0, 1, 2, 6, 10, 11, 12, 16, 19, 28, 29, 40, 41, 43, 44, 45, 46, 52, 77, 83, 85, 86, 99, 101, 110, 122, 126, 127, 129, 136, 146, 148, 152, 160, 173, 177, 183, 194, 195, 200, 201, 206, 207, 210, 229, 230, 232, 234, 235, 239, 241, 248, 249, 256, 257, 260, 262, 264, 272]\n",
            "59\n"
          ]
        }
      ],
      "source": [
        "import numpy as np\n",
        "from scipy import stats\n",
        "\n",
        "# Pretpostavimo da su X_train i X_test vaši skupovi podataka\n",
        "\n",
        "# Inicijalizacija liste za čuvanje indeksa statistički značajnih stupaca\n",
        "significant_columns = []\n",
        "\n",
        "# Iteriramo kroz sve stupce\n",
        "for i in range(X_train.shape[1]):\n",
        "    # Izdvajamo vrijednosti za treniranje i testiranje\n",
        "    train_values = X_train[:, i]\n",
        "    test_values = X_test[:, i]\n",
        "\n",
        "    # Izračunavamo t-test za nezavisne uzorke\n",
        "    t_stat, p_value = stats.ttest_ind(train_values, test_values)\n",
        "\n",
        "    # Postavljamo pragu značajnosti na 0.05\n",
        "    if p_value < 0.05:\n",
        "        significant_columns.append(i)\n",
        "        print(f\"Stupac {i}: t_stat = {t_stat:.2f}, p_value = {p_value:.2f}\")\n",
        "\n",
        "# Ispisujemo indekse statistički značajnih stupaca\n",
        "print(\"Statistički značajni stupci:\", significant_columns)\n",
        "print(len(significant_columns))"
      ]
    },
    {
      "cell_type": "code",
      "source": [
        "pip install catboost"
      ],
      "metadata": {
        "colab": {
          "base_uri": "https://localhost:8080/"
        },
        "id": "HpuPm-R5Kpfr",
        "outputId": "e34aa99e-98a6-4b0d-a31f-f228307a2d8f"
      },
      "execution_count": null,
      "outputs": [
        {
          "output_type": "stream",
          "name": "stdout",
          "text": [
            "Collecting catboost\n",
            "  Downloading catboost-1.2.3-cp310-cp310-manylinux2014_x86_64.whl (98.5 MB)\n",
            "\u001b[2K     \u001b[90m━━━━━━━━━━━━━━━━━━━━━━━━━━━━━━━━━━━━━━━━\u001b[0m \u001b[32m98.5/98.5 MB\u001b[0m \u001b[31m2.2 MB/s\u001b[0m eta \u001b[36m0:00:00\u001b[0m\n",
            "\u001b[?25hRequirement already satisfied: graphviz in /usr/local/lib/python3.10/dist-packages (from catboost) (0.20.1)\n",
            "Requirement already satisfied: matplotlib in /usr/local/lib/python3.10/dist-packages (from catboost) (3.7.1)\n",
            "Requirement already satisfied: numpy>=1.16.0 in /usr/local/lib/python3.10/dist-packages (from catboost) (1.25.2)\n",
            "Requirement already satisfied: pandas>=0.24 in /usr/local/lib/python3.10/dist-packages (from catboost) (1.5.3)\n",
            "Requirement already satisfied: scipy in /usr/local/lib/python3.10/dist-packages (from catboost) (1.11.4)\n",
            "Requirement already satisfied: plotly in /usr/local/lib/python3.10/dist-packages (from catboost) (5.15.0)\n",
            "Requirement already satisfied: six in /usr/local/lib/python3.10/dist-packages (from catboost) (1.16.0)\n",
            "Requirement already satisfied: python-dateutil>=2.8.1 in /usr/local/lib/python3.10/dist-packages (from pandas>=0.24->catboost) (2.8.2)\n",
            "Requirement already satisfied: pytz>=2020.1 in /usr/local/lib/python3.10/dist-packages (from pandas>=0.24->catboost) (2023.4)\n",
            "Requirement already satisfied: contourpy>=1.0.1 in /usr/local/lib/python3.10/dist-packages (from matplotlib->catboost) (1.2.0)\n",
            "Requirement already satisfied: cycler>=0.10 in /usr/local/lib/python3.10/dist-packages (from matplotlib->catboost) (0.12.1)\n",
            "Requirement already satisfied: fonttools>=4.22.0 in /usr/local/lib/python3.10/dist-packages (from matplotlib->catboost) (4.49.0)\n",
            "Requirement already satisfied: kiwisolver>=1.0.1 in /usr/local/lib/python3.10/dist-packages (from matplotlib->catboost) (1.4.5)\n",
            "Requirement already satisfied: packaging>=20.0 in /usr/local/lib/python3.10/dist-packages (from matplotlib->catboost) (23.2)\n",
            "Requirement already satisfied: pillow>=6.2.0 in /usr/local/lib/python3.10/dist-packages (from matplotlib->catboost) (9.4.0)\n",
            "Requirement already satisfied: pyparsing>=2.3.1 in /usr/local/lib/python3.10/dist-packages (from matplotlib->catboost) (3.1.1)\n",
            "Requirement already satisfied: tenacity>=6.2.0 in /usr/local/lib/python3.10/dist-packages (from plotly->catboost) (8.2.3)\n",
            "Installing collected packages: catboost\n",
            "Successfully installed catboost-1.2.3\n"
          ]
        }
      ]
    },
    {
      "cell_type": "code",
      "execution_count": null,
      "metadata": {
        "id": "_HHddDUwwxCN"
      },
      "outputs": [],
      "source": [
        "from catboost import CatBoostClassifier\n",
        "from sklearn.metrics import matthews_corrcoef\n",
        "\n",
        "# Inicijalizacija CatBoost modela s najboljim parametrima i dodanom regularizacijom\n",
        "catboost_model_regularized = CatBoostClassifier(iterations=300,\n",
        "                                                depth=8,\n",
        "                                                learning_rate=0.2,\n",
        "                                                l2_leaf_reg=1,\n",
        "                                                rsm=0.8,  # Smanjujemo udio značajki po stablu\n",
        "                                                random_seed=42,\n",
        "                                                logging_level='Silent',\n",
        "                                                eval_metric='MCC'  # Postavljamo metriku evaluacije na MCC\n",
        "                                                )\n",
        "\n",
        "# Treniranje CatBoost modela na trening podacima\n",
        "catboost_model_regularized.fit(X_train, y_train)\n",
        "\n",
        "# Izračunavanje vjerojatnosti za svaku klasu za svaki primjer u testnom skupu\n",
        "probabilities = catboost_model_regularized.predict_proba(X_test)\n",
        "\n"
      ]
    },
    {
      "cell_type": "code",
      "source": [],
      "metadata": {
        "id": "DU2o_3Dbmk22"
      },
      "execution_count": null,
      "outputs": []
    },
    {
      "cell_type": "code",
      "source": [
        "# Predikcija klasa\n",
        "predictions = catboost_model_regularized.predict(X_test)\n"
      ],
      "metadata": {
        "id": "QIyawuWeM4hx"
      },
      "execution_count": null,
      "outputs": []
    },
    {
      "cell_type": "code",
      "source": [
        "predictions.shape"
      ],
      "metadata": {
        "id": "X5FPMcPyNQQ7",
        "outputId": "0a30fb0a-91fe-42bc-8e28-94d060040fee",
        "colab": {
          "base_uri": "https://localhost:8080/"
        }
      },
      "execution_count": null,
      "outputs": [
        {
          "output_type": "execute_result",
          "data": {
            "text/plain": [
              "(7336,)"
            ]
          },
          "metadata": {},
          "execution_count": 41
        }
      ]
    },
    {
      "cell_type": "code",
      "source": [
        "# Izračunavanje broja jedinica u predictions\n",
        "num_ones = sum(predictions)\n",
        "\n",
        "# Ispis broja jedinica\n",
        "print(\"Broj jedinica u predictions:\", num_ones)\n"
      ],
      "metadata": {
        "colab": {
          "base_uri": "https://localhost:8080/"
        },
        "id": "okoYuRMdmtcY",
        "outputId": "143f2553-6984-4e86-ca4b-27b469d17c5d"
      },
      "execution_count": null,
      "outputs": [
        {
          "output_type": "stream",
          "name": "stdout",
          "text": [
            "Broj jedinica u predictions: 385\n"
          ]
        }
      ]
    }
  ],
  "metadata": {
    "colab": {
      "provenance": [],
      "gpuType": "T4"
    },
    "kernelspec": {
      "display_name": "Python 3",
      "name": "python3"
    },
    "language_info": {
      "name": "python"
    },
    "accelerator": "GPU"
  },
  "nbformat": 4,
  "nbformat_minor": 0
}